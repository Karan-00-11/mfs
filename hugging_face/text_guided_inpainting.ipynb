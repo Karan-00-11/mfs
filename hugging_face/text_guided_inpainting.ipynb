{
 "cells": [
  {
   "cell_type": "code",
   "execution_count": 23,
   "metadata": {},
   "outputs": [
    {
     "name": "stdout",
     "output_type": "stream",
     "text": [
      "Tue Aug  1 08:57:27 2023       \n",
      "+-----------------------------------------------------------------------------+\n",
      "| NVIDIA-SMI 528.24       Driver Version: 528.24       CUDA Version: 12.0     |\n",
      "|-------------------------------+----------------------+----------------------+\n",
      "| GPU  Name            TCC/WDDM | Bus-Id        Disp.A | Volatile Uncorr. ECC |\n",
      "| Fan  Temp  Perf  Pwr:Usage/Cap|         Memory-Usage | GPU-Util  Compute M. |\n",
      "|                               |                      |               MIG M. |\n",
      "|===============================+======================+======================|\n",
      "|   0  NVIDIA GeForce ... WDDM  | 00000000:01:00.0 Off |                  N/A |\n",
      "|  0%   37C    P8    10W / 350W |      0MiB / 24576MiB |      0%      Default |\n",
      "|                               |                      |                  N/A |\n",
      "+-------------------------------+----------------------+----------------------+\n",
      "                                                                               \n",
      "+-----------------------------------------------------------------------------+\n",
      "| Processes:                                                                  |\n",
      "|  GPU   GI   CI        PID   Type   Process name                  GPU Memory |\n",
      "|        ID   ID                                                   Usage      |\n",
      "|=============================================================================|\n",
      "|  No running processes found                                                 |\n",
      "+-----------------------------------------------------------------------------+\n"
     ]
    }
   ],
   "source": [
    "!nvidia-smi"
   ]
  },
  {
   "cell_type": "code",
   "execution_count": 22,
   "metadata": {},
   "outputs": [
    {
     "name": "stdout",
     "output_type": "stream",
     "text": [
      "Collecting diffusers==0.11.1\n",
      "  Using cached diffusers-0.11.1-py3-none-any.whl (524 kB)\n",
      "Requirement already satisfied: importlib-metadata in c:\\users\\daai.desktop-128vds1\\anaconda3\\lib\\site-packages (from diffusers==0.11.1) (4.11.3)\n",
      "Requirement already satisfied: requests in c:\\users\\daai.desktop-128vds1\\anaconda3\\lib\\site-packages (from diffusers==0.11.1) (2.28.1)\n",
      "Requirement already satisfied: huggingface-hub>=0.10.0 in c:\\users\\daai.desktop-128vds1\\anaconda3\\lib\\site-packages (from diffusers==0.11.1) (0.16.4)\n",
      "Requirement already satisfied: filelock in c:\\users\\daai.desktop-128vds1\\anaconda3\\lib\\site-packages (from diffusers==0.11.1) (3.9.0)\n",
      "Requirement already satisfied: Pillow in c:\\users\\daai.desktop-128vds1\\anaconda3\\lib\\site-packages (from diffusers==0.11.1) (9.3.0)\n",
      "Requirement already satisfied: regex!=2019.12.17 in c:\\users\\daai.desktop-128vds1\\anaconda3\\lib\\site-packages (from diffusers==0.11.1) (2022.7.9)\n",
      "Requirement already satisfied: numpy in c:\\users\\daai.desktop-128vds1\\anaconda3\\lib\\site-packages (from diffusers==0.11.1) (1.23.5)\n",
      "Requirement already satisfied: tqdm>=4.42.1 in c:\\users\\daai.desktop-128vds1\\anaconda3\\lib\\site-packages (from huggingface-hub>=0.10.0->diffusers==0.11.1) (4.64.1)\n",
      "Requirement already satisfied: fsspec in c:\\users\\daai.desktop-128vds1\\anaconda3\\lib\\site-packages (from huggingface-hub>=0.10.0->diffusers==0.11.1) (2023.4.0)\n",
      "Requirement already satisfied: typing-extensions>=3.7.4.3 in c:\\users\\daai.desktop-128vds1\\anaconda3\\lib\\site-packages (from huggingface-hub>=0.10.0->diffusers==0.11.1) (4.7.1)\n",
      "Requirement already satisfied: packaging>=20.9 in c:\\users\\daai.desktop-128vds1\\anaconda3\\lib\\site-packages (from huggingface-hub>=0.10.0->diffusers==0.11.1) (22.0)\n",
      "Requirement already satisfied: pyyaml>=5.1 in c:\\users\\daai.desktop-128vds1\\anaconda3\\lib\\site-packages (from huggingface-hub>=0.10.0->diffusers==0.11.1) (6.0)\n",
      "Requirement already satisfied: zipp>=0.5 in c:\\users\\daai.desktop-128vds1\\anaconda3\\lib\\site-packages (from importlib-metadata->diffusers==0.11.1) (3.11.0)\n",
      "Requirement already satisfied: urllib3<1.27,>=1.21.1 in c:\\users\\daai.desktop-128vds1\\anaconda3\\lib\\site-packages (from requests->diffusers==0.11.1) (1.26.13)\n",
      "Requirement already satisfied: idna<4,>=2.5 in c:\\users\\daai.desktop-128vds1\\anaconda3\\lib\\site-packages (from requests->diffusers==0.11.1) (3.4)\n",
      "Requirement already satisfied: charset-normalizer<3,>=2 in c:\\users\\daai.desktop-128vds1\\anaconda3\\lib\\site-packages (from requests->diffusers==0.11.1) (2.1.1)\n",
      "Requirement already satisfied: certifi>=2017.4.17 in c:\\users\\daai.desktop-128vds1\\anaconda3\\lib\\site-packages (from requests->diffusers==0.11.1) (2023.7.22)\n",
      "Requirement already satisfied: colorama in c:\\users\\daai.desktop-128vds1\\anaconda3\\lib\\site-packages (from tqdm>=4.42.1->huggingface-hub>=0.10.0->diffusers==0.11.1) (0.4.6)\n",
      "Installing collected packages: diffusers\n",
      "  Attempting uninstall: diffusers\n",
      "    Found existing installation: diffusers 0.19.3\n",
      "    Uninstalling diffusers-0.19.3:\n",
      "      Successfully uninstalled diffusers-0.19.3\n",
      "Successfully installed diffusers-0.11.1\n",
      "Requirement already satisfied: transformers in c:\\users\\daai.desktop-128vds1\\anaconda3\\lib\\site-packages (4.31.0)\n",
      "Requirement already satisfied: scipy in c:\\users\\daai.desktop-128vds1\\anaconda3\\lib\\site-packages (1.11.1)\n",
      "Requirement already satisfied: ftfy in c:\\users\\daai.desktop-128vds1\\anaconda3\\lib\\site-packages (6.1.1)\n",
      "Requirement already satisfied: accelerate in c:\\users\\daai.desktop-128vds1\\anaconda3\\lib\\site-packages (0.21.0)\n",
      "Requirement already satisfied: packaging>=20.0 in c:\\users\\daai.desktop-128vds1\\anaconda3\\lib\\site-packages (from transformers) (22.0)\n",
      "Requirement already satisfied: pyyaml>=5.1 in c:\\users\\daai.desktop-128vds1\\anaconda3\\lib\\site-packages (from transformers) (6.0)\n",
      "Requirement already satisfied: tqdm>=4.27 in c:\\users\\daai.desktop-128vds1\\anaconda3\\lib\\site-packages (from transformers) (4.64.1)\n",
      "Requirement already satisfied: regex!=2019.12.17 in c:\\users\\daai.desktop-128vds1\\anaconda3\\lib\\site-packages (from transformers) (2022.7.9)\n",
      "Requirement already satisfied: filelock in c:\\users\\daai.desktop-128vds1\\anaconda3\\lib\\site-packages (from transformers) (3.9.0)\n",
      "Requirement already satisfied: huggingface-hub<1.0,>=0.14.1 in c:\\users\\daai.desktop-128vds1\\anaconda3\\lib\\site-packages (from transformers) (0.16.4)\n",
      "Requirement already satisfied: tokenizers!=0.11.3,<0.14,>=0.11.1 in c:\\users\\daai.desktop-128vds1\\anaconda3\\lib\\site-packages (from transformers) (0.11.4)\n",
      "Requirement already satisfied: numpy>=1.17 in c:\\users\\daai.desktop-128vds1\\anaconda3\\lib\\site-packages (from transformers) (1.23.5)\n",
      "Requirement already satisfied: safetensors>=0.3.1 in c:\\users\\daai.desktop-128vds1\\anaconda3\\lib\\site-packages (from transformers) (0.3.1)\n",
      "Requirement already satisfied: requests in c:\\users\\daai.desktop-128vds1\\anaconda3\\lib\\site-packages (from transformers) (2.28.1)\n",
      "Requirement already satisfied: wcwidth>=0.2.5 in c:\\users\\daai.desktop-128vds1\\anaconda3\\lib\\site-packages (from ftfy) (0.2.5)\n",
      "Requirement already satisfied: psutil in c:\\users\\daai.desktop-128vds1\\anaconda3\\lib\\site-packages (from accelerate) (5.9.0)\n",
      "Requirement already satisfied: torch>=1.10.0 in c:\\users\\daai.desktop-128vds1\\anaconda3\\lib\\site-packages (from accelerate) (2.1.0.dev20230523+cu117)\n",
      "Requirement already satisfied: fsspec in c:\\users\\daai.desktop-128vds1\\anaconda3\\lib\\site-packages (from huggingface-hub<1.0,>=0.14.1->transformers) (2023.4.0)\n",
      "Requirement already satisfied: typing-extensions>=3.7.4.3 in c:\\users\\daai.desktop-128vds1\\anaconda3\\lib\\site-packages (from huggingface-hub<1.0,>=0.14.1->transformers) (4.7.1)\n",
      "Requirement already satisfied: jinja2 in c:\\users\\daai.desktop-128vds1\\anaconda3\\lib\\site-packages (from torch>=1.10.0->accelerate) (3.1.2)\n",
      "Requirement already satisfied: sympy in c:\\users\\daai.desktop-128vds1\\anaconda3\\lib\\site-packages (from torch>=1.10.0->accelerate) (1.11.1)\n",
      "Requirement already satisfied: networkx in c:\\users\\daai.desktop-128vds1\\anaconda3\\lib\\site-packages (from torch>=1.10.0->accelerate) (3.0rc1)\n",
      "Requirement already satisfied: colorama in c:\\users\\daai.desktop-128vds1\\anaconda3\\lib\\site-packages (from tqdm>=4.27->transformers) (0.4.6)\n",
      "Requirement already satisfied: certifi>=2017.4.17 in c:\\users\\daai.desktop-128vds1\\anaconda3\\lib\\site-packages (from requests->transformers) (2023.7.22)\n",
      "Requirement already satisfied: charset-normalizer<3,>=2 in c:\\users\\daai.desktop-128vds1\\anaconda3\\lib\\site-packages (from requests->transformers) (2.1.1)\n",
      "Requirement already satisfied: urllib3<1.27,>=1.21.1 in c:\\users\\daai.desktop-128vds1\\anaconda3\\lib\\site-packages (from requests->transformers) (1.26.13)\n",
      "Requirement already satisfied: idna<4,>=2.5 in c:\\users\\daai.desktop-128vds1\\anaconda3\\lib\\site-packages (from requests->transformers) (3.4)\n",
      "Requirement already satisfied: MarkupSafe>=2.0 in c:\\users\\daai.desktop-128vds1\\anaconda3\\lib\\site-packages (from jinja2->torch>=1.10.0->accelerate) (2.1.2)\n",
      "Requirement already satisfied: mpmath>=0.19 in c:\\users\\daai.desktop-128vds1\\anaconda3\\lib\\site-packages (from sympy->torch>=1.10.0->accelerate) (1.2.1)\n"
     ]
    }
   ],
   "source": [
    "!pip install diffusers==0.11.1\n",
    "!pip install transformers scipy ftfy accelerate"
   ]
  },
  {
   "cell_type": "code",
   "execution_count": 24,
   "metadata": {},
   "outputs": [
    {
     "ename": "OSError",
     "evalue": "[WinError 127] The specified procedure could not be found. Error loading \"c:\\Users\\DAAI.DESKTOP-128VDS1\\anaconda3\\lib\\site-packages\\torch\\lib\\nvfuser_codegen.dll\" or one of its dependencies.",
     "output_type": "error",
     "traceback": [
      "\u001b[1;31m---------------------------------------------------------------------------\u001b[0m",
      "\u001b[1;31mOSError\u001b[0m                                   Traceback (most recent call last)",
      "Cell \u001b[1;32mIn[24], line 1\u001b[0m\n\u001b[1;32m----> 1\u001b[0m \u001b[39mimport\u001b[39;00m \u001b[39mtorch\u001b[39;00m\n\u001b[0;32m      2\u001b[0m \u001b[39mfrom\u001b[39;00m \u001b[39mdiffusers\u001b[39;00m \u001b[39mimport\u001b[39;00m StableDiffusionPipeline\n\u001b[0;32m      4\u001b[0m pipe \u001b[39m=\u001b[39m StableDiffusionPipeline\u001b[39m.\u001b[39mfrom_pretrained(\u001b[39m\"\u001b[39m\u001b[39mCompVis/stable-diffusion-v1-4\u001b[39m\u001b[39m\"\u001b[39m, torch_dtype\u001b[39m=\u001b[39mtorch\u001b[39m.\u001b[39mfloat16)\n",
      "File \u001b[1;32mc:\\Users\\DAAI.DESKTOP-128VDS1\\anaconda3\\lib\\site-packages\\torch\\__init__.py:122\u001b[0m\n\u001b[0;32m    120\u001b[0m     err \u001b[39m=\u001b[39m ctypes\u001b[39m.\u001b[39mWinError(last_error)\n\u001b[0;32m    121\u001b[0m     err\u001b[39m.\u001b[39mstrerror \u001b[39m+\u001b[39m\u001b[39m=\u001b[39m \u001b[39mf\u001b[39m\u001b[39m'\u001b[39m\u001b[39m Error loading \u001b[39m\u001b[39m\"\u001b[39m\u001b[39m{\u001b[39;00mdll\u001b[39m}\u001b[39;00m\u001b[39m\"\u001b[39m\u001b[39m or one of its dependencies.\u001b[39m\u001b[39m'\u001b[39m\n\u001b[1;32m--> 122\u001b[0m     \u001b[39mraise\u001b[39;00m err\n\u001b[0;32m    123\u001b[0m \u001b[39melif\u001b[39;00m res \u001b[39mis\u001b[39;00m \u001b[39mnot\u001b[39;00m \u001b[39mNone\u001b[39;00m:\n\u001b[0;32m    124\u001b[0m     is_loaded \u001b[39m=\u001b[39m \u001b[39mTrue\u001b[39;00m\n",
      "\u001b[1;31mOSError\u001b[0m: [WinError 127] The specified procedure could not be found. Error loading \"c:\\Users\\DAAI.DESKTOP-128VDS1\\anaconda3\\lib\\site-packages\\torch\\lib\\nvfuser_codegen.dll\" or one of its dependencies."
     ]
    }
   ],
   "source": [
    "import torch\n",
    "from diffusers import StableDiffusionPipeline\n",
    "\n",
    "pipe = StableDiffusionPipeline.from_pretrained(\"CompVis/stable-diffusion-v1-4\", torch_dtype=torch.float16)  "
   ]
  },
  {
   "cell_type": "code",
   "execution_count": 21,
   "metadata": {},
   "outputs": [
    {
     "ename": "OSError",
     "evalue": "[WinError 127] The specified procedure could not be found. Error loading \"c:\\Users\\DAAI.DESKTOP-128VDS1\\anaconda3\\lib\\site-packages\\torch\\lib\\nvfuser_codegen.dll\" or one of its dependencies.",
     "output_type": "error",
     "traceback": [
      "\u001b[1;31m---------------------------------------------------------------------------\u001b[0m",
      "\u001b[1;31mOSError\u001b[0m                                   Traceback (most recent call last)",
      "Cell \u001b[1;32mIn[21], line 5\u001b[0m\n\u001b[0;32m      2\u001b[0m \u001b[39mfrom\u001b[39;00m \u001b[39mtyping\u001b[39;00m \u001b[39mimport\u001b[39;00m List, Optional, Union\n\u001b[0;32m      4\u001b[0m \u001b[39mimport\u001b[39;00m \u001b[39mnumpy\u001b[39;00m \u001b[39mas\u001b[39;00m \u001b[39mnp\u001b[39;00m\n\u001b[1;32m----> 5\u001b[0m \u001b[39mimport\u001b[39;00m \u001b[39mtorch\u001b[39;00m\n\u001b[0;32m      7\u001b[0m \u001b[39mimport\u001b[39;00m \u001b[39mPIL\u001b[39;00m\n\u001b[0;32m      8\u001b[0m \u001b[39mimport\u001b[39;00m \u001b[39mgradio\u001b[39;00m \u001b[39mas\u001b[39;00m \u001b[39mgr\u001b[39;00m\n",
      "File \u001b[1;32mc:\\Users\\DAAI.DESKTOP-128VDS1\\anaconda3\\lib\\site-packages\\torch\\__init__.py:122\u001b[0m\n\u001b[0;32m    120\u001b[0m     err \u001b[39m=\u001b[39m ctypes\u001b[39m.\u001b[39mWinError(last_error)\n\u001b[0;32m    121\u001b[0m     err\u001b[39m.\u001b[39mstrerror \u001b[39m+\u001b[39m\u001b[39m=\u001b[39m \u001b[39mf\u001b[39m\u001b[39m'\u001b[39m\u001b[39m Error loading \u001b[39m\u001b[39m\"\u001b[39m\u001b[39m{\u001b[39;00mdll\u001b[39m}\u001b[39;00m\u001b[39m\"\u001b[39m\u001b[39m or one of its dependencies.\u001b[39m\u001b[39m'\u001b[39m\n\u001b[1;32m--> 122\u001b[0m     \u001b[39mraise\u001b[39;00m err\n\u001b[0;32m    123\u001b[0m \u001b[39melif\u001b[39;00m res \u001b[39mis\u001b[39;00m \u001b[39mnot\u001b[39;00m \u001b[39mNone\u001b[39;00m:\n\u001b[0;32m    124\u001b[0m     is_loaded \u001b[39m=\u001b[39m \u001b[39mTrue\u001b[39;00m\n",
      "\u001b[1;31mOSError\u001b[0m: [WinError 127] The specified procedure could not be found. Error loading \"c:\\Users\\DAAI.DESKTOP-128VDS1\\anaconda3\\lib\\site-packages\\torch\\lib\\nvfuser_codegen.dll\" or one of its dependencies."
     ]
    }
   ],
   "source": [
    "import inspect\n",
    "from typing import List, Optional, Union\n",
    "\n",
    "import numpy as np\n",
    "import torch\n",
    "\n",
    "import PIL\n",
    "import gradio as gr\n",
    "from diffusers import StableDiffusionInpaintPipeline"
   ]
  },
  {
   "cell_type": "code",
   "execution_count": 14,
   "metadata": {},
   "outputs": [
    {
     "ename": "NameError",
     "evalue": "name 'StableDiffusionInpaintPipeline' is not defined",
     "output_type": "error",
     "traceback": [
      "\u001b[1;31m---------------------------------------------------------------------------\u001b[0m",
      "\u001b[1;31mNameError\u001b[0m                                 Traceback (most recent call last)",
      "Cell \u001b[1;32mIn[14], line 4\u001b[0m\n\u001b[0;32m      1\u001b[0m device \u001b[39m=\u001b[39m \u001b[39m\"\u001b[39m\u001b[39mcuda\u001b[39m\u001b[39m\"\u001b[39m\n\u001b[0;32m      2\u001b[0m model_path \u001b[39m=\u001b[39m \u001b[39m\"\u001b[39m\u001b[39mrunwayml/stable-diffusion-inpainting\u001b[39m\u001b[39m\"\u001b[39m\n\u001b[1;32m----> 4\u001b[0m pipe \u001b[39m=\u001b[39m StableDiffusionInpaintPipeline\u001b[39m.\u001b[39mfrom_pretrained(\n\u001b[0;32m      5\u001b[0m     model_path,\n\u001b[0;32m      6\u001b[0m     torch_dtype\u001b[39m=\u001b[39mtorch\u001b[39m.\u001b[39mfloat16,\n\u001b[0;32m      7\u001b[0m )\u001b[39m.\u001b[39mto(device)\n",
      "\u001b[1;31mNameError\u001b[0m: name 'StableDiffusionInpaintPipeline' is not defined"
     ]
    }
   ],
   "source": [
    "device = \"cuda\"\n",
    "model_path = \"runwayml/stable-diffusion-inpainting\"\n",
    "\n",
    "pipe = StableDiffusionInpaintPipeline.from_pretrained(\n",
    "    model_path,\n",
    "    torch_dtype=torch.float16,\n",
    ").to(device)"
   ]
  },
  {
   "cell_type": "code",
   "execution_count": null,
   "metadata": {},
   "outputs": [],
   "source": [
    "import requests\n",
    "from io import BytesIO\n",
    "\n",
    "def image_grid(imgs, rows, cols):\n",
    "    assert len(imgs) == rows*cols\n",
    "\n",
    "    w, h = imgs[0].size\n",
    "    grid = PIL.Image.new('RGB', size=(cols*w, rows*h))\n",
    "    grid_w, grid_h = grid.size\n",
    "    \n",
    "    for i, img in enumerate(imgs):\n",
    "        grid.paste(img, box=(i%cols*w, i//cols*h))\n",
    "    return grid\n",
    "\n",
    "\n",
    "# def download_image(url):\n",
    "#     response = requests.get(url)\n",
    "#     return PIL.Image.open(BytesIO(response.content)).convert(\"RGB\")\n",
    "\n",
    "# img_url = \"https://raw.githubusercontent.com/CompVis/latent-diffusion/main/data/inpainting_examples/overture-creations-5sI6fQgYIuo.png\"\n",
    "# mask_url = \"https://raw.githubusercontent.com/CompVis/latent-diffusion/main/data/inpainting_examples/overture-creations-5sI6fQgYIuo_mask.png\""
   ]
  },
  {
   "cell_type": "code",
   "execution_count": null,
   "metadata": {},
   "outputs": [],
   "source": [
    "src_img = PIL.Image.open(\"img3.jpeg\").convert(\"RGB\").resize((512, 512))\n",
    "mask_img = PIL.Image.open(\"floor.png\").convert(\"RGB\").resize((512, 512))"
   ]
  },
  {
   "cell_type": "code",
   "execution_count": null,
   "metadata": {},
   "outputs": [],
   "source": [
    "prompt = \"Replace floor with wood finish carpet\"\n",
    "\n",
    "guidance_scale=9\n",
    "num_samples = 3\n",
    "generator = torch.Generator(device=\"cuda\").manual_seed(0) # change the seed to get different results\n",
    "\n",
    "images = pipe(\n",
    "    prompt=prompt,\n",
    "    image=src_img,\n",
    "    mask_image=mask_img,\n",
    "    guidance_scale=guidance_scale,\n",
    "    generator=generator,\n",
    "    num_images_per_prompt=num_samples,\n",
    "\n",
    ").images\n",
    "# insert initial image in the list so we can compare side by side\n",
    "images.insert(0, src_img)"
   ]
  }
 ],
 "metadata": {
  "kernelspec": {
   "display_name": "base",
   "language": "python",
   "name": "python3"
  },
  "language_info": {
   "codemirror_mode": {
    "name": "ipython",
    "version": 3
   },
   "file_extension": ".py",
   "mimetype": "text/x-python",
   "name": "python",
   "nbconvert_exporter": "python",
   "pygments_lexer": "ipython3",
   "version": "3.10.9"
  },
  "orig_nbformat": 4
 },
 "nbformat": 4,
 "nbformat_minor": 2
}
