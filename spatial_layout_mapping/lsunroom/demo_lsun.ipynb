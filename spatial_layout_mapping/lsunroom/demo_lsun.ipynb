{
  "cells": [
    {
      "cell_type": "code",
      "execution_count": 1,
      "metadata": {
        "colab": {
          "base_uri": "https://localhost:8080/"
        },
        "id": "jwvbPP5U6kSr",
        "outputId": "d26f7d71-b125-4f4e-c78c-5c25170e5eaf"
      },
      "outputs": [
        {
          "name": "stdout",
          "output_type": "stream",
          "text": [
            "Fri Jul 28 14:04:32 2023       \n",
            "+-----------------------------------------------------------------------------+\n",
            "| NVIDIA-SMI 528.24       Driver Version: 528.24       CUDA Version: 12.0     |\n",
            "|-------------------------------+----------------------+----------------------+\n",
            "| GPU  Name            TCC/WDDM | Bus-Id        Disp.A | Volatile Uncorr. ECC |\n",
            "| Fan  Temp  Perf  Pwr:Usage/Cap|         Memory-Usage | GPU-Util  Compute M. |\n",
            "|                               |                      |               MIG M. |\n",
            "|===============================+======================+======================|\n",
            "|   0  NVIDIA GeForce ... WDDM  | 00000000:01:00.0 Off |                  N/A |\n",
            "|  0%   35C    P8    10W / 350W |     25MiB / 24576MiB |      0%      Default |\n",
            "|                               |                      |                  N/A |\n",
            "+-------------------------------+----------------------+----------------------+\n",
            "                                                                               \n",
            "+-----------------------------------------------------------------------------+\n",
            "| Processes:                                                                  |\n",
            "|  GPU   GI   CI        PID   Type   Process name                  GPU Memory |\n",
            "|        ID   ID                                                   Usage      |\n",
            "|=============================================================================|\n",
            "|    0   N/A  N/A     10496    C+G   ...n64\\EpicGamesLauncher.exe    N/A      |\n",
            "+-----------------------------------------------------------------------------+\n"
          ]
        }
      ],
      "source": [
        "!nvidia-smi"
      ]
    },
    {
      "cell_type": "code",
      "execution_count": 2,
      "metadata": {
        "colab": {
          "base_uri": "https://localhost:8080/"
        },
        "id": "GyohaAUJL2TH",
        "outputId": "98830f88-c8f6-411f-c590-1ca6e3442177"
      },
      "outputs": [
        {
          "name": "stdout",
          "output_type": "stream",
          "text": [
            "HOME: c:\\Users\\DAAI.DESKTOP-128VDS1\\Documents\\deva\\mfs\\spatial_layout_mapping\\lsunroom\n"
          ]
        }
      ],
      "source": [
        "# Acquring GPU\n",
        "# !nvidia-smi\n",
        "\n",
        "import os\n",
        "HOME = os.getcwd()\n",
        "print(\"HOME:\", HOME)"
      ]
    },
    {
      "cell_type": "code",
      "execution_count": 3,
      "metadata": {
        "colab": {
          "base_uri": "https://localhost:8080/"
        },
        "id": "VlbGETYLr_0X",
        "outputId": "b050fb1b-2eb6-41d7-c6e0-82292f3ff690"
      },
      "outputs": [
        {
          "name": "stderr",
          "output_type": "stream",
          "text": [
            "Cloning into 'lsun-room'...\n"
          ]
        }
      ],
      "source": [
        "!git clone https://github.com/leVirve/lsun-room.git"
      ]
    },
    {
      "cell_type": "code",
      "execution_count": 4,
      "metadata": {
        "colab": {
          "base_uri": "https://localhost:8080/"
        },
        "id": "aPR3rGOatmi9",
        "outputId": "5c9a1e30-f2a6-4d9e-c64f-60f0f97c02a2"
      },
      "outputs": [
        {
          "name": "stdout",
          "output_type": "stream",
          "text": [
            "c:\\Users\\DAAI.DESKTOP-128VDS1\\Documents\\deva\\mfs\\spatial_layout_mapping\\lsunroom\\lsun-room\n",
            "Collecting click==7.1.2\n",
            "  Downloading click-7.1.2-py2.py3-none-any.whl (82 kB)\n",
            "     ---------------------------------------- 82.8/82.8 kB 1.2 MB/s eta 0:00:00\n",
            "Collecting cycler==0.10.0\n",
            "  Downloading cycler-0.10.0-py2.py3-none-any.whl (6.5 kB)\n",
            "Collecting decorator==4.4.2\n",
            "  Downloading decorator-4.4.2-py2.py3-none-any.whl (9.2 kB)\n",
            "Collecting imageio==2.9.0\n",
            "  Downloading imageio-2.9.0-py3-none-any.whl (3.3 MB)\n",
            "     ---------------------------------------- 3.3/3.3 MB 557.0 kB/s eta 0:00:00\n",
            "Collecting kornia==0.4.1\n",
            "  Downloading kornia-0.4.1-py2.py3-none-any.whl (225 kB)\n",
            "     ------------------------------------ 225.1/225.1 kB 417.3 kB/s eta 0:00:00\n",
            "Collecting opencv-python==4.5.1.48\n",
            "  Downloading opencv-python-4.5.1.48.tar.gz (88.3 MB)\n",
            "     ---------------------------------------- 88.3/88.3 MB 1.1 MB/s eta 0:00:00\n"
          ]
        },
        {
          "name": "stderr",
          "output_type": "stream",
          "text": [
            "ERROR: Could not install packages due to an OSError: [Errno 2] No such file or directory: 'C:\\\\Users\\\\DAAI.DESKTOP-128VDS1\\\\AppData\\\\Local\\\\Temp\\\\pip-install-ut1f755l\\\\opencv-python_e25fa17a12f34e25b7bccbc72f27b008\\\\opencv/samples/winrt_universal/VideoCaptureXAML/video_capture_xaml/video_capture_xaml.WindowsPhone/video_capture_xaml.WindowsPhone.vcxproj.filters'\n",
            "HINT: This error might have occurred since this system does not have Windows Long Path support enabled. You can find information on how to enable this at https://pip.pypa.io/warnings/enable-long-paths\n",
            "\n"
          ]
        }
      ],
      "source": [
        "LSUN_PATH = HOME+\"/lsun-room/\"\n",
        "\n",
        "%cd {LSUN_PATH}\n",
        "!pip install -r requirements.txt --pre"
      ]
    },
    {
      "cell_type": "code",
      "execution_count": 5,
      "metadata": {
        "colab": {
          "base_uri": "https://localhost:8080/"
        },
        "id": "whLpDiWxmUBr",
        "outputId": "00d641e2-cd4e-4874-d558-b45f24d8309a"
      },
      "outputs": [
        {
          "name": "stdout",
          "output_type": "stream",
          "text": [
            "Collecting loguru\n",
            "  Downloading loguru-0.7.0-py3-none-any.whl (59 kB)\n",
            "     -------------------------------------- 60.0/60.0 kB 637.3 kB/s eta 0:00:00\n",
            "Requirement already satisfied: colorama>=0.3.4 in c:\\users\\daai.desktop-128vds1\\anaconda3\\lib\\site-packages (from loguru) (0.4.6)\n",
            "Collecting win32-setctime>=1.0.0\n",
            "  Downloading win32_setctime-1.1.0-py3-none-any.whl (3.6 kB)\n",
            "Installing collected packages: win32-setctime, loguru\n",
            "Successfully installed loguru-0.7.0 win32-setctime-1.1.0\n",
            "Requirement already satisfied: grpcio in c:\\users\\daai.desktop-128vds1\\anaconda3\\lib\\site-packages (1.56.2)\n",
            "Collecting tensorboardx==2.1\n",
            "  Downloading tensorboardX-2.1-py2.py3-none-any.whl (308 kB)\n",
            "     -------------------------------------- 308.8/308.8 kB 2.1 MB/s eta 0:00:00\n",
            "Requirement already satisfied: six in c:\\users\\daai.desktop-128vds1\\anaconda3\\lib\\site-packages (from tensorboardx==2.1) (1.16.0)\n",
            "Requirement already satisfied: protobuf>=3.8.0 in c:\\users\\daai.desktop-128vds1\\anaconda3\\lib\\site-packages (from tensorboardx==2.1) (4.23.4)\n",
            "Requirement already satisfied: numpy in c:\\users\\daai.desktop-128vds1\\anaconda3\\lib\\site-packages (from tensorboardx==2.1) (1.23.5)\n",
            "Installing collected packages: tensorboardx\n",
            "Successfully installed tensorboardx-2.1\n",
            "Collecting pytorch-lightning\n",
            "  Downloading pytorch_lightning-2.0.6-py3-none-any.whl (722 kB)\n",
            "     -------------------------------------- 722.8/722.8 kB 3.5 MB/s eta 0:00:00\n",
            "Requirement already satisfied: torch>=1.11.0 in c:\\users\\daai.desktop-128vds1\\anaconda3\\lib\\site-packages (from pytorch-lightning) (2.1.0.dev20230523+cu117)\n",
            "Requirement already satisfied: tqdm>=4.57.0 in c:\\users\\daai.desktop-128vds1\\anaconda3\\lib\\site-packages (from pytorch-lightning) (4.64.1)\n",
            "Requirement already satisfied: typing-extensions>=4.0.0 in c:\\users\\daai.desktop-128vds1\\anaconda3\\lib\\site-packages (from pytorch-lightning) (4.4.0)\n",
            "Requirement already satisfied: PyYAML>=5.4 in c:\\users\\daai.desktop-128vds1\\anaconda3\\lib\\site-packages (from pytorch-lightning) (6.0)\n",
            "Requirement already satisfied: fsspec[http]>2021.06.0 in c:\\users\\daai.desktop-128vds1\\anaconda3\\lib\\site-packages (from pytorch-lightning) (2023.4.0)\n",
            "Collecting lightning-utilities>=0.7.0\n",
            "  Downloading lightning_utilities-0.9.0-py3-none-any.whl (23 kB)\n",
            "Requirement already satisfied: numpy>=1.17.2 in c:\\users\\daai.desktop-128vds1\\anaconda3\\lib\\site-packages (from pytorch-lightning) (1.23.5)\n",
            "Requirement already satisfied: packaging>=17.1 in c:\\users\\daai.desktop-128vds1\\anaconda3\\lib\\site-packages (from pytorch-lightning) (22.0)\n",
            "Collecting torchmetrics>=0.7.0\n",
            "  Downloading torchmetrics-1.0.1-py3-none-any.whl (729 kB)\n",
            "     -------------------------------------- 729.2/729.2 kB 5.8 MB/s eta 0:00:00\n",
            "Requirement already satisfied: requests in c:\\users\\daai.desktop-128vds1\\anaconda3\\lib\\site-packages (from fsspec[http]>2021.06.0->pytorch-lightning) (2.28.1)\n",
            "Collecting aiohttp!=4.0.0a0,!=4.0.0a1\n",
            "  Downloading aiohttp-3.8.5-cp310-cp310-win_amd64.whl (323 kB)\n",
            "     -------------------------------------- 323.1/323.1 kB 5.0 MB/s eta 0:00:00\n",
            "Requirement already satisfied: filelock in c:\\users\\daai.desktop-128vds1\\anaconda3\\lib\\site-packages (from torch>=1.11.0->pytorch-lightning) (3.9.0)\n",
            "Requirement already satisfied: jinja2 in c:\\users\\daai.desktop-128vds1\\anaconda3\\lib\\site-packages (from torch>=1.11.0->pytorch-lightning) (3.1.2)\n",
            "Requirement already satisfied: sympy in c:\\users\\daai.desktop-128vds1\\anaconda3\\lib\\site-packages (from torch>=1.11.0->pytorch-lightning) (1.11.1)\n",
            "Requirement already satisfied: networkx in c:\\users\\daai.desktop-128vds1\\anaconda3\\lib\\site-packages (from torch>=1.11.0->pytorch-lightning) (3.0rc1)\n",
            "Requirement already satisfied: colorama in c:\\users\\daai.desktop-128vds1\\anaconda3\\lib\\site-packages (from tqdm>=4.57.0->pytorch-lightning) (0.4.6)\n",
            "Requirement already satisfied: charset-normalizer<4.0,>=2.0 in c:\\users\\daai.desktop-128vds1\\anaconda3\\lib\\site-packages (from aiohttp!=4.0.0a0,!=4.0.0a1->fsspec[http]>2021.06.0->pytorch-lightning) (2.1.1)\n",
            "Collecting multidict<7.0,>=4.5\n",
            "  Downloading multidict-6.0.4-cp310-cp310-win_amd64.whl (28 kB)\n",
            "Collecting frozenlist>=1.1.1\n",
            "  Downloading frozenlist-1.4.0-cp310-cp310-win_amd64.whl (44 kB)\n",
            "     ---------------------------------------- 44.4/44.4 kB ? eta 0:00:00\n",
            "Collecting aiosignal>=1.1.2\n",
            "  Downloading aiosignal-1.3.1-py3-none-any.whl (7.6 kB)\n",
            "Collecting async-timeout<5.0,>=4.0.0a3\n",
            "  Downloading async_timeout-4.0.2-py3-none-any.whl (5.8 kB)\n",
            "Collecting yarl<2.0,>=1.0\n",
            "  Downloading yarl-1.9.2-cp310-cp310-win_amd64.whl (61 kB)\n",
            "     ---------------------------------------- 61.0/61.0 kB 1.6 MB/s eta 0:00:00\n",
            "Requirement already satisfied: attrs>=17.3.0 in c:\\users\\daai.desktop-128vds1\\anaconda3\\lib\\site-packages (from aiohttp!=4.0.0a0,!=4.0.0a1->fsspec[http]>2021.06.0->pytorch-lightning) (22.1.0)\n",
            "Requirement already satisfied: MarkupSafe>=2.0 in c:\\users\\daai.desktop-128vds1\\anaconda3\\lib\\site-packages (from jinja2->torch>=1.11.0->pytorch-lightning) (2.1.2)\n",
            "Requirement already satisfied: idna<4,>=2.5 in c:\\users\\daai.desktop-128vds1\\anaconda3\\lib\\site-packages (from requests->fsspec[http]>2021.06.0->pytorch-lightning) (3.4)\n",
            "Requirement already satisfied: certifi>=2017.4.17 in c:\\users\\daai.desktop-128vds1\\anaconda3\\lib\\site-packages (from requests->fsspec[http]>2021.06.0->pytorch-lightning) (2023.5.7)\n",
            "Requirement already satisfied: urllib3<1.27,>=1.21.1 in c:\\users\\daai.desktop-128vds1\\anaconda3\\lib\\site-packages (from requests->fsspec[http]>2021.06.0->pytorch-lightning) (1.26.13)\n",
            "Requirement already satisfied: mpmath>=0.19 in c:\\users\\daai.desktop-128vds1\\anaconda3\\lib\\site-packages (from sympy->torch>=1.11.0->pytorch-lightning) (1.2.1)\n",
            "Installing collected packages: multidict, lightning-utilities, frozenlist, async-timeout, yarl, aiosignal, torchmetrics, aiohttp, pytorch-lightning\n",
            "Successfully installed aiohttp-3.8.5 aiosignal-1.3.1 async-timeout-4.0.2 frozenlist-1.4.0 lightning-utilities-0.9.0 multidict-6.0.4 pytorch-lightning-2.0.6 torchmetrics-1.0.1 yarl-1.9.2\n",
            "Collecting kornia\n",
            "  Downloading kornia-0.6.12-py2.py3-none-any.whl (653 kB)\n",
            "     -------------------------------------- 653.4/653.4 kB 3.4 MB/s eta 0:00:00\n",
            "Requirement already satisfied: torch>=1.9.1 in c:\\users\\daai.desktop-128vds1\\anaconda3\\lib\\site-packages (from kornia) (2.1.0.dev20230523+cu117)\n",
            "Requirement already satisfied: packaging in c:\\users\\daai.desktop-128vds1\\anaconda3\\lib\\site-packages (from kornia) (22.0)\n",
            "Requirement already satisfied: networkx in c:\\users\\daai.desktop-128vds1\\anaconda3\\lib\\site-packages (from torch>=1.9.1->kornia) (3.0rc1)\n",
            "Requirement already satisfied: fsspec in c:\\users\\daai.desktop-128vds1\\anaconda3\\lib\\site-packages (from torch>=1.9.1->kornia) (2023.4.0)\n",
            "Requirement already satisfied: typing-extensions in c:\\users\\daai.desktop-128vds1\\anaconda3\\lib\\site-packages (from torch>=1.9.1->kornia) (4.4.0)\n",
            "Requirement already satisfied: sympy in c:\\users\\daai.desktop-128vds1\\anaconda3\\lib\\site-packages (from torch>=1.9.1->kornia) (1.11.1)\n",
            "Requirement already satisfied: filelock in c:\\users\\daai.desktop-128vds1\\anaconda3\\lib\\site-packages (from torch>=1.9.1->kornia) (3.9.0)\n",
            "Requirement already satisfied: jinja2 in c:\\users\\daai.desktop-128vds1\\anaconda3\\lib\\site-packages (from torch>=1.9.1->kornia) (3.1.2)\n",
            "Requirement already satisfied: MarkupSafe>=2.0 in c:\\users\\daai.desktop-128vds1\\anaconda3\\lib\\site-packages (from jinja2->torch>=1.9.1->kornia) (2.1.2)\n",
            "Requirement already satisfied: mpmath>=0.19 in c:\\users\\daai.desktop-128vds1\\anaconda3\\lib\\site-packages (from sympy->torch>=1.9.1->kornia) (1.2.1)\n",
            "Installing collected packages: kornia\n",
            "Successfully installed kornia-0.6.12\n"
          ]
        }
      ],
      "source": [
        "!pip install loguru\n",
        "!pip install --upgrade grpcio\n",
        "!pip install tensorboardx==2.1\n",
        "!pip install pytorch-lightning\n",
        "!pip install kornia"
      ]
    },
    {
      "cell_type": "code",
      "execution_count": 11,
      "metadata": {
        "colab": {
          "base_uri": "https://localhost:8080/"
        },
        "id": "CKFbA1HlVJkV",
        "outputId": "f765ffbf-8290-4e4e-d883-e8c08fc48dc1"
      },
      "outputs": [
        {
          "name": "stdout",
          "output_type": "stream",
          "text": [
            "c:\\Users\\DAAI.DESKTOP-128VDS1\\Documents\\deva\\mfs\\spatial_layout_mapping\\lsunroom\\lsun-room\n",
            "c:\\Users\\DAAI.DESKTOP-128VDS1\\Documents\\deva\\mfs\\spatial_layout_mapping\\lsunroom\\lsun-room\\OneGAN\n"
          ]
        },
        {
          "name": "stderr",
          "output_type": "stream",
          "text": [
            "fatal: destination path 'OneGAN' already exists and is not an empty directory.\n"
          ]
        },
        {
          "name": "stdout",
          "output_type": "stream",
          "text": [
            "running install\n",
            "running bdist_egg\n",
            "running egg_info\n",
            "writing onegan.egg-info\\PKG-INFO\n",
            "writing dependency_links to onegan.egg-info\\dependency_links.txt\n",
            "writing requirements to onegan.egg-info\\requires.txt\n",
            "writing top-level names to onegan.egg-info\\top_level.txt\n",
            "reading manifest file 'onegan.egg-info\\SOURCES.txt'\n",
            "adding license file 'LICENSE.rst'\n",
            "writing manifest file 'onegan.egg-info\\SOURCES.txt'\n",
            "installing library code to build\\bdist.win-amd64\\egg\n",
            "running install_lib\n",
            "running build_py\n",
            "creating build\\bdist.win-amd64\\egg\n",
            "creating build\\bdist.win-amd64\\egg\\onegan\n",
            "copying build\\lib\\onegan\\estimator.py -> build\\bdist.win-amd64\\egg\\onegan\n",
            "creating build\\bdist.win-amd64\\egg\\onegan\\extension\n",
            "copying build\\lib\\onegan\\extension\\base.py -> build\\bdist.win-amd64\\egg\\onegan\\extension\n",
            "copying build\\lib\\onegan\\extension\\checkpoint.py -> build\\bdist.win-amd64\\egg\\onegan\\extension\n",
            "copying build\\lib\\onegan\\extension\\history.py -> build\\bdist.win-amd64\\egg\\onegan\\extension\n",
            "copying build\\lib\\onegan\\extension\\imagesaver.py -> build\\bdist.win-amd64\\egg\\onegan\\extension\n",
            "copying build\\lib\\onegan\\extension\\tensorboard.py -> build\\bdist.win-amd64\\egg\\onegan\\extension\n",
            "copying build\\lib\\onegan\\extension\\tensorcollect.py -> build\\bdist.win-amd64\\egg\\onegan\\extension\n",
            "copying build\\lib\\onegan\\extension\\__init__.py -> build\\bdist.win-amd64\\egg\\onegan\\extension\n",
            "creating build\\bdist.win-amd64\\egg\\onegan\\external\n",
            "copying build\\lib\\onegan\\external\\dcgan.py -> build\\bdist.win-amd64\\egg\\onegan\\external\n",
            "copying build\\lib\\onegan\\external\\fcn.py -> build\\bdist.win-amd64\\egg\\onegan\\external\n",
            "copying build\\lib\\onegan\\external\\pix2pix.py -> build\\bdist.win-amd64\\egg\\onegan\\external\n",
            "copying build\\lib\\onegan\\external\\pspnet.py -> build\\bdist.win-amd64\\egg\\onegan\\external\n",
            "copying build\\lib\\onegan\\external\\__init__.py -> build\\bdist.win-amd64\\egg\\onegan\\external\n",
            "creating build\\bdist.win-amd64\\egg\\onegan\\io\n",
            "copying build\\lib\\onegan\\io\\functional.py -> build\\bdist.win-amd64\\egg\\onegan\\io\n",
            "copying build\\lib\\onegan\\io\\loader.py -> build\\bdist.win-amd64\\egg\\onegan\\io\n",
            "copying build\\lib\\onegan\\io\\transform.py -> build\\bdist.win-amd64\\egg\\onegan\\io\n",
            "copying build\\lib\\onegan\\io\\utils.py -> build\\bdist.win-amd64\\egg\\onegan\\io\n",
            "copying build\\lib\\onegan\\io\\__init__.py -> build\\bdist.win-amd64\\egg\\onegan\\io\n",
            "copying build\\lib\\onegan\\loss.py -> build\\bdist.win-amd64\\egg\\onegan\n",
            "creating build\\bdist.win-amd64\\egg\\onegan\\metrics\n",
            "copying build\\lib\\onegan\\metrics\\semantic_segmentation.py -> build\\bdist.win-amd64\\egg\\onegan\\metrics\n",
            "copying build\\lib\\onegan\\metrics\\__init__.py -> build\\bdist.win-amd64\\egg\\onegan\\metrics\n",
            "copying build\\lib\\onegan\\models.py -> build\\bdist.win-amd64\\egg\\onegan\n",
            "copying build\\lib\\onegan\\ops.py -> build\\bdist.win-amd64\\egg\\onegan\n",
            "copying build\\lib\\onegan\\option.py -> build\\bdist.win-amd64\\egg\\onegan\n",
            "creating build\\bdist.win-amd64\\egg\\onegan\\visualizer\n",
            "copying build\\lib\\onegan\\visualizer\\image.py -> build\\bdist.win-amd64\\egg\\onegan\\visualizer\n",
            "copying build\\lib\\onegan\\visualizer\\__init__.py -> build\\bdist.win-amd64\\egg\\onegan\\visualizer\n",
            "copying build\\lib\\onegan\\__init__.py -> build\\bdist.win-amd64\\egg\\onegan\n",
            "creating build\\bdist.win-amd64\\egg\\test\n",
            "copying build\\lib\\test\\test_external.py -> build\\bdist.win-amd64\\egg\\test\n",
            "copying build\\lib\\test\\test_io.py -> build\\bdist.win-amd64\\egg\\test\n",
            "copying build\\lib\\test\\test_loss.py -> build\\bdist.win-amd64\\egg\\test\n",
            "copying build\\lib\\test\\test_metrics.py -> build\\bdist.win-amd64\\egg\\test\n",
            "copying build\\lib\\test\\test_model.py -> build\\bdist.win-amd64\\egg\\test\n",
            "copying build\\lib\\test\\test_option.py -> build\\bdist.win-amd64\\egg\\test\n",
            "copying build\\lib\\test\\test_utils.py -> build\\bdist.win-amd64\\egg\\test\n",
            "copying build\\lib\\test\\__init__.py -> build\\bdist.win-amd64\\egg\\test\n",
            "byte-compiling build\\bdist.win-amd64\\egg\\onegan\\estimator.py to estimator.cpython-310.pyc\n",
            "byte-compiling build\\bdist.win-amd64\\egg\\onegan\\extension\\base.py to base.cpython-310.pyc\n",
            "byte-compiling build\\bdist.win-amd64\\egg\\onegan\\extension\\checkpoint.py to checkpoint.cpython-310.pyc\n",
            "byte-compiling build\\bdist.win-amd64\\egg\\onegan\\extension\\history.py to history.cpython-310.pyc\n",
            "byte-compiling build\\bdist.win-amd64\\egg\\onegan\\extension\\imagesaver.py to imagesaver.cpython-310.pyc\n",
            "byte-compiling build\\bdist.win-amd64\\egg\\onegan\\extension\\tensorboard.py to tensorboard.cpython-310.pyc\n",
            "byte-compiling build\\bdist.win-amd64\\egg\\onegan\\extension\\tensorcollect.py to tensorcollect.cpython-310.pyc\n",
            "byte-compiling build\\bdist.win-amd64\\egg\\onegan\\extension\\__init__.py to __init__.cpython-310.pyc\n",
            "byte-compiling build\\bdist.win-amd64\\egg\\onegan\\external\\dcgan.py to dcgan.cpython-310.pyc\n",
            "byte-compiling build\\bdist.win-amd64\\egg\\onegan\\external\\fcn.py to fcn.cpython-310.pyc\n",
            "byte-compiling build\\bdist.win-amd64\\egg\\onegan\\external\\pix2pix.py to pix2pix.cpython-310.pyc\n",
            "byte-compiling build\\bdist.win-amd64\\egg\\onegan\\external\\pspnet.py to pspnet.cpython-310.pyc\n",
            "byte-compiling build\\bdist.win-amd64\\egg\\onegan\\external\\__init__.py to __init__.cpython-310.pyc\n",
            "byte-compiling build\\bdist.win-amd64\\egg\\onegan\\io\\functional.py to functional.cpython-310.pyc\n",
            "byte-compiling build\\bdist.win-amd64\\egg\\onegan\\io\\loader.py to loader.cpython-310.pyc\n",
            "byte-compiling build\\bdist.win-amd64\\egg\\onegan\\io\\transform.py to transform.cpython-310.pyc\n",
            "byte-compiling build\\bdist.win-amd64\\egg\\onegan\\io\\utils.py to utils.cpython-310.pyc\n",
            "byte-compiling build\\bdist.win-amd64\\egg\\onegan\\io\\__init__.py to __init__.cpython-310.pyc\n",
            "byte-compiling build\\bdist.win-amd64\\egg\\onegan\\loss.py to loss.cpython-310.pyc\n",
            "byte-compiling build\\bdist.win-amd64\\egg\\onegan\\metrics\\semantic_segmentation.py to semantic_segmentation.cpython-310.pyc\n",
            "byte-compiling build\\bdist.win-amd64\\egg\\onegan\\metrics\\__init__.py to __init__.cpython-310.pyc\n",
            "byte-compiling build\\bdist.win-amd64\\egg\\onegan\\models.py to models.cpython-310.pyc\n",
            "byte-compiling build\\bdist.win-amd64\\egg\\onegan\\ops.py to ops.cpython-310.pyc\n",
            "byte-compiling build\\bdist.win-amd64\\egg\\onegan\\option.py to option.cpython-310.pyc\n",
            "byte-compiling build\\bdist.win-amd64\\egg\\onegan\\visualizer\\image.py to image.cpython-310.pyc\n",
            "byte-compiling build\\bdist.win-amd64\\egg\\onegan\\visualizer\\__init__.py to __init__.cpython-310.pyc\n",
            "byte-compiling build\\bdist.win-amd64\\egg\\onegan\\__init__.py to __init__.cpython-310.pyc\n",
            "byte-compiling build\\bdist.win-amd64\\egg\\test\\test_external.py to test_external.cpython-310.pyc\n",
            "byte-compiling build\\bdist.win-amd64\\egg\\test\\test_io.py to test_io.cpython-310.pyc\n",
            "byte-compiling build\\bdist.win-amd64\\egg\\test\\test_loss.py to test_loss.cpython-310.pyc\n",
            "byte-compiling build\\bdist.win-amd64\\egg\\test\\test_metrics.py to test_metrics.cpython-310.pyc\n",
            "byte-compiling build\\bdist.win-amd64\\egg\\test\\test_model.py to test_model.cpython-310.pyc\n",
            "byte-compiling build\\bdist.win-amd64\\egg\\test\\test_option.py to test_option.cpython-310.pyc\n",
            "byte-compiling build\\bdist.win-amd64\\egg\\test\\test_utils.py to test_utils.cpython-310.pyc\n",
            "byte-compiling build\\bdist.win-amd64\\egg\\test\\__init__.py to __init__.cpython-310.pyc\n",
            "creating build\\bdist.win-amd64\\egg\\EGG-INFO\n",
            "copying onegan.egg-info\\PKG-INFO -> build\\bdist.win-amd64\\egg\\EGG-INFO\n",
            "copying onegan.egg-info\\SOURCES.txt -> build\\bdist.win-amd64\\egg\\EGG-INFO\n",
            "copying onegan.egg-info\\dependency_links.txt -> build\\bdist.win-amd64\\egg\\EGG-INFO\n",
            "copying onegan.egg-info\\not-zip-safe -> build\\bdist.win-amd64\\egg\\EGG-INFO\n",
            "copying onegan.egg-info\\requires.txt -> build\\bdist.win-amd64\\egg\\EGG-INFO\n",
            "copying onegan.egg-info\\top_level.txt -> build\\bdist.win-amd64\\egg\\EGG-INFO\n",
            "creating 'dist\\onegan-0.5.1-py3.10.egg' and adding 'build\\bdist.win-amd64\\egg' to it\n",
            "removing 'build\\bdist.win-amd64\\egg' (and everything under it)\n",
            "Processing onegan-0.5.1-py3.10.egg\n",
            "removing 'c:\\users\\daai.desktop-128vds1\\anaconda3\\lib\\site-packages\\onegan-0.5.1-py3.10.egg' (and everything under it)\n",
            "creating c:\\users\\daai.desktop-128vds1\\anaconda3\\lib\\site-packages\\onegan-0.5.1-py3.10.egg\n",
            "Extracting onegan-0.5.1-py3.10.egg to c:\\users\\daai.desktop-128vds1\\anaconda3\\lib\\site-packages\n",
            "onegan 0.5.1 is already the active version in easy-install.pth\n",
            "\n",
            "Installed c:\\users\\daai.desktop-128vds1\\anaconda3\\lib\\site-packages\\onegan-0.5.1-py3.10.egg\n",
            "Processing dependencies for onegan==0.5.1\n",
            "Searching for torch==2.1.0.dev20230523+cu117\n",
            "Best match: torch 2.1.0.dev20230523+cu117\n",
            "Adding torch 2.1.0.dev20230523+cu117 to easy-install.pth file\n",
            "Installing convert-caffe2-to-onnx-script.py script to c:\\Users\\DAAI.DESKTOP-128VDS1\\anaconda3\\Scripts\n",
            "Installing convert-caffe2-to-onnx.exe script to c:\\Users\\DAAI.DESKTOP-128VDS1\\anaconda3\\Scripts\n",
            "Installing convert-onnx-to-caffe2-script.py script to c:\\Users\\DAAI.DESKTOP-128VDS1\\anaconda3\\Scripts\n",
            "Installing convert-onnx-to-caffe2.exe script to c:\\Users\\DAAI.DESKTOP-128VDS1\\anaconda3\\Scripts\n",
            "Installing torchrun-script.py script to c:\\Users\\DAAI.DESKTOP-128VDS1\\anaconda3\\Scripts\n",
            "Installing torchrun.exe script to c:\\Users\\DAAI.DESKTOP-128VDS1\\anaconda3\\Scripts\n",
            "\n",
            "Using c:\\users\\daai.desktop-128vds1\\anaconda3\\lib\\site-packages\n",
            "Searching for Pillow==9.3.0\n",
            "Best match: Pillow 9.3.0\n",
            "Adding Pillow 9.3.0 to easy-install.pth file\n",
            "\n",
            "Using c:\\users\\daai.desktop-128vds1\\anaconda3\\lib\\site-packages\n",
            "Searching for scipy==1.10.0\n",
            "Best match: scipy 1.10.0\n",
            "Adding scipy 1.10.0 to easy-install.pth file\n",
            "\n",
            "Using c:\\users\\daai.desktop-128vds1\\anaconda3\\lib\\site-packages\n",
            "Searching for numpy==1.23.5\n",
            "Best match: numpy 1.23.5\n",
            "Adding numpy 1.23.5 to easy-install.pth file\n",
            "Installing f2py-script.py script to c:\\Users\\DAAI.DESKTOP-128VDS1\\anaconda3\\Scripts\n",
            "Installing f2py.exe script to c:\\Users\\DAAI.DESKTOP-128VDS1\\anaconda3\\Scripts\n",
            "\n",
            "Using c:\\users\\daai.desktop-128vds1\\anaconda3\\lib\\site-packages\n",
            "Searching for PyYAML==6.0\n",
            "Best match: PyYAML 6.0\n",
            "Adding PyYAML 6.0 to easy-install.pth file\n",
            "\n",
            "Using c:\\users\\daai.desktop-128vds1\\anaconda3\\lib\\site-packages\n",
            "Searching for tqdm==4.64.1\n",
            "Best match: tqdm 4.64.1\n",
            "Adding tqdm 4.64.1 to easy-install.pth file\n",
            "Installing tqdm-script.py script to c:\\Users\\DAAI.DESKTOP-128VDS1\\anaconda3\\Scripts\n",
            "Installing tqdm.exe script to c:\\Users\\DAAI.DESKTOP-128VDS1\\anaconda3\\Scripts\n",
            "\n",
            "Using c:\\users\\daai.desktop-128vds1\\anaconda3\\lib\\site-packages\n",
            "Searching for tensorboardX==2.1\n",
            "Best match: tensorboardX 2.1\n",
            "Adding tensorboardX 2.1 to easy-install.pth file\n",
            "\n",
            "Using c:\\users\\daai.desktop-128vds1\\anaconda3\\lib\\site-packages\n",
            "Searching for torchvision==0.16.0.dev20230523+cu117\n",
            "Best match: torchvision 0.16.0.dev20230523+cu117\n",
            "Adding torchvision 0.16.0.dev20230523+cu117 to easy-install.pth file\n",
            "\n",
            "Using c:\\users\\daai.desktop-128vds1\\anaconda3\\lib\\site-packages\n",
            "Searching for fsspec==2023.4.0\n",
            "Best match: fsspec 2023.4.0\n",
            "Adding fsspec 2023.4.0 to easy-install.pth file\n",
            "\n",
            "Using c:\\users\\daai.desktop-128vds1\\anaconda3\\lib\\site-packages\n",
            "Searching for Jinja2==3.1.2\n",
            "Best match: Jinja2 3.1.2\n",
            "Adding Jinja2 3.1.2 to easy-install.pth file\n",
            "\n",
            "Using c:\\users\\daai.desktop-128vds1\\anaconda3\\lib\\site-packages\n",
            "Searching for networkx==3.0rc1\n",
            "Best match: networkx 3.0rc1\n",
            "Adding networkx 3.0rc1 to easy-install.pth file\n",
            "\n",
            "Using c:\\users\\daai.desktop-128vds1\\anaconda3\\lib\\site-packages\n",
            "Searching for sympy==1.11.1\n",
            "Best match: sympy 1.11.1\n",
            "Adding sympy 1.11.1 to easy-install.pth file\n",
            "Installing isympy-script.py script to c:\\Users\\DAAI.DESKTOP-128VDS1\\anaconda3\\Scripts\n",
            "Installing isympy.exe script to c:\\Users\\DAAI.DESKTOP-128VDS1\\anaconda3\\Scripts\n",
            "\n",
            "Using c:\\users\\daai.desktop-128vds1\\anaconda3\\lib\\site-packages\n",
            "Searching for typing-extensions==4.4.0\n",
            "Best match: typing-extensions 4.4.0\n",
            "Adding typing-extensions 4.4.0 to easy-install.pth file\n",
            "\n",
            "Using c:\\users\\daai.desktop-128vds1\\anaconda3\\lib\\site-packages\n",
            "Searching for filelock==3.9.0\n",
            "Best match: filelock 3.9.0\n",
            "Adding filelock 3.9.0 to easy-install.pth file\n",
            "\n",
            "Using c:\\users\\daai.desktop-128vds1\\anaconda3\\lib\\site-packages\n",
            "Searching for colorama==0.4.6\n",
            "Best match: colorama 0.4.6\n",
            "Adding colorama 0.4.6 to easy-install.pth file\n",
            "\n",
            "Using c:\\users\\daai.desktop-128vds1\\anaconda3\\lib\\site-packages\n",
            "Searching for six==1.16.0\n",
            "Best match: six 1.16.0\n",
            "Adding six 1.16.0 to easy-install.pth file\n",
            "\n",
            "Using c:\\users\\daai.desktop-128vds1\\anaconda3\\lib\\site-packages\n",
            "Searching for protobuf==4.23.4\n",
            "Best match: protobuf 4.23.4\n",
            "Adding protobuf 4.23.4 to easy-install.pth file\n",
            "\n",
            "Using c:\\users\\daai.desktop-128vds1\\anaconda3\\lib\\site-packages\n",
            "Searching for requests==2.28.1\n",
            "Best match: requests 2.28.1\n",
            "Adding requests 2.28.1 to easy-install.pth file\n",
            "\n",
            "Using c:\\users\\daai.desktop-128vds1\\anaconda3\\lib\\site-packages\n",
            "Searching for MarkupSafe==2.1.2\n",
            "Best match: MarkupSafe 2.1.2\n",
            "Adding MarkupSafe 2.1.2 to easy-install.pth file\n",
            "\n",
            "Using c:\\users\\daai.desktop-128vds1\\anaconda3\\lib\\site-packages\n",
            "Searching for mpmath==1.2.1\n",
            "Best match: mpmath 1.2.1\n",
            "Adding mpmath 1.2.1 to easy-install.pth file\n",
            "\n",
            "Using c:\\users\\daai.desktop-128vds1\\anaconda3\\lib\\site-packages\n",
            "Searching for certifi==2023.5.7\n",
            "Best match: certifi 2023.5.7\n",
            "Adding certifi 2023.5.7 to easy-install.pth file\n",
            "\n",
            "Using c:\\users\\daai.desktop-128vds1\\anaconda3\\lib\\site-packages\n",
            "Searching for urllib3==1.26.13\n",
            "Best match: urllib3 1.26.13\n",
            "Adding urllib3 1.26.13 to easy-install.pth file\n",
            "\n",
            "Using c:\\users\\daai.desktop-128vds1\\anaconda3\\lib\\site-packages\n",
            "Searching for idna==3.4\n",
            "Best match: idna 3.4\n",
            "Adding idna 3.4 to easy-install.pth file\n",
            "\n",
            "Using c:\\users\\daai.desktop-128vds1\\anaconda3\\lib\\site-packages\n",
            "Searching for charset-normalizer==2.1.1\n",
            "Best match: charset-normalizer 2.1.1\n",
            "Adding charset-normalizer 2.1.1 to easy-install.pth file\n",
            "Installing normalizer-script.py script to c:\\Users\\DAAI.DESKTOP-128VDS1\\anaconda3\\Scripts\n",
            "Installing normalizer.exe script to c:\\Users\\DAAI.DESKTOP-128VDS1\\anaconda3\\Scripts\n",
            "\n",
            "Using c:\\users\\daai.desktop-128vds1\\anaconda3\\lib\\site-packages\n",
            "Finished processing dependencies for onegan==0.5.1\n"
          ]
        },
        {
          "name": "stderr",
          "output_type": "stream",
          "text": [
            "c:\\Users\\DAAI.DESKTOP-128VDS1\\anaconda3\\lib\\site-packages\\setuptools\\command\\install.py:34: SetuptoolsDeprecationWarning: setup.py install is deprecated. Use build and pip and other standards-based tools.\n",
            "  warnings.warn(\n",
            "c:\\Users\\DAAI.DESKTOP-128VDS1\\anaconda3\\lib\\site-packages\\setuptools\\command\\easy_install.py:144: EasyInstallDeprecationWarning: easy_install command is deprecated. Use build and pip and other standards-based tools.\n",
            "  warnings.warn(\n"
          ]
        }
      ],
      "source": [
        "%cd {LSUN_PATH}\n",
        "!git clone https://github.com/leVirve/OneGAN.git\n",
        "%cd OneGAN/\n",
        "!python setup.py install\n",
        "\n",
        "# %cd {LSUN_PATH}"
      ]
    },
    {
      "cell_type": "code",
      "execution_count": 18,
      "metadata": {
        "colab": {
          "base_uri": "https://localhost:8080/",
          "height": 52
        },
        "id": "PNh_MoI8KcZZ",
        "outputId": "bbbb27a0-24a2-489d-fffa-f8abe51f4512"
      },
      "outputs": [
        {
          "ename": "TypeError",
          "evalue": "Descriptors cannot not be created directly.\nIf this call came from a _pb2.py file, your generated code is out of date and must be regenerated with protoc >= 3.19.0.\nIf you cannot immediately regenerate your protos, some other possible workarounds are:\n 1. Downgrade the protobuf package to 3.20.x or lower.\n 2. Set PROTOCOL_BUFFERS_PYTHON_IMPLEMENTATION=python (but this will use pure-Python parsing and will be much slower).\n\nMore information: https://developers.google.com/protocol-buffers/docs/news/2022-05-06#python-updates",
          "output_type": "error",
          "traceback": [
            "\u001b[1;31m---------------------------------------------------------------------------\u001b[0m",
            "\u001b[1;31mTypeError\u001b[0m                                 Traceback (most recent call last)",
            "Cell \u001b[1;32mIn[18], line 1\u001b[0m\n\u001b[1;32m----> 1\u001b[0m \u001b[39mimport\u001b[39;00m \u001b[39monegan\u001b[39;00m\n\u001b[0;32m      2\u001b[0m get_ipython()\u001b[39m.\u001b[39mrun_line_magic(\u001b[39m'\u001b[39m\u001b[39mcd\u001b[39m\u001b[39m'\u001b[39m, \u001b[39m'\u001b[39m\u001b[39m../\u001b[39m\u001b[39m'\u001b[39m)\n\u001b[0;32m      3\u001b[0m get_ipython()\u001b[39m.\u001b[39mrun_line_magic(\u001b[39m'\u001b[39m\u001b[39mpwd\u001b[39m\u001b[39m'\u001b[39m, \u001b[39m'\u001b[39m\u001b[39m'\u001b[39m)\n",
            "File \u001b[1;32mc:\\Users\\DAAI.DESKTOP-128VDS1\\Documents\\deva\\mfs\\spatial_layout_mapping\\lsunroom\\lsun-room\\OneGan\\onegan\\__init__.py:8\u001b[0m\n\u001b[0;32m      6\u001b[0m \u001b[39mfrom\u001b[39;00m \u001b[39monegan\u001b[39;00m \u001b[39mimport\u001b[39;00m visualizer   \u001b[39m# noqa\u001b[39;00m\n\u001b[0;32m      7\u001b[0m \u001b[39mfrom\u001b[39;00m \u001b[39monegan\u001b[39;00m \u001b[39mimport\u001b[39;00m metrics   \u001b[39m# noqa\u001b[39;00m\n\u001b[1;32m----> 8\u001b[0m \u001b[39mfrom\u001b[39;00m \u001b[39monegan\u001b[39;00m \u001b[39mimport\u001b[39;00m extension  \u001b[39m# noqa\u001b[39;00m\n\u001b[0;32m     10\u001b[0m \u001b[39mimport\u001b[39;00m \u001b[39monegan\u001b[39;00m\u001b[39m.\u001b[39;00m\u001b[39mloss\u001b[39;00m  \u001b[39m# noqa\u001b[39;00m\n\u001b[0;32m     11\u001b[0m \u001b[39mimport\u001b[39;00m \u001b[39monegan\u001b[39;00m\u001b[39m.\u001b[39;00m\u001b[39mestimator\u001b[39;00m  \u001b[39m# noqa\u001b[39;00m\n",
            "File \u001b[1;32mc:\\Users\\DAAI.DESKTOP-128VDS1\\Documents\\deva\\mfs\\spatial_layout_mapping\\lsunroom\\lsun-room\\OneGan\\onegan\\extension\\__init__.py:7\u001b[0m\n\u001b[0;32m      1\u001b[0m \u001b[39m# Copyright (c) 2018- Salas Lin (leVirve)\u001b[39;00m\n\u001b[0;32m      2\u001b[0m \u001b[39m#\u001b[39;00m\n\u001b[0;32m      3\u001b[0m \u001b[39m# This software is released under the MIT License.\u001b[39;00m\n\u001b[0;32m      4\u001b[0m \u001b[39m# https://opensource.org/licenses/MIT\u001b[39;00m\n\u001b[0;32m      6\u001b[0m \u001b[39mfrom\u001b[39;00m \u001b[39m.\u001b[39;00m\u001b[39mcheckpoint\u001b[39;00m \u001b[39mimport\u001b[39;00m \u001b[39m*\u001b[39m  \u001b[39m# noqa\u001b[39;00m\n\u001b[1;32m----> 7\u001b[0m \u001b[39mfrom\u001b[39;00m \u001b[39m.\u001b[39;00m\u001b[39mtensorboard\u001b[39;00m \u001b[39mimport\u001b[39;00m \u001b[39m*\u001b[39m  \u001b[39m# noqa\u001b[39;00m\n\u001b[0;32m      8\u001b[0m \u001b[39mfrom\u001b[39;00m \u001b[39m.\u001b[39;00m\u001b[39mimagesaver\u001b[39;00m \u001b[39mimport\u001b[39;00m \u001b[39m*\u001b[39m  \u001b[39m# noqa\u001b[39;00m\n\u001b[0;32m      9\u001b[0m \u001b[39mfrom\u001b[39;00m \u001b[39m.\u001b[39;00m\u001b[39mhistory\u001b[39;00m \u001b[39mimport\u001b[39;00m \u001b[39m*\u001b[39m  \u001b[39m# noqa\u001b[39;00m\n",
            "File \u001b[1;32mc:\\Users\\DAAI.DESKTOP-128VDS1\\Documents\\deva\\mfs\\spatial_layout_mapping\\lsunroom\\lsun-room\\OneGan\\onegan\\extension\\tensorboard.py:6\u001b[0m\n\u001b[0;32m      1\u001b[0m \u001b[39m# Copyright (c) 2018- Salas Lin (leVirve)\u001b[39;00m\n\u001b[0;32m      2\u001b[0m \u001b[39m#\u001b[39;00m\n\u001b[0;32m      3\u001b[0m \u001b[39m# This software is released under the MIT License.\u001b[39;00m\n\u001b[0;32m      4\u001b[0m \u001b[39m# https://opensource.org/licenses/MIT\u001b[39;00m\n\u001b[1;32m----> 6\u001b[0m \u001b[39mimport\u001b[39;00m \u001b[39mtensorboardX\u001b[39;00m\n\u001b[0;32m      8\u001b[0m \u001b[39mfrom\u001b[39;00m \u001b[39m.\u001b[39;00m\u001b[39mbase\u001b[39;00m \u001b[39mimport\u001b[39;00m Extension, unique_experiment_name\n\u001b[0;32m     11\u001b[0m \u001b[39mclass\u001b[39;00m \u001b[39mTensorBoardLogger\u001b[39;00m(Extension):\n",
            "File \u001b[1;32mc:\\Users\\DAAI.DESKTOP-128VDS1\\anaconda3\\lib\\site-packages\\tensorboardX\\__init__.py:5\u001b[0m\n\u001b[0;32m      1\u001b[0m \u001b[39m\"\"\"A module for visualization with tensorboard\u001b[39;00m\n\u001b[0;32m      2\u001b[0m \u001b[39m\"\"\"\u001b[39;00m\n\u001b[0;32m      4\u001b[0m \u001b[39mfrom\u001b[39;00m \u001b[39m.\u001b[39;00m\u001b[39mrecord_writer\u001b[39;00m \u001b[39mimport\u001b[39;00m RecordWriter\n\u001b[1;32m----> 5\u001b[0m \u001b[39mfrom\u001b[39;00m \u001b[39m.\u001b[39;00m\u001b[39mtorchvis\u001b[39;00m \u001b[39mimport\u001b[39;00m TorchVis\n\u001b[0;32m      6\u001b[0m \u001b[39mfrom\u001b[39;00m \u001b[39m.\u001b[39;00m\u001b[39mwriter\u001b[39;00m \u001b[39mimport\u001b[39;00m FileWriter, SummaryWriter\n\u001b[0;32m      7\u001b[0m \u001b[39mfrom\u001b[39;00m \u001b[39m.\u001b[39;00m\u001b[39mglobal_writer\u001b[39;00m \u001b[39mimport\u001b[39;00m GlobalSummaryWriter\n",
            "File \u001b[1;32mc:\\Users\\DAAI.DESKTOP-128VDS1\\anaconda3\\lib\\site-packages\\tensorboardX\\torchvis.py:11\u001b[0m\n\u001b[0;32m      8\u001b[0m \u001b[39mimport\u001b[39;00m \u001b[39mtime\u001b[39;00m\n\u001b[0;32m     10\u001b[0m \u001b[39mfrom\u001b[39;00m \u001b[39mfunctools\u001b[39;00m \u001b[39mimport\u001b[39;00m wraps\n\u001b[1;32m---> 11\u001b[0m \u001b[39mfrom\u001b[39;00m \u001b[39m.\u001b[39;00m\u001b[39mwriter\u001b[39;00m \u001b[39mimport\u001b[39;00m SummaryWriter\n\u001b[0;32m     12\u001b[0m \u001b[39mfrom\u001b[39;00m \u001b[39m.\u001b[39;00m\u001b[39mvisdom_writer\u001b[39;00m \u001b[39mimport\u001b[39;00m VisdomWriter\n\u001b[0;32m     15\u001b[0m \u001b[39m# Supports both TensorBoard and Visdom (no embedding or graph visualization with Visdom)\u001b[39;00m\n",
            "File \u001b[1;32mc:\\Users\\DAAI.DESKTOP-128VDS1\\anaconda3\\lib\\site-packages\\tensorboardX\\writer.py:16\u001b[0m\n\u001b[0;32m     13\u001b[0m \u001b[39mimport\u001b[39;00m \u001b[39matexit\u001b[39;00m\n\u001b[0;32m     15\u001b[0m \u001b[39mfrom\u001b[39;00m \u001b[39m.\u001b[39;00m\u001b[39membedding\u001b[39;00m \u001b[39mimport\u001b[39;00m make_mat, make_sprite, make_tsv, append_pbtxt\n\u001b[1;32m---> 16\u001b[0m \u001b[39mfrom\u001b[39;00m \u001b[39m.\u001b[39;00m\u001b[39mevent_file_writer\u001b[39;00m \u001b[39mimport\u001b[39;00m EventFileWriter\n\u001b[0;32m     17\u001b[0m \u001b[39mfrom\u001b[39;00m \u001b[39m.\u001b[39;00m\u001b[39monnx_graph\u001b[39;00m \u001b[39mimport\u001b[39;00m load_onnx_graph\n\u001b[0;32m     18\u001b[0m \u001b[39mfrom\u001b[39;00m \u001b[39m.\u001b[39;00m\u001b[39mopenvino_graph\u001b[39;00m \u001b[39mimport\u001b[39;00m load_openvino_graph\n",
            "File \u001b[1;32mc:\\Users\\DAAI.DESKTOP-128VDS1\\anaconda3\\lib\\site-packages\\tensorboardX\\event_file_writer.py:28\u001b[0m\n\u001b[0;32m     25\u001b[0m \u001b[39mimport\u001b[39;00m \u001b[39mmultiprocessing\u001b[39;00m\n\u001b[0;32m     26\u001b[0m \u001b[39mimport\u001b[39;00m \u001b[39msix\u001b[39;00m\n\u001b[1;32m---> 28\u001b[0m \u001b[39mfrom\u001b[39;00m \u001b[39m.\u001b[39;00m\u001b[39mproto\u001b[39;00m \u001b[39mimport\u001b[39;00m event_pb2\n\u001b[0;32m     29\u001b[0m \u001b[39mfrom\u001b[39;00m \u001b[39m.\u001b[39;00m\u001b[39mrecord_writer\u001b[39;00m \u001b[39mimport\u001b[39;00m RecordWriter, directory_check\n\u001b[0;32m     32\u001b[0m \u001b[39mclass\u001b[39;00m \u001b[39mEventsWriter\u001b[39;00m(\u001b[39mobject\u001b[39m):\n",
            "File \u001b[1;32mc:\\Users\\DAAI.DESKTOP-128VDS1\\anaconda3\\lib\\site-packages\\tensorboardX\\proto\\event_pb2.py:16\u001b[0m\n\u001b[0;32m     11\u001b[0m \u001b[39m# @@protoc_insertion_point(imports)\u001b[39;00m\n\u001b[0;32m     13\u001b[0m _sym_db \u001b[39m=\u001b[39m _symbol_database\u001b[39m.\u001b[39mDefault()\n\u001b[1;32m---> 16\u001b[0m \u001b[39mfrom\u001b[39;00m \u001b[39mtensorboardX\u001b[39;00m\u001b[39m.\u001b[39;00m\u001b[39mproto\u001b[39;00m \u001b[39mimport\u001b[39;00m summary_pb2 \u001b[39mas\u001b[39;00m tensorboardX_dot_proto_dot_summary__pb2\n\u001b[0;32m     19\u001b[0m DESCRIPTOR \u001b[39m=\u001b[39m _descriptor\u001b[39m.\u001b[39mFileDescriptor(\n\u001b[0;32m     20\u001b[0m   name\u001b[39m=\u001b[39m\u001b[39m'\u001b[39m\u001b[39mtensorboardX/proto/event.proto\u001b[39m\u001b[39m'\u001b[39m,\n\u001b[0;32m     21\u001b[0m   package\u001b[39m=\u001b[39m\u001b[39m'\u001b[39m\u001b[39mtensorboardX\u001b[39m\u001b[39m'\u001b[39m,\n\u001b[1;32m   (...)\u001b[0m\n\u001b[0;32m     25\u001b[0m   ,\n\u001b[0;32m     26\u001b[0m   dependencies\u001b[39m=\u001b[39m[tensorboardX_dot_proto_dot_summary__pb2\u001b[39m.\u001b[39mDESCRIPTOR,])\n\u001b[0;32m     30\u001b[0m _LOGMESSAGE_LEVEL \u001b[39m=\u001b[39m _descriptor\u001b[39m.\u001b[39mEnumDescriptor(\n\u001b[0;32m     31\u001b[0m   name\u001b[39m=\u001b[39m\u001b[39m'\u001b[39m\u001b[39mLevel\u001b[39m\u001b[39m'\u001b[39m,\n\u001b[0;32m     32\u001b[0m   full_name\u001b[39m=\u001b[39m\u001b[39m'\u001b[39m\u001b[39mtensorboardX.LogMessage.Level\u001b[39m\u001b[39m'\u001b[39m,\n\u001b[1;32m   (...)\u001b[0m\n\u001b[0;32m     64\u001b[0m   serialized_end\u001b[39m=\u001b[39m\u001b[39m560\u001b[39m,\n\u001b[0;32m     65\u001b[0m )\n",
            "File \u001b[1;32mc:\\Users\\DAAI.DESKTOP-128VDS1\\anaconda3\\lib\\site-packages\\tensorboardX\\proto\\summary_pb2.py:16\u001b[0m\n\u001b[0;32m     11\u001b[0m \u001b[39m# @@protoc_insertion_point(imports)\u001b[39;00m\n\u001b[0;32m     13\u001b[0m _sym_db \u001b[39m=\u001b[39m _symbol_database\u001b[39m.\u001b[39mDefault()\n\u001b[1;32m---> 16\u001b[0m \u001b[39mfrom\u001b[39;00m \u001b[39mtensorboardX\u001b[39;00m\u001b[39m.\u001b[39;00m\u001b[39mproto\u001b[39;00m \u001b[39mimport\u001b[39;00m tensor_pb2 \u001b[39mas\u001b[39;00m tensorboardX_dot_proto_dot_tensor__pb2\n\u001b[0;32m     19\u001b[0m DESCRIPTOR \u001b[39m=\u001b[39m _descriptor\u001b[39m.\u001b[39mFileDescriptor(\n\u001b[0;32m     20\u001b[0m   name\u001b[39m=\u001b[39m\u001b[39m'\u001b[39m\u001b[39mtensorboardX/proto/summary.proto\u001b[39m\u001b[39m'\u001b[39m,\n\u001b[0;32m     21\u001b[0m   package\u001b[39m=\u001b[39m\u001b[39m'\u001b[39m\u001b[39mtensorboardX\u001b[39m\u001b[39m'\u001b[39m,\n\u001b[1;32m   (...)\u001b[0m\n\u001b[0;32m     25\u001b[0m   ,\n\u001b[0;32m     26\u001b[0m   dependencies\u001b[39m=\u001b[39m[tensorboardX_dot_proto_dot_tensor__pb2\u001b[39m.\u001b[39mDESCRIPTOR,])\n\u001b[0;32m     31\u001b[0m _SUMMARYDESCRIPTION \u001b[39m=\u001b[39m _descriptor\u001b[39m.\u001b[39mDescriptor(\n\u001b[0;32m     32\u001b[0m   name\u001b[39m=\u001b[39m\u001b[39m'\u001b[39m\u001b[39mSummaryDescription\u001b[39m\u001b[39m'\u001b[39m,\n\u001b[0;32m     33\u001b[0m   full_name\u001b[39m=\u001b[39m\u001b[39m'\u001b[39m\u001b[39mtensorboardX.SummaryDescription\u001b[39m\u001b[39m'\u001b[39m,\n\u001b[1;32m   (...)\u001b[0m\n\u001b[0;32m     58\u001b[0m   serialized_end\u001b[39m=\u001b[39m\u001b[39m122\u001b[39m,\n\u001b[0;32m     59\u001b[0m )\n",
            "File \u001b[1;32mc:\\Users\\DAAI.DESKTOP-128VDS1\\anaconda3\\lib\\site-packages\\tensorboardX\\proto\\tensor_pb2.py:16\u001b[0m\n\u001b[0;32m     11\u001b[0m \u001b[39m# @@protoc_insertion_point(imports)\u001b[39;00m\n\u001b[0;32m     13\u001b[0m _sym_db \u001b[39m=\u001b[39m _symbol_database\u001b[39m.\u001b[39mDefault()\n\u001b[1;32m---> 16\u001b[0m \u001b[39mfrom\u001b[39;00m \u001b[39mtensorboardX\u001b[39;00m\u001b[39m.\u001b[39;00m\u001b[39mproto\u001b[39;00m \u001b[39mimport\u001b[39;00m resource_handle_pb2 \u001b[39mas\u001b[39;00m tensorboardX_dot_proto_dot_resource__handle__pb2\n\u001b[0;32m     17\u001b[0m \u001b[39mfrom\u001b[39;00m \u001b[39mtensorboardX\u001b[39;00m\u001b[39m.\u001b[39;00m\u001b[39mproto\u001b[39;00m \u001b[39mimport\u001b[39;00m tensor_shape_pb2 \u001b[39mas\u001b[39;00m tensorboardX_dot_proto_dot_tensor__shape__pb2\n\u001b[0;32m     18\u001b[0m \u001b[39mfrom\u001b[39;00m \u001b[39mtensorboardX\u001b[39;00m\u001b[39m.\u001b[39;00m\u001b[39mproto\u001b[39;00m \u001b[39mimport\u001b[39;00m types_pb2 \u001b[39mas\u001b[39;00m tensorboardX_dot_proto_dot_types__pb2\n",
            "File \u001b[1;32mc:\\Users\\DAAI.DESKTOP-128VDS1\\anaconda3\\lib\\site-packages\\tensorboardX\\proto\\resource_handle_pb2.py:36\u001b[0m\n\u001b[0;32m     13\u001b[0m _sym_db \u001b[39m=\u001b[39m _symbol_database\u001b[39m.\u001b[39mDefault()\n\u001b[0;32m     18\u001b[0m DESCRIPTOR \u001b[39m=\u001b[39m _descriptor\u001b[39m.\u001b[39mFileDescriptor(\n\u001b[0;32m     19\u001b[0m   name\u001b[39m=\u001b[39m\u001b[39m'\u001b[39m\u001b[39mtensorboardX/proto/resource_handle.proto\u001b[39m\u001b[39m'\u001b[39m,\n\u001b[0;32m     20\u001b[0m   package\u001b[39m=\u001b[39m\u001b[39m'\u001b[39m\u001b[39mtensorboardX\u001b[39m\u001b[39m'\u001b[39m,\n\u001b[1;32m   (...)\u001b[0m\n\u001b[0;32m     23\u001b[0m   serialized_pb\u001b[39m=\u001b[39m_b(\u001b[39m'\u001b[39m\u001b[39m\\n\u001b[39;00m\u001b[39m(tensorboardX/proto/resource_handle.proto\u001b[39m\u001b[39m\\x12\u001b[39;00m\u001b[39m\\x0c\u001b[39;00m\u001b[39mtensorboardX\u001b[39m\u001b[39m\\\"\u001b[39;00m\u001b[39mr\u001b[39m\u001b[39m\\n\u001b[39;00m\u001b[39m\\x13\u001b[39;00m\u001b[39mResourceHandleProto\u001b[39m\u001b[39m\\x12\u001b[39;00m\u001b[39m\\x0e\u001b[39;00m\u001b[39m\\n\u001b[39;00m\u001b[39m\\x06\u001b[39;00m\u001b[39m\\x64\u001b[39;00m\u001b[39m\\x65\u001b[39;00m\u001b[39mvice\u001b[39m\u001b[39m\\x18\u001b[39;00m\u001b[39m\\x01\u001b[39;00m\u001b[39m \u001b[39m\u001b[39m\\x01\u001b[39;00m\u001b[39m(\u001b[39m\u001b[39m\\t\u001b[39;00m\u001b[39m\\x12\u001b[39;00m\u001b[39m\\x11\u001b[39;00m\u001b[39m\\n\u001b[39;00m\u001b[39m\\t\u001b[39;00m\u001b[39mcontainer\u001b[39m\u001b[39m\\x18\u001b[39;00m\u001b[39m\\x02\u001b[39;00m\u001b[39m \u001b[39m\u001b[39m\\x01\u001b[39;00m\u001b[39m(\u001b[39m\u001b[39m\\t\u001b[39;00m\u001b[39m\\x12\u001b[39;00m\u001b[39m\\x0c\u001b[39;00m\u001b[39m\\n\u001b[39;00m\u001b[39m\\x04\u001b[39;00m\u001b[39mname\u001b[39m\u001b[39m\\x18\u001b[39;00m\u001b[39m\\x03\u001b[39;00m\u001b[39m \u001b[39m\u001b[39m\\x01\u001b[39;00m\u001b[39m(\u001b[39m\u001b[39m\\t\u001b[39;00m\u001b[39m\\x12\u001b[39;00m\u001b[39m\\x11\u001b[39;00m\u001b[39m\\n\u001b[39;00m\u001b[39m\\t\u001b[39;00m\u001b[39mhash_code\u001b[39m\u001b[39m\\x18\u001b[39;00m\u001b[39m\\x04\u001b[39;00m\u001b[39m \u001b[39m\u001b[39m\\x01\u001b[39;00m\u001b[39m(\u001b[39m\u001b[39m\\x04\u001b[39;00m\u001b[39m\\x12\u001b[39;00m\u001b[39m\\x17\u001b[39;00m\u001b[39m\\n\u001b[39;00m\u001b[39m\\x0f\u001b[39;00m\u001b[39mmaybe_type_name\u001b[39m\u001b[39m\\x18\u001b[39;00m\u001b[39m\\x05\u001b[39;00m\u001b[39m \u001b[39m\u001b[39m\\x01\u001b[39;00m\u001b[39m(\u001b[39m\u001b[39m\\t\u001b[39;00m\u001b[39mB/\u001b[39m\u001b[39m\\n\u001b[39;00m\u001b[39m\\x18\u001b[39;00m\u001b[39morg.tensorflow.frameworkB\u001b[39m\u001b[39m\\x0e\u001b[39;00m\u001b[39mResourceHandleP\u001b[39m\u001b[39m\\x01\u001b[39;00m\u001b[39m\\xf8\u001b[39;00m\u001b[39m\\x01\u001b[39;00m\u001b[39m\\x01\u001b[39;00m\u001b[39m\\x62\u001b[39;00m\u001b[39m\\x06\u001b[39;00m\u001b[39mproto3\u001b[39m\u001b[39m'\u001b[39m)\n\u001b[0;32m     24\u001b[0m )\n\u001b[0;32m     29\u001b[0m _RESOURCEHANDLEPROTO \u001b[39m=\u001b[39m _descriptor\u001b[39m.\u001b[39mDescriptor(\n\u001b[0;32m     30\u001b[0m   name\u001b[39m=\u001b[39m\u001b[39m'\u001b[39m\u001b[39mResourceHandleProto\u001b[39m\u001b[39m'\u001b[39m,\n\u001b[0;32m     31\u001b[0m   full_name\u001b[39m=\u001b[39m\u001b[39m'\u001b[39m\u001b[39mtensorboardX.ResourceHandleProto\u001b[39m\u001b[39m'\u001b[39m,\n\u001b[0;32m     32\u001b[0m   filename\u001b[39m=\u001b[39m\u001b[39mNone\u001b[39;00m,\n\u001b[0;32m     33\u001b[0m   file\u001b[39m=\u001b[39mDESCRIPTOR,\n\u001b[0;32m     34\u001b[0m   containing_type\u001b[39m=\u001b[39m\u001b[39mNone\u001b[39;00m,\n\u001b[0;32m     35\u001b[0m   fields\u001b[39m=\u001b[39m[\n\u001b[1;32m---> 36\u001b[0m     _descriptor\u001b[39m.\u001b[39;49mFieldDescriptor(\n\u001b[0;32m     37\u001b[0m       name\u001b[39m=\u001b[39;49m\u001b[39m'\u001b[39;49m\u001b[39mdevice\u001b[39;49m\u001b[39m'\u001b[39;49m, full_name\u001b[39m=\u001b[39;49m\u001b[39m'\u001b[39;49m\u001b[39mtensorboardX.ResourceHandleProto.device\u001b[39;49m\u001b[39m'\u001b[39;49m, index\u001b[39m=\u001b[39;49m\u001b[39m0\u001b[39;49m,\n\u001b[0;32m     38\u001b[0m       number\u001b[39m=\u001b[39;49m\u001b[39m1\u001b[39;49m, \u001b[39mtype\u001b[39;49m\u001b[39m=\u001b[39;49m\u001b[39m9\u001b[39;49m, cpp_type\u001b[39m=\u001b[39;49m\u001b[39m9\u001b[39;49m, label\u001b[39m=\u001b[39;49m\u001b[39m1\u001b[39;49m,\n\u001b[0;32m     39\u001b[0m       has_default_value\u001b[39m=\u001b[39;49m\u001b[39mFalse\u001b[39;49;00m, default_value\u001b[39m=\u001b[39;49m_b(\u001b[39m\"\u001b[39;49m\u001b[39m\"\u001b[39;49m)\u001b[39m.\u001b[39;49mdecode(\u001b[39m'\u001b[39;49m\u001b[39mutf-8\u001b[39;49m\u001b[39m'\u001b[39;49m),\n\u001b[0;32m     40\u001b[0m       message_type\u001b[39m=\u001b[39;49m\u001b[39mNone\u001b[39;49;00m, enum_type\u001b[39m=\u001b[39;49m\u001b[39mNone\u001b[39;49;00m, containing_type\u001b[39m=\u001b[39;49m\u001b[39mNone\u001b[39;49;00m,\n\u001b[0;32m     41\u001b[0m       is_extension\u001b[39m=\u001b[39;49m\u001b[39mFalse\u001b[39;49;00m, extension_scope\u001b[39m=\u001b[39;49m\u001b[39mNone\u001b[39;49;00m,\n\u001b[0;32m     42\u001b[0m       serialized_options\u001b[39m=\u001b[39;49m\u001b[39mNone\u001b[39;49;00m, file\u001b[39m=\u001b[39;49mDESCRIPTOR),\n\u001b[0;32m     43\u001b[0m     _descriptor\u001b[39m.\u001b[39mFieldDescriptor(\n\u001b[0;32m     44\u001b[0m       name\u001b[39m=\u001b[39m\u001b[39m'\u001b[39m\u001b[39mcontainer\u001b[39m\u001b[39m'\u001b[39m, full_name\u001b[39m=\u001b[39m\u001b[39m'\u001b[39m\u001b[39mtensorboardX.ResourceHandleProto.container\u001b[39m\u001b[39m'\u001b[39m, index\u001b[39m=\u001b[39m\u001b[39m1\u001b[39m,\n\u001b[0;32m     45\u001b[0m       number\u001b[39m=\u001b[39m\u001b[39m2\u001b[39m, \u001b[39mtype\u001b[39m\u001b[39m=\u001b[39m\u001b[39m9\u001b[39m, cpp_type\u001b[39m=\u001b[39m\u001b[39m9\u001b[39m, label\u001b[39m=\u001b[39m\u001b[39m1\u001b[39m,\n\u001b[0;32m     46\u001b[0m       has_default_value\u001b[39m=\u001b[39m\u001b[39mFalse\u001b[39;00m, default_value\u001b[39m=\u001b[39m_b(\u001b[39m\"\u001b[39m\u001b[39m\"\u001b[39m)\u001b[39m.\u001b[39mdecode(\u001b[39m'\u001b[39m\u001b[39mutf-8\u001b[39m\u001b[39m'\u001b[39m),\n\u001b[0;32m     47\u001b[0m       message_type\u001b[39m=\u001b[39m\u001b[39mNone\u001b[39;00m, enum_type\u001b[39m=\u001b[39m\u001b[39mNone\u001b[39;00m, containing_type\u001b[39m=\u001b[39m\u001b[39mNone\u001b[39;00m,\n\u001b[0;32m     48\u001b[0m       is_extension\u001b[39m=\u001b[39m\u001b[39mFalse\u001b[39;00m, extension_scope\u001b[39m=\u001b[39m\u001b[39mNone\u001b[39;00m,\n\u001b[0;32m     49\u001b[0m       serialized_options\u001b[39m=\u001b[39m\u001b[39mNone\u001b[39;00m, file\u001b[39m=\u001b[39mDESCRIPTOR),\n\u001b[0;32m     50\u001b[0m     _descriptor\u001b[39m.\u001b[39mFieldDescriptor(\n\u001b[0;32m     51\u001b[0m       name\u001b[39m=\u001b[39m\u001b[39m'\u001b[39m\u001b[39mname\u001b[39m\u001b[39m'\u001b[39m, full_name\u001b[39m=\u001b[39m\u001b[39m'\u001b[39m\u001b[39mtensorboardX.ResourceHandleProto.name\u001b[39m\u001b[39m'\u001b[39m, index\u001b[39m=\u001b[39m\u001b[39m2\u001b[39m,\n\u001b[0;32m     52\u001b[0m       number\u001b[39m=\u001b[39m\u001b[39m3\u001b[39m, \u001b[39mtype\u001b[39m\u001b[39m=\u001b[39m\u001b[39m9\u001b[39m, cpp_type\u001b[39m=\u001b[39m\u001b[39m9\u001b[39m, label\u001b[39m=\u001b[39m\u001b[39m1\u001b[39m,\n\u001b[0;32m     53\u001b[0m       has_default_value\u001b[39m=\u001b[39m\u001b[39mFalse\u001b[39;00m, default_value\u001b[39m=\u001b[39m_b(\u001b[39m\"\u001b[39m\u001b[39m\"\u001b[39m)\u001b[39m.\u001b[39mdecode(\u001b[39m'\u001b[39m\u001b[39mutf-8\u001b[39m\u001b[39m'\u001b[39m),\n\u001b[0;32m     54\u001b[0m       message_type\u001b[39m=\u001b[39m\u001b[39mNone\u001b[39;00m, enum_type\u001b[39m=\u001b[39m\u001b[39mNone\u001b[39;00m, containing_type\u001b[39m=\u001b[39m\u001b[39mNone\u001b[39;00m,\n\u001b[0;32m     55\u001b[0m       is_extension\u001b[39m=\u001b[39m\u001b[39mFalse\u001b[39;00m, extension_scope\u001b[39m=\u001b[39m\u001b[39mNone\u001b[39;00m,\n\u001b[0;32m     56\u001b[0m       serialized_options\u001b[39m=\u001b[39m\u001b[39mNone\u001b[39;00m, file\u001b[39m=\u001b[39mDESCRIPTOR),\n\u001b[0;32m     57\u001b[0m     _descriptor\u001b[39m.\u001b[39mFieldDescriptor(\n\u001b[0;32m     58\u001b[0m       name\u001b[39m=\u001b[39m\u001b[39m'\u001b[39m\u001b[39mhash_code\u001b[39m\u001b[39m'\u001b[39m, full_name\u001b[39m=\u001b[39m\u001b[39m'\u001b[39m\u001b[39mtensorboardX.ResourceHandleProto.hash_code\u001b[39m\u001b[39m'\u001b[39m, index\u001b[39m=\u001b[39m\u001b[39m3\u001b[39m,\n\u001b[0;32m     59\u001b[0m       number\u001b[39m=\u001b[39m\u001b[39m4\u001b[39m, \u001b[39mtype\u001b[39m\u001b[39m=\u001b[39m\u001b[39m4\u001b[39m, cpp_type\u001b[39m=\u001b[39m\u001b[39m4\u001b[39m, label\u001b[39m=\u001b[39m\u001b[39m1\u001b[39m,\n\u001b[0;32m     60\u001b[0m       has_default_value\u001b[39m=\u001b[39m\u001b[39mFalse\u001b[39;00m, default_value\u001b[39m=\u001b[39m\u001b[39m0\u001b[39m,\n\u001b[0;32m     61\u001b[0m       message_type\u001b[39m=\u001b[39m\u001b[39mNone\u001b[39;00m, enum_type\u001b[39m=\u001b[39m\u001b[39mNone\u001b[39;00m, containing_type\u001b[39m=\u001b[39m\u001b[39mNone\u001b[39;00m,\n\u001b[0;32m     62\u001b[0m       is_extension\u001b[39m=\u001b[39m\u001b[39mFalse\u001b[39;00m, extension_scope\u001b[39m=\u001b[39m\u001b[39mNone\u001b[39;00m,\n\u001b[0;32m     63\u001b[0m       serialized_options\u001b[39m=\u001b[39m\u001b[39mNone\u001b[39;00m, file\u001b[39m=\u001b[39mDESCRIPTOR),\n\u001b[0;32m     64\u001b[0m     _descriptor\u001b[39m.\u001b[39mFieldDescriptor(\n\u001b[0;32m     65\u001b[0m       name\u001b[39m=\u001b[39m\u001b[39m'\u001b[39m\u001b[39mmaybe_type_name\u001b[39m\u001b[39m'\u001b[39m, full_name\u001b[39m=\u001b[39m\u001b[39m'\u001b[39m\u001b[39mtensorboardX.ResourceHandleProto.maybe_type_name\u001b[39m\u001b[39m'\u001b[39m, index\u001b[39m=\u001b[39m\u001b[39m4\u001b[39m,\n\u001b[0;32m     66\u001b[0m       number\u001b[39m=\u001b[39m\u001b[39m5\u001b[39m, \u001b[39mtype\u001b[39m\u001b[39m=\u001b[39m\u001b[39m9\u001b[39m, cpp_type\u001b[39m=\u001b[39m\u001b[39m9\u001b[39m, label\u001b[39m=\u001b[39m\u001b[39m1\u001b[39m,\n\u001b[0;32m     67\u001b[0m       has_default_value\u001b[39m=\u001b[39m\u001b[39mFalse\u001b[39;00m, default_value\u001b[39m=\u001b[39m_b(\u001b[39m\"\u001b[39m\u001b[39m\"\u001b[39m)\u001b[39m.\u001b[39mdecode(\u001b[39m'\u001b[39m\u001b[39mutf-8\u001b[39m\u001b[39m'\u001b[39m),\n\u001b[0;32m     68\u001b[0m       message_type\u001b[39m=\u001b[39m\u001b[39mNone\u001b[39;00m, enum_type\u001b[39m=\u001b[39m\u001b[39mNone\u001b[39;00m, containing_type\u001b[39m=\u001b[39m\u001b[39mNone\u001b[39;00m,\n\u001b[0;32m     69\u001b[0m       is_extension\u001b[39m=\u001b[39m\u001b[39mFalse\u001b[39;00m, extension_scope\u001b[39m=\u001b[39m\u001b[39mNone\u001b[39;00m,\n\u001b[0;32m     70\u001b[0m       serialized_options\u001b[39m=\u001b[39m\u001b[39mNone\u001b[39;00m, file\u001b[39m=\u001b[39mDESCRIPTOR),\n\u001b[0;32m     71\u001b[0m   ],\n\u001b[0;32m     72\u001b[0m   extensions\u001b[39m=\u001b[39m[\n\u001b[0;32m     73\u001b[0m   ],\n\u001b[0;32m     74\u001b[0m   nested_types\u001b[39m=\u001b[39m[],\n\u001b[0;32m     75\u001b[0m   enum_types\u001b[39m=\u001b[39m[\n\u001b[0;32m     76\u001b[0m   ],\n\u001b[0;32m     77\u001b[0m   serialized_options\u001b[39m=\u001b[39m\u001b[39mNone\u001b[39;00m,\n\u001b[0;32m     78\u001b[0m   is_extendable\u001b[39m=\u001b[39m\u001b[39mFalse\u001b[39;00m,\n\u001b[0;32m     79\u001b[0m   syntax\u001b[39m=\u001b[39m\u001b[39m'\u001b[39m\u001b[39mproto3\u001b[39m\u001b[39m'\u001b[39m,\n\u001b[0;32m     80\u001b[0m   extension_ranges\u001b[39m=\u001b[39m[],\n\u001b[0;32m     81\u001b[0m   oneofs\u001b[39m=\u001b[39m[\n\u001b[0;32m     82\u001b[0m   ],\n\u001b[0;32m     83\u001b[0m   serialized_start\u001b[39m=\u001b[39m\u001b[39m58\u001b[39m,\n\u001b[0;32m     84\u001b[0m   serialized_end\u001b[39m=\u001b[39m\u001b[39m172\u001b[39m,\n\u001b[0;32m     85\u001b[0m )\n\u001b[0;32m     87\u001b[0m DESCRIPTOR\u001b[39m.\u001b[39mmessage_types_by_name[\u001b[39m'\u001b[39m\u001b[39mResourceHandleProto\u001b[39m\u001b[39m'\u001b[39m] \u001b[39m=\u001b[39m _RESOURCEHANDLEPROTO\n\u001b[0;32m     88\u001b[0m _sym_db\u001b[39m.\u001b[39mRegisterFileDescriptor(DESCRIPTOR)\n",
            "File \u001b[1;32mc:\\Users\\DAAI.DESKTOP-128VDS1\\anaconda3\\lib\\site-packages\\google\\protobuf\\descriptor.py:561\u001b[0m, in \u001b[0;36mFieldDescriptor.__new__\u001b[1;34m(cls, name, full_name, index, number, type, cpp_type, label, default_value, message_type, enum_type, containing_type, is_extension, extension_scope, options, serialized_options, has_default_value, containing_oneof, json_name, file, create_key)\u001b[0m\n\u001b[0;32m    555\u001b[0m \u001b[39mdef\u001b[39;00m \u001b[39m__new__\u001b[39m(\u001b[39mcls\u001b[39m, name, full_name, index, number, \u001b[39mtype\u001b[39m, cpp_type, label,\n\u001b[0;32m    556\u001b[0m             default_value, message_type, enum_type, containing_type,\n\u001b[0;32m    557\u001b[0m             is_extension, extension_scope, options\u001b[39m=\u001b[39m\u001b[39mNone\u001b[39;00m,\n\u001b[0;32m    558\u001b[0m             serialized_options\u001b[39m=\u001b[39m\u001b[39mNone\u001b[39;00m,\n\u001b[0;32m    559\u001b[0m             has_default_value\u001b[39m=\u001b[39m\u001b[39mTrue\u001b[39;00m, containing_oneof\u001b[39m=\u001b[39m\u001b[39mNone\u001b[39;00m, json_name\u001b[39m=\u001b[39m\u001b[39mNone\u001b[39;00m,\n\u001b[0;32m    560\u001b[0m             file\u001b[39m=\u001b[39m\u001b[39mNone\u001b[39;00m, create_key\u001b[39m=\u001b[39m\u001b[39mNone\u001b[39;00m):  \u001b[39m# pylint: disable=redefined-builtin\u001b[39;00m\n\u001b[1;32m--> 561\u001b[0m   _message\u001b[39m.\u001b[39;49mMessage\u001b[39m.\u001b[39;49m_CheckCalledFromGeneratedFile()\n\u001b[0;32m    562\u001b[0m   \u001b[39mif\u001b[39;00m is_extension:\n\u001b[0;32m    563\u001b[0m     \u001b[39mreturn\u001b[39;00m _message\u001b[39m.\u001b[39mdefault_pool\u001b[39m.\u001b[39mFindExtensionByName(full_name)\n",
            "\u001b[1;31mTypeError\u001b[0m: Descriptors cannot not be created directly.\nIf this call came from a _pb2.py file, your generated code is out of date and must be regenerated with protoc >= 3.19.0.\nIf you cannot immediately regenerate your protos, some other possible workarounds are:\n 1. Downgrade the protobuf package to 3.20.x or lower.\n 2. Set PROTOCOL_BUFFERS_PYTHON_IMPLEMENTATION=python (but this will use pure-Python parsing and will be much slower).\n\nMore information: https://developers.google.com/protocol-buffers/docs/news/2022-05-06#python-updates"
          ]
        }
      ],
      "source": [
        "import onegan\n",
        "%cd ../\n",
        "%pwd"
      ]
    },
    {
      "cell_type": "markdown",
      "metadata": {
        "id": "rxPZgchoLtLX"
      },
      "source": [
        "## Loading sample data"
      ]
    },
    {
      "cell_type": "code",
      "execution_count": null,
      "metadata": {
        "colab": {
          "base_uri": "https://localhost:8080/",
          "height": 35
        },
        "id": "cRmm2GIgHxvL",
        "outputId": "0197ef83-4ae6-43a9-a211-f804af8d522f"
      },
      "outputs": [
        {
          "data": {
            "application/vnd.google.colaboratory.intrinsic+json": {
              "type": "string"
            },
            "text/plain": [
              "'/content/data/inputs/'"
            ]
          },
          "execution_count": 9,
          "metadata": {},
          "output_type": "execute_result"
        }
      ],
      "source": [
        "image_filepath = f'{HOME}/data/inputs/'\n",
        "image_filepath"
      ]
    },
    {
      "cell_type": "markdown",
      "metadata": {
        "id": "H9vCK1GIM0g7"
      },
      "source": [
        "## Process the input images from folder"
      ]
    },
    {
      "cell_type": "code",
      "execution_count": null,
      "metadata": {
        "colab": {
          "base_uri": "https://localhost:8080/",
          "height": 182
        },
        "id": "jh-xhlTvizeN",
        "outputId": "4dcc97ee-c4bd-4660-cce2-2376043170e3"
      },
      "outputs": [
        {
          "ename": "NameError",
          "evalue": "ignored",
          "output_type": "error",
          "traceback": [
            "\u001b[0;31m---------------------------------------------------------------------------\u001b[0m",
            "\u001b[0;31mNameError\u001b[0m                                 Traceback (most recent call last)",
            "\u001b[0;32m<ipython-input-10-28ade12e7705>\u001b[0m in \u001b[0;36m<cell line: 1>\u001b[0;34m()\u001b[0m\n\u001b[0;32m----> 1\u001b[0;31m \u001b[0mrandom\u001b[0m\u001b[0;34m(\u001b[0m\u001b[0;34m)\u001b[0m\u001b[0;34m\u001b[0m\u001b[0;34m\u001b[0m\u001b[0m\n\u001b[0m\u001b[1;32m      2\u001b[0m \u001b[0;31m## have to change the code in demo, then run the code snippet below\u001b[0m\u001b[0;34m\u001b[0m\u001b[0;34m\u001b[0m\u001b[0m\n",
            "\u001b[0;31mNameError\u001b[0m: name 'random' is not defined"
          ]
        }
      ],
      "source": [
        "random()\n",
        "## have to change the code in demo, then run the code snippet below\n",
        "# Have to add variables to the return statement in the feed method of Predictor class in the demo.py file"
      ]
    },
    {
      "cell_type": "code",
      "execution_count": null,
      "metadata": {
        "colab": {
          "base_uri": "https://localhost:8080/"
        },
        "id": "lrOraJCDOsJo",
        "outputId": "14fc754b-d09d-4114-9b5e-6b817c610d4e"
      },
      "outputs": [
        {
          "name": "stderr",
          "output_type": "stream",
          "text": [
            "INFO:pytorch_lightning.utilities.migration.utils:Lightning automatically upgraded your loaded checkpoint from v1.1.7 to v2.0.4. To apply the upgrade to your files permanently, run `python -m pytorch_lightning.utilities.upgrade_checkpoint --file ../drive/MyDrive/Colab Notebooks/ML/projects/MFS/spatial layout mapping/model_retrained.ckpt`\n",
            "\u001b[32m2023-07-03 11:46:25.095\u001b[0m | \u001b[1mINFO    \u001b[0m | \u001b[36m__main__\u001b[0m:\u001b[36m<cell line: 25>\u001b[0m:\u001b[36m43\u001b[0m - \u001b[1mWrite to /content/data/outputs/img9.jpeg, Exec time0.042s\u001b[0m\n",
            "\u001b[32m2023-07-03 11:46:25.310\u001b[0m | \u001b[1mINFO    \u001b[0m | \u001b[36m__main__\u001b[0m:\u001b[36m<cell line: 25>\u001b[0m:\u001b[36m43\u001b[0m - \u001b[1mWrite to /content/data/outputs/img1.jpeg, Exec time0.041s\u001b[0m\n",
            "\u001b[32m2023-07-03 11:46:25.523\u001b[0m | \u001b[1mINFO    \u001b[0m | \u001b[36m__main__\u001b[0m:\u001b[36m<cell line: 25>\u001b[0m:\u001b[36m43\u001b[0m - \u001b[1mWrite to /content/data/outputs/img2.jpeg, Exec time0.043s\u001b[0m\n",
            "\u001b[32m2023-07-03 11:46:25.730\u001b[0m | \u001b[1mINFO    \u001b[0m | \u001b[36m__main__\u001b[0m:\u001b[36m<cell line: 25>\u001b[0m:\u001b[36m43\u001b[0m - \u001b[1mWrite to /content/data/outputs/img6.jpeg, Exec time0.042s\u001b[0m\n",
            "\u001b[32m2023-07-03 11:46:25.898\u001b[0m | \u001b[1mINFO    \u001b[0m | \u001b[36m__main__\u001b[0m:\u001b[36m<cell line: 25>\u001b[0m:\u001b[36m43\u001b[0m - \u001b[1mWrite to /content/data/outputs/3.jpg, Exec time0.040s\u001b[0m\n",
            "\u001b[32m2023-07-03 11:46:26.103\u001b[0m | \u001b[1mINFO    \u001b[0m | \u001b[36m__main__\u001b[0m:\u001b[36m<cell line: 25>\u001b[0m:\u001b[36m43\u001b[0m - \u001b[1mWrite to /content/data/outputs/img8.jpeg, Exec time0.042s\u001b[0m\n",
            "\u001b[32m2023-07-03 11:46:26.300\u001b[0m | \u001b[1mINFO    \u001b[0m | \u001b[36m__main__\u001b[0m:\u001b[36m<cell line: 25>\u001b[0m:\u001b[36m43\u001b[0m - \u001b[1mWrite to /content/data/outputs/test1.jpg, Exec time0.042s\u001b[0m\n",
            "\u001b[32m2023-07-03 11:46:27.231\u001b[0m | \u001b[1mINFO    \u001b[0m | \u001b[36m__main__\u001b[0m:\u001b[36m<cell line: 25>\u001b[0m:\u001b[36m43\u001b[0m - \u001b[1mWrite to /content/data/outputs/test3.jpg, Exec time0.071s\u001b[0m\n",
            "\u001b[32m2023-07-03 11:46:28.245\u001b[0m | \u001b[1mINFO    \u001b[0m | \u001b[36m__main__\u001b[0m:\u001b[36m<cell line: 25>\u001b[0m:\u001b[36m43\u001b[0m - \u001b[1mWrite to /content/data/outputs/test4.jpg, Exec time0.072s\u001b[0m\n",
            "\u001b[32m2023-07-03 11:46:28.454\u001b[0m | \u001b[1mINFO    \u001b[0m | \u001b[36m__main__\u001b[0m:\u001b[36m<cell line: 25>\u001b[0m:\u001b[36m43\u001b[0m - \u001b[1mWrite to /content/data/outputs/img3.jpeg, Exec time0.042s\u001b[0m\n",
            "\u001b[32m2023-07-03 11:46:29.314\u001b[0m | \u001b[1mINFO    \u001b[0m | \u001b[36m__main__\u001b[0m:\u001b[36m<cell line: 25>\u001b[0m:\u001b[36m43\u001b[0m - \u001b[1mWrite to /content/data/outputs/test.jpg, Exec time0.067s\u001b[0m\n",
            "\u001b[32m2023-07-03 11:46:29.516\u001b[0m | \u001b[1mINFO    \u001b[0m | \u001b[36m__main__\u001b[0m:\u001b[36m<cell line: 25>\u001b[0m:\u001b[36m43\u001b[0m - \u001b[1mWrite to /content/data/outputs/kitchen.jpg, Exec time0.042s\u001b[0m\n"
          ]
        }
      ],
      "source": [
        "import numpy as np\n",
        "import pathlib\n",
        "from loguru import logger\n",
        "import cv2\n",
        "import matplotlib.pyplot as plt\n",
        "import time\n",
        "\n",
        "from demo import Predictor\n",
        "from datasets import sequence\n",
        "\n",
        "output_folder = f'{HOME}/data/outputs/'\n",
        "weight='/content/drive/MyDrive/Colab Notebooks/ML/projects/MFS/spatial layout mapping/model_retrained.ckpt'\n",
        "# weight = '/content/drive/MyDrive/model_retrained.ckpt'\n",
        "image_size = 320\n",
        "path = image_filepath\n",
        "cat_visual = False\n",
        "\n",
        "output_folder = pathlib.Path(output_folder)\n",
        "output_folder.mkdir(exist_ok=True, parents=True)\n",
        "\n",
        "predictor = Predictor(weight_path=weight)\n",
        "images = sequence.ImageFolder(image_size, path)\n",
        "all_results = []\n",
        "\n",
        "for image, shape, path in images:\n",
        "    st = time.time()\n",
        "    results = predictor.feed(image, alpha=1.)\n",
        "    label = cv2.resize(results[0], shape)\n",
        "    et = time.time()\n",
        "    all_results.append(results)\n",
        "\n",
        "    image = cv2.resize((image / 2 + .5).permute(1, 2, 0).numpy(), shape)\n",
        "    if cat_visual:\n",
        "        output = np.concatenate([image, label], axis=1)\n",
        "    else:\n",
        "        output = label\n",
        "    output_path = output_folder / path.name\n",
        "    cv2.imwrite(str(output_path), (output[..., ::-1] * 255).astype(np.uint8))\n",
        "\n",
        "    output_matrix_path = str(output_folder)+'/'+path.name.split('.')[0]+'.txt'\n",
        "    np.savetxt(output_matrix_path, results[2][0].cpu().data.numpy())\n",
        "\n",
        "    logger.info('Write to {}, Exec time{:.3f}s'.format(output_path, et-st))"
      ]
    },
    {
      "cell_type": "code",
      "execution_count": null,
      "metadata": {
        "id": "56SqDTBijo7P"
      },
      "outputs": [],
      "source": [
        "b, _, out, lab = all_results[-1]"
      ]
    },
    {
      "cell_type": "code",
      "execution_count": null,
      "metadata": {
        "colab": {
          "base_uri": "https://localhost:8080/"
        },
        "id": "WTlleCIX6YXC",
        "outputId": "f7d31beb-355a-49ce-b78d-6d91394b67d2"
      },
      "outputs": [
        {
          "data": {
            "text/plain": [
              "array([[1, 1, 1, ..., 2, 2, 2],\n",
              "       [1, 1, 1, ..., 2, 2, 2],\n",
              "       [1, 1, 1, ..., 2, 2, 2],\n",
              "       ...,\n",
              "       [3, 3, 3, ..., 3, 3, 3],\n",
              "       [3, 3, 3, ..., 3, 3, 3],\n",
              "       [3, 3, 3, ..., 3, 3, 3]])"
            ]
          },
          "execution_count": 24,
          "metadata": {},
          "output_type": "execute_result"
        }
      ],
      "source": [
        "out[0].cpu().data.numpy()"
      ]
    },
    {
      "cell_type": "code",
      "execution_count": null,
      "metadata": {
        "id": "r-nS4Hao52F2"
      },
      "outputs": [],
      "source": [
        "np.savetxt('out-k.txt', out[0].cpu().data.numpy())"
      ]
    }
  ],
  "metadata": {
    "accelerator": "GPU",
    "colab": {
      "gpuType": "T4",
      "provenance": []
    },
    "kernelspec": {
      "display_name": "Python 3",
      "name": "python3"
    },
    "language_info": {
      "codemirror_mode": {
        "name": "ipython",
        "version": 3
      },
      "file_extension": ".py",
      "mimetype": "text/x-python",
      "name": "python",
      "nbconvert_exporter": "python",
      "pygments_lexer": "ipython3",
      "version": "3.10.9"
    }
  },
  "nbformat": 4,
  "nbformat_minor": 0
}
