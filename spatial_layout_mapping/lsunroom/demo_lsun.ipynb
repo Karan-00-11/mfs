{
  "cells": [
    {
      "cell_type": "code",
      "execution_count": null,
      "metadata": {
        "colab": {
          "base_uri": "https://localhost:8080/"
        },
        "id": "jwvbPP5U6kSr",
        "outputId": "d26f7d71-b125-4f4e-c78c-5c25170e5eaf"
      },
      "outputs": [
        {
          "name": "stdout",
          "output_type": "stream",
          "text": [
            "Mon Jul  3 11:30:27 2023       \n",
            "+-----------------------------------------------------------------------------+\n",
            "| NVIDIA-SMI 525.85.12    Driver Version: 525.85.12    CUDA Version: 12.0     |\n",
            "|-------------------------------+----------------------+----------------------+\n",
            "| GPU  Name        Persistence-M| Bus-Id        Disp.A | Volatile Uncorr. ECC |\n",
            "| Fan  Temp  Perf  Pwr:Usage/Cap|         Memory-Usage | GPU-Util  Compute M. |\n",
            "|                               |                      |               MIG M. |\n",
            "|===============================+======================+======================|\n",
            "|   0  Tesla T4            Off  | 00000000:00:04.0 Off |                    0 |\n",
            "| N/A   43C    P8     9W /  70W |      0MiB / 15360MiB |      0%      Default |\n",
            "|                               |                      |                  N/A |\n",
            "+-------------------------------+----------------------+----------------------+\n",
            "                                                                               \n",
            "+-----------------------------------------------------------------------------+\n",
            "| Processes:                                                                  |\n",
            "|  GPU   GI   CI        PID   Type   Process name                  GPU Memory |\n",
            "|        ID   ID                                                   Usage      |\n",
            "|=============================================================================|\n",
            "|  No running processes found                                                 |\n",
            "+-----------------------------------------------------------------------------+\n"
          ]
        }
      ],
      "source": [
        "!nvidia-smi"
      ]
    },
    {
      "cell_type": "code",
      "execution_count": null,
      "metadata": {
        "colab": {
          "base_uri": "https://localhost:8080/"
        },
        "id": "GyohaAUJL2TH",
        "outputId": "98830f88-c8f6-411f-c590-1ca6e3442177"
      },
      "outputs": [
        {
          "name": "stdout",
          "output_type": "stream",
          "text": [
            "HOME: /content\n"
          ]
        }
      ],
      "source": [
        "# Acquring GPU\n",
        "# !nvidia-smi\n",
        "\n",
        "import os\n",
        "HOME = os.getcwd()\n",
        "print(\"HOME:\", HOME)"
      ]
    },
    {
      "cell_type": "code",
      "execution_count": null,
      "metadata": {
        "colab": {
          "base_uri": "https://localhost:8080/"
        },
        "id": "VlbGETYLr_0X",
        "outputId": "b050fb1b-2eb6-41d7-c6e0-82292f3ff690"
      },
      "outputs": [
        {
          "name": "stdout",
          "output_type": "stream",
          "text": [
            "Cloning into 'lsun-room'...\n",
            "remote: Enumerating objects: 868, done.\u001b[K\n",
            "remote: Counting objects: 100% (162/162), done.\u001b[K\n",
            "remote: Compressing objects: 100% (99/99), done.\u001b[K\n",
            "remote: Total 868 (delta 55), reused 153 (delta 53), pack-reused 706\u001b[K\n",
            "Receiving objects: 100% (868/868), 4.85 MiB | 4.92 MiB/s, done.\n",
            "Resolving deltas: 100% (443/443), done.\n"
          ]
        }
      ],
      "source": [
        "!git clone https://github.com/leVirve/lsun-room.git"
      ]
    },
    {
      "cell_type": "code",
      "execution_count": null,
      "metadata": {
        "colab": {
          "base_uri": "https://localhost:8080/"
        },
        "id": "aPR3rGOatmi9",
        "outputId": "5c9a1e30-f2a6-4d9e-c64f-60f0f97c02a2"
      },
      "outputs": [
        {
          "name": "stdout",
          "output_type": "stream",
          "text": [
            "/content/lsun-room\n",
            "Collecting click==7.1.2 (from -r requirements.txt (line 1))\n",
            "  Downloading click-7.1.2-py2.py3-none-any.whl (82 kB)\n",
            "\u001b[2K     \u001b[90m━━━━━━━━━━━━━━━━━━━━━━━━━━━━━━━━━━━━━━━━\u001b[0m \u001b[32m82.8/82.8 kB\u001b[0m \u001b[31m9.8 MB/s\u001b[0m eta \u001b[36m0:00:00\u001b[0m\n",
            "\u001b[?25hCollecting cycler==0.10.0 (from -r requirements.txt (line 2))\n",
            "  Downloading cycler-0.10.0-py2.py3-none-any.whl (6.5 kB)\n",
            "Requirement already satisfied: decorator==4.4.2 in /usr/local/lib/python3.10/dist-packages (from -r requirements.txt (line 3)) (4.4.2)\n",
            "Collecting imageio==2.9.0 (from -r requirements.txt (line 4))\n",
            "  Downloading imageio-2.9.0-py3-none-any.whl (3.3 MB)\n",
            "\u001b[2K     \u001b[90m━━━━━━━━━━━━━━━━━━━━━━━━━━━━━━━━━━━━━━━━\u001b[0m \u001b[32m3.3/3.3 MB\u001b[0m \u001b[31m72.1 MB/s\u001b[0m eta \u001b[36m0:00:00\u001b[0m\n",
            "\u001b[?25hCollecting kornia==0.4.1 (from -r requirements.txt (line 5))\n",
            "  Downloading kornia-0.4.1-py2.py3-none-any.whl (225 kB)\n",
            "\u001b[2K     \u001b[90m━━━━━━━━━━━━━━━━━━━━━━━━━━━━━━━━━━━━━━\u001b[0m \u001b[32m225.1/225.1 kB\u001b[0m \u001b[31m28.6 MB/s\u001b[0m eta \u001b[36m0:00:00\u001b[0m\n",
            "\u001b[?25hCollecting opencv-python==4.5.1.48 (from -r requirements.txt (line 6))\n",
            "  Downloading opencv-python-4.5.1.48.tar.gz (88.3 MB)\n",
            "\u001b[2K     \u001b[90m━━━━━━━━━━━━━━━━━━━━━━━━━━━━━━━━━━━━━━━━\u001b[0m \u001b[32m88.3/88.3 MB\u001b[0m \u001b[31m9.1 MB/s\u001b[0m eta \u001b[36m0:00:00\u001b[0m\n",
            "\u001b[?25h  \u001b[1;31merror\u001b[0m: \u001b[1msubprocess-exited-with-error\u001b[0m\n",
            "  \n",
            "  \u001b[31m×\u001b[0m \u001b[32mpip subprocess to install build dependencies\u001b[0m did not run successfully.\n",
            "  \u001b[31m│\u001b[0m exit code: \u001b[1;36m1\u001b[0m\n",
            "  \u001b[31m╰─>\u001b[0m See above for output.\n",
            "  \n",
            "  \u001b[1;35mnote\u001b[0m: This error originates from a subprocess, and is likely not a problem with pip.\n",
            "  Installing build dependencies ... \u001b[?25l\u001b[?25herror\n",
            "\u001b[1;31merror\u001b[0m: \u001b[1msubprocess-exited-with-error\u001b[0m\n",
            "\n",
            "\u001b[31m×\u001b[0m \u001b[32mpip subprocess to install build dependencies\u001b[0m did not run successfully.\n",
            "\u001b[31m│\u001b[0m exit code: \u001b[1;36m1\u001b[0m\n",
            "\u001b[31m╰─>\u001b[0m See above for output.\n",
            "\n",
            "\u001b[1;35mnote\u001b[0m: This error originates from a subprocess, and is likely not a problem with pip.\n"
          ]
        }
      ],
      "source": [
        "LSUN_PATH = HOME+\"/lsun-room/\"\n",
        "\n",
        "%cd {LSUN_PATH}\n",
        "!pip install -r requirements.txt --pre"
      ]
    },
    {
      "cell_type": "code",
      "execution_count": null,
      "metadata": {
        "colab": {
          "base_uri": "https://localhost:8080/"
        },
        "id": "whLpDiWxmUBr",
        "outputId": "00d641e2-cd4e-4874-d558-b45f24d8309a"
      },
      "outputs": [
        {
          "name": "stdout",
          "output_type": "stream",
          "text": [
            "Collecting loguru\n",
            "  Downloading loguru-0.7.0-py3-none-any.whl (59 kB)\n",
            "\u001b[?25l     \u001b[90m━━━━━━━━━━━━━━━━━━━━━━━━━━━━━━━━━━━━━━━━\u001b[0m \u001b[32m0.0/60.0 kB\u001b[0m \u001b[31m?\u001b[0m eta \u001b[36m-:--:--\u001b[0m\r\u001b[2K     \u001b[90m━━━━━━━━━━━━━━━━━━━━━━━━━━━━━━━━━━━━━━━━\u001b[0m \u001b[32m60.0/60.0 kB\u001b[0m \u001b[31m6.6 MB/s\u001b[0m eta \u001b[36m0:00:00\u001b[0m\n",
            "\u001b[?25hInstalling collected packages: loguru\n",
            "Successfully installed loguru-0.7.0\n",
            "Requirement already satisfied: grpcio in /usr/local/lib/python3.10/dist-packages (1.56.0)\n",
            "Collecting tensorboardx==2.1\n",
            "  Downloading tensorboardX-2.1-py2.py3-none-any.whl (308 kB)\n",
            "\u001b[2K     \u001b[90m━━━━━━━━━━━━━━━━━━━━━━━━━━━━━━━━━━━━━━\u001b[0m \u001b[32m308.8/308.8 kB\u001b[0m \u001b[31m12.1 MB/s\u001b[0m eta \u001b[36m0:00:00\u001b[0m\n",
            "\u001b[?25hRequirement already satisfied: numpy in /usr/local/lib/python3.10/dist-packages (from tensorboardx==2.1) (1.22.4)\n",
            "Requirement already satisfied: protobuf>=3.8.0 in /usr/local/lib/python3.10/dist-packages (from tensorboardx==2.1) (3.20.3)\n",
            "Requirement already satisfied: six in /usr/local/lib/python3.10/dist-packages (from tensorboardx==2.1) (1.16.0)\n",
            "Installing collected packages: tensorboardx\n",
            "Successfully installed tensorboardx-2.1\n",
            "Collecting pytorch-lightning\n",
            "  Downloading pytorch_lightning-2.0.4-py3-none-any.whl (721 kB)\n",
            "\u001b[2K     \u001b[90m━━━━━━━━━━━━━━━━━━━━━━━━━━━━━━━━━━━━━━\u001b[0m \u001b[32m721.2/721.2 kB\u001b[0m \u001b[31m27.0 MB/s\u001b[0m eta \u001b[36m0:00:00\u001b[0m\n",
            "\u001b[?25hRequirement already satisfied: numpy>=1.17.2 in /usr/local/lib/python3.10/dist-packages (from pytorch-lightning) (1.22.4)\n",
            "Requirement already satisfied: torch>=1.11.0 in /usr/local/lib/python3.10/dist-packages (from pytorch-lightning) (2.0.1+cu118)\n",
            "Requirement already satisfied: tqdm>=4.57.0 in /usr/local/lib/python3.10/dist-packages (from pytorch-lightning) (4.65.0)\n",
            "Requirement already satisfied: PyYAML>=5.4 in /usr/local/lib/python3.10/dist-packages (from pytorch-lightning) (6.0)\n",
            "Requirement already satisfied: fsspec[http]>2021.06.0 in /usr/local/lib/python3.10/dist-packages (from pytorch-lightning) (2023.6.0)\n",
            "Collecting torchmetrics>=0.7.0 (from pytorch-lightning)\n",
            "  Downloading torchmetrics-0.11.4-py3-none-any.whl (519 kB)\n",
            "\u001b[2K     \u001b[90m━━━━━━━━━━━━━━━━━━━━━━━━━━━━━━━━━━━━━━\u001b[0m \u001b[32m519.2/519.2 kB\u001b[0m \u001b[31m44.4 MB/s\u001b[0m eta \u001b[36m0:00:00\u001b[0m\n",
            "\u001b[?25hRequirement already satisfied: packaging>=17.1 in /usr/local/lib/python3.10/dist-packages (from pytorch-lightning) (23.1)\n",
            "Requirement already satisfied: typing-extensions>=4.0.0 in /usr/local/lib/python3.10/dist-packages (from pytorch-lightning) (4.6.3)\n",
            "Collecting lightning-utilities>=0.7.0 (from pytorch-lightning)\n",
            "  Downloading lightning_utilities-0.9.0-py3-none-any.whl (23 kB)\n",
            "Requirement already satisfied: requests in /usr/local/lib/python3.10/dist-packages (from fsspec[http]>2021.06.0->pytorch-lightning) (2.27.1)\n",
            "Requirement already satisfied: aiohttp!=4.0.0a0,!=4.0.0a1 in /usr/local/lib/python3.10/dist-packages (from fsspec[http]>2021.06.0->pytorch-lightning) (3.8.4)\n",
            "Requirement already satisfied: filelock in /usr/local/lib/python3.10/dist-packages (from torch>=1.11.0->pytorch-lightning) (3.12.2)\n",
            "Requirement already satisfied: sympy in /usr/local/lib/python3.10/dist-packages (from torch>=1.11.0->pytorch-lightning) (1.11.1)\n",
            "Requirement already satisfied: networkx in /usr/local/lib/python3.10/dist-packages (from torch>=1.11.0->pytorch-lightning) (3.1)\n",
            "Requirement already satisfied: jinja2 in /usr/local/lib/python3.10/dist-packages (from torch>=1.11.0->pytorch-lightning) (3.1.2)\n",
            "Requirement already satisfied: triton==2.0.0 in /usr/local/lib/python3.10/dist-packages (from torch>=1.11.0->pytorch-lightning) (2.0.0)\n",
            "Requirement already satisfied: cmake in /usr/local/lib/python3.10/dist-packages (from triton==2.0.0->torch>=1.11.0->pytorch-lightning) (3.25.2)\n",
            "Requirement already satisfied: lit in /usr/local/lib/python3.10/dist-packages (from triton==2.0.0->torch>=1.11.0->pytorch-lightning) (16.0.6)\n",
            "Requirement already satisfied: attrs>=17.3.0 in /usr/local/lib/python3.10/dist-packages (from aiohttp!=4.0.0a0,!=4.0.0a1->fsspec[http]>2021.06.0->pytorch-lightning) (23.1.0)\n",
            "Requirement already satisfied: charset-normalizer<4.0,>=2.0 in /usr/local/lib/python3.10/dist-packages (from aiohttp!=4.0.0a0,!=4.0.0a1->fsspec[http]>2021.06.0->pytorch-lightning) (2.0.12)\n",
            "Requirement already satisfied: multidict<7.0,>=4.5 in /usr/local/lib/python3.10/dist-packages (from aiohttp!=4.0.0a0,!=4.0.0a1->fsspec[http]>2021.06.0->pytorch-lightning) (6.0.4)\n",
            "Requirement already satisfied: async-timeout<5.0,>=4.0.0a3 in /usr/local/lib/python3.10/dist-packages (from aiohttp!=4.0.0a0,!=4.0.0a1->fsspec[http]>2021.06.0->pytorch-lightning) (4.0.2)\n",
            "Requirement already satisfied: yarl<2.0,>=1.0 in /usr/local/lib/python3.10/dist-packages (from aiohttp!=4.0.0a0,!=4.0.0a1->fsspec[http]>2021.06.0->pytorch-lightning) (1.9.2)\n",
            "Requirement already satisfied: frozenlist>=1.1.1 in /usr/local/lib/python3.10/dist-packages (from aiohttp!=4.0.0a0,!=4.0.0a1->fsspec[http]>2021.06.0->pytorch-lightning) (1.3.3)\n",
            "Requirement already satisfied: aiosignal>=1.1.2 in /usr/local/lib/python3.10/dist-packages (from aiohttp!=4.0.0a0,!=4.0.0a1->fsspec[http]>2021.06.0->pytorch-lightning) (1.3.1)\n",
            "Requirement already satisfied: MarkupSafe>=2.0 in /usr/local/lib/python3.10/dist-packages (from jinja2->torch>=1.11.0->pytorch-lightning) (2.1.3)\n",
            "Requirement already satisfied: urllib3<1.27,>=1.21.1 in /usr/local/lib/python3.10/dist-packages (from requests->fsspec[http]>2021.06.0->pytorch-lightning) (1.26.16)\n",
            "Requirement already satisfied: certifi>=2017.4.17 in /usr/local/lib/python3.10/dist-packages (from requests->fsspec[http]>2021.06.0->pytorch-lightning) (2023.5.7)\n",
            "Requirement already satisfied: idna<4,>=2.5 in /usr/local/lib/python3.10/dist-packages (from requests->fsspec[http]>2021.06.0->pytorch-lightning) (3.4)\n",
            "Requirement already satisfied: mpmath>=0.19 in /usr/local/lib/python3.10/dist-packages (from sympy->torch>=1.11.0->pytorch-lightning) (1.3.0)\n",
            "Installing collected packages: lightning-utilities, torchmetrics, pytorch-lightning\n",
            "Successfully installed lightning-utilities-0.9.0 pytorch-lightning-2.0.4 torchmetrics-0.11.4\n",
            "Collecting kornia\n",
            "  Downloading kornia-0.6.12-py2.py3-none-any.whl (653 kB)\n",
            "\u001b[2K     \u001b[90m━━━━━━━━━━━━━━━━━━━━━━━━━━━━━━━━━━━━━━\u001b[0m \u001b[32m653.4/653.4 kB\u001b[0m \u001b[31m40.3 MB/s\u001b[0m eta \u001b[36m0:00:00\u001b[0m\n",
            "\u001b[?25hRequirement already satisfied: packaging in /usr/local/lib/python3.10/dist-packages (from kornia) (23.1)\n",
            "Requirement already satisfied: torch>=1.9.1 in /usr/local/lib/python3.10/dist-packages (from kornia) (2.0.1+cu118)\n",
            "Requirement already satisfied: filelock in /usr/local/lib/python3.10/dist-packages (from torch>=1.9.1->kornia) (3.12.2)\n",
            "Requirement already satisfied: typing-extensions in /usr/local/lib/python3.10/dist-packages (from torch>=1.9.1->kornia) (4.6.3)\n",
            "Requirement already satisfied: sympy in /usr/local/lib/python3.10/dist-packages (from torch>=1.9.1->kornia) (1.11.1)\n",
            "Requirement already satisfied: networkx in /usr/local/lib/python3.10/dist-packages (from torch>=1.9.1->kornia) (3.1)\n",
            "Requirement already satisfied: jinja2 in /usr/local/lib/python3.10/dist-packages (from torch>=1.9.1->kornia) (3.1.2)\n",
            "Requirement already satisfied: triton==2.0.0 in /usr/local/lib/python3.10/dist-packages (from torch>=1.9.1->kornia) (2.0.0)\n",
            "Requirement already satisfied: cmake in /usr/local/lib/python3.10/dist-packages (from triton==2.0.0->torch>=1.9.1->kornia) (3.25.2)\n",
            "Requirement already satisfied: lit in /usr/local/lib/python3.10/dist-packages (from triton==2.0.0->torch>=1.9.1->kornia) (16.0.6)\n",
            "Requirement already satisfied: MarkupSafe>=2.0 in /usr/local/lib/python3.10/dist-packages (from jinja2->torch>=1.9.1->kornia) (2.1.3)\n",
            "Requirement already satisfied: mpmath>=0.19 in /usr/local/lib/python3.10/dist-packages (from sympy->torch>=1.9.1->kornia) (1.3.0)\n",
            "Installing collected packages: kornia\n",
            "Successfully installed kornia-0.6.12\n"
          ]
        }
      ],
      "source": [
        "!pip install loguru\n",
        "!pip install --upgrade grpcio\n",
        "!pip install tensorboardx==2.1\n",
        "%load_ext tensorboard\n",
        "!pip install pytorch-lightning\n",
        "!pip install kornia"
      ]
    },
    {
      "cell_type": "code",
      "execution_count": null,
      "metadata": {
        "colab": {
          "base_uri": "https://localhost:8080/"
        },
        "id": "CKFbA1HlVJkV",
        "outputId": "f765ffbf-8290-4e4e-d883-e8c08fc48dc1"
      },
      "outputs": [
        {
          "name": "stdout",
          "output_type": "stream",
          "text": [
            "/content/lsun-room\n",
            "Cloning into 'OneGAN'...\n",
            "remote: Enumerating objects: 748, done.\u001b[K\n",
            "remote: Total 748 (delta 0), reused 0 (delta 0), pack-reused 748\u001b[K\n",
            "Receiving objects: 100% (748/748), 421.04 KiB | 1.70 MiB/s, done.\n",
            "Resolving deltas: 100% (497/497), done.\n",
            "/content/lsun-room/OneGAN\n",
            "running install\n",
            "/usr/local/lib/python3.10/dist-packages/setuptools/_distutils/cmd.py:66: SetuptoolsDeprecationWarning: setup.py install is deprecated.\n",
            "!!\n",
            "\n",
            "        ********************************************************************************\n",
            "        Please avoid running ``setup.py`` directly.\n",
            "        Instead, use pypa/build, pypa/installer, pypa/build or\n",
            "        other standards-based tools.\n",
            "\n",
            "        See https://blog.ganssle.io/articles/2021/10/setup-py-deprecated.html for details.\n",
            "        ********************************************************************************\n",
            "\n",
            "!!\n",
            "  self.initialize_options()\n",
            "/usr/local/lib/python3.10/dist-packages/setuptools/_distutils/cmd.py:66: EasyInstallDeprecationWarning: easy_install command is deprecated.\n",
            "!!\n",
            "\n",
            "        ********************************************************************************\n",
            "        Please avoid running ``setup.py`` and ``easy_install``.\n",
            "        Instead, use pypa/build, pypa/installer, pypa/build or\n",
            "        other standards-based tools.\n",
            "\n",
            "        See https://github.com/pypa/setuptools/issues/917 for details.\n",
            "        ********************************************************************************\n",
            "\n",
            "!!\n",
            "  self.initialize_options()\n",
            "running bdist_egg\n",
            "running egg_info\n",
            "creating onegan.egg-info\n",
            "writing onegan.egg-info/PKG-INFO\n",
            "writing dependency_links to onegan.egg-info/dependency_links.txt\n",
            "writing requirements to onegan.egg-info/requires.txt\n",
            "writing top-level names to onegan.egg-info/top_level.txt\n",
            "writing manifest file 'onegan.egg-info/SOURCES.txt'\n",
            "reading manifest file 'onegan.egg-info/SOURCES.txt'\n",
            "adding license file 'LICENSE.rst'\n",
            "writing manifest file 'onegan.egg-info/SOURCES.txt'\n",
            "installing library code to build/bdist.linux-x86_64/egg\n",
            "running install_lib\n",
            "running build_py\n",
            "creating build\n",
            "creating build/lib\n",
            "creating build/lib/onegan\n",
            "copying onegan/option.py -> build/lib/onegan\n",
            "copying onegan/__init__.py -> build/lib/onegan\n",
            "copying onegan/loss.py -> build/lib/onegan\n",
            "copying onegan/models.py -> build/lib/onegan\n",
            "copying onegan/ops.py -> build/lib/onegan\n",
            "copying onegan/estimator.py -> build/lib/onegan\n",
            "creating build/lib/test\n",
            "copying test/test_model.py -> build/lib/test\n",
            "copying test/__init__.py -> build/lib/test\n",
            "copying test/test_io.py -> build/lib/test\n",
            "copying test/test_loss.py -> build/lib/test\n",
            "copying test/test_external.py -> build/lib/test\n",
            "copying test/test_metrics.py -> build/lib/test\n",
            "copying test/test_utils.py -> build/lib/test\n",
            "copying test/test_option.py -> build/lib/test\n",
            "creating build/lib/onegan/metrics\n",
            "copying onegan/metrics/__init__.py -> build/lib/onegan/metrics\n",
            "copying onegan/metrics/semantic_segmentation.py -> build/lib/onegan/metrics\n",
            "creating build/lib/onegan/extension\n",
            "copying onegan/extension/history.py -> build/lib/onegan/extension\n",
            "copying onegan/extension/__init__.py -> build/lib/onegan/extension\n",
            "copying onegan/extension/tensorboard.py -> build/lib/onegan/extension\n",
            "copying onegan/extension/base.py -> build/lib/onegan/extension\n",
            "copying onegan/extension/checkpoint.py -> build/lib/onegan/extension\n",
            "copying onegan/extension/tensorcollect.py -> build/lib/onegan/extension\n",
            "copying onegan/extension/imagesaver.py -> build/lib/onegan/extension\n",
            "creating build/lib/onegan/io\n",
            "copying onegan/io/__init__.py -> build/lib/onegan/io\n",
            "copying onegan/io/functional.py -> build/lib/onegan/io\n",
            "copying onegan/io/utils.py -> build/lib/onegan/io\n",
            "copying onegan/io/transform.py -> build/lib/onegan/io\n",
            "copying onegan/io/loader.py -> build/lib/onegan/io\n",
            "creating build/lib/onegan/visualizer\n",
            "copying onegan/visualizer/__init__.py -> build/lib/onegan/visualizer\n",
            "copying onegan/visualizer/image.py -> build/lib/onegan/visualizer\n",
            "creating build/lib/onegan/external\n",
            "copying onegan/external/pspnet.py -> build/lib/onegan/external\n",
            "copying onegan/external/__init__.py -> build/lib/onegan/external\n",
            "copying onegan/external/pix2pix.py -> build/lib/onegan/external\n",
            "copying onegan/external/dcgan.py -> build/lib/onegan/external\n",
            "copying onegan/external/fcn.py -> build/lib/onegan/external\n",
            "creating build/bdist.linux-x86_64\n",
            "creating build/bdist.linux-x86_64/egg\n",
            "creating build/bdist.linux-x86_64/egg/onegan\n",
            "copying build/lib/onegan/option.py -> build/bdist.linux-x86_64/egg/onegan\n",
            "creating build/bdist.linux-x86_64/egg/onegan/metrics\n",
            "copying build/lib/onegan/metrics/__init__.py -> build/bdist.linux-x86_64/egg/onegan/metrics\n",
            "copying build/lib/onegan/metrics/semantic_segmentation.py -> build/bdist.linux-x86_64/egg/onegan/metrics\n",
            "copying build/lib/onegan/__init__.py -> build/bdist.linux-x86_64/egg/onegan\n",
            "copying build/lib/onegan/loss.py -> build/bdist.linux-x86_64/egg/onegan\n",
            "creating build/bdist.linux-x86_64/egg/onegan/extension\n",
            "copying build/lib/onegan/extension/history.py -> build/bdist.linux-x86_64/egg/onegan/extension\n",
            "copying build/lib/onegan/extension/__init__.py -> build/bdist.linux-x86_64/egg/onegan/extension\n",
            "copying build/lib/onegan/extension/tensorboard.py -> build/bdist.linux-x86_64/egg/onegan/extension\n",
            "copying build/lib/onegan/extension/base.py -> build/bdist.linux-x86_64/egg/onegan/extension\n",
            "copying build/lib/onegan/extension/checkpoint.py -> build/bdist.linux-x86_64/egg/onegan/extension\n",
            "copying build/lib/onegan/extension/tensorcollect.py -> build/bdist.linux-x86_64/egg/onegan/extension\n",
            "copying build/lib/onegan/extension/imagesaver.py -> build/bdist.linux-x86_64/egg/onegan/extension\n",
            "copying build/lib/onegan/models.py -> build/bdist.linux-x86_64/egg/onegan\n",
            "creating build/bdist.linux-x86_64/egg/onegan/io\n",
            "copying build/lib/onegan/io/__init__.py -> build/bdist.linux-x86_64/egg/onegan/io\n",
            "copying build/lib/onegan/io/functional.py -> build/bdist.linux-x86_64/egg/onegan/io\n",
            "copying build/lib/onegan/io/utils.py -> build/bdist.linux-x86_64/egg/onegan/io\n",
            "copying build/lib/onegan/io/transform.py -> build/bdist.linux-x86_64/egg/onegan/io\n",
            "copying build/lib/onegan/io/loader.py -> build/bdist.linux-x86_64/egg/onegan/io\n",
            "creating build/bdist.linux-x86_64/egg/onegan/visualizer\n",
            "copying build/lib/onegan/visualizer/__init__.py -> build/bdist.linux-x86_64/egg/onegan/visualizer\n",
            "copying build/lib/onegan/visualizer/image.py -> build/bdist.linux-x86_64/egg/onegan/visualizer\n",
            "creating build/bdist.linux-x86_64/egg/onegan/external\n",
            "copying build/lib/onegan/external/pspnet.py -> build/bdist.linux-x86_64/egg/onegan/external\n",
            "copying build/lib/onegan/external/__init__.py -> build/bdist.linux-x86_64/egg/onegan/external\n",
            "copying build/lib/onegan/external/pix2pix.py -> build/bdist.linux-x86_64/egg/onegan/external\n",
            "copying build/lib/onegan/external/dcgan.py -> build/bdist.linux-x86_64/egg/onegan/external\n",
            "copying build/lib/onegan/external/fcn.py -> build/bdist.linux-x86_64/egg/onegan/external\n",
            "copying build/lib/onegan/ops.py -> build/bdist.linux-x86_64/egg/onegan\n",
            "copying build/lib/onegan/estimator.py -> build/bdist.linux-x86_64/egg/onegan\n",
            "creating build/bdist.linux-x86_64/egg/test\n",
            "copying build/lib/test/test_model.py -> build/bdist.linux-x86_64/egg/test\n",
            "copying build/lib/test/__init__.py -> build/bdist.linux-x86_64/egg/test\n",
            "copying build/lib/test/test_io.py -> build/bdist.linux-x86_64/egg/test\n",
            "copying build/lib/test/test_loss.py -> build/bdist.linux-x86_64/egg/test\n",
            "copying build/lib/test/test_external.py -> build/bdist.linux-x86_64/egg/test\n",
            "copying build/lib/test/test_metrics.py -> build/bdist.linux-x86_64/egg/test\n",
            "copying build/lib/test/test_utils.py -> build/bdist.linux-x86_64/egg/test\n",
            "copying build/lib/test/test_option.py -> build/bdist.linux-x86_64/egg/test\n",
            "byte-compiling build/bdist.linux-x86_64/egg/onegan/option.py to option.cpython-310.pyc\n",
            "byte-compiling build/bdist.linux-x86_64/egg/onegan/metrics/__init__.py to __init__.cpython-310.pyc\n",
            "byte-compiling build/bdist.linux-x86_64/egg/onegan/metrics/semantic_segmentation.py to semantic_segmentation.cpython-310.pyc\n",
            "byte-compiling build/bdist.linux-x86_64/egg/onegan/__init__.py to __init__.cpython-310.pyc\n",
            "byte-compiling build/bdist.linux-x86_64/egg/onegan/loss.py to loss.cpython-310.pyc\n",
            "byte-compiling build/bdist.linux-x86_64/egg/onegan/extension/history.py to history.cpython-310.pyc\n",
            "byte-compiling build/bdist.linux-x86_64/egg/onegan/extension/__init__.py to __init__.cpython-310.pyc\n",
            "byte-compiling build/bdist.linux-x86_64/egg/onegan/extension/tensorboard.py to tensorboard.cpython-310.pyc\n",
            "byte-compiling build/bdist.linux-x86_64/egg/onegan/extension/base.py to base.cpython-310.pyc\n",
            "byte-compiling build/bdist.linux-x86_64/egg/onegan/extension/checkpoint.py to checkpoint.cpython-310.pyc\n",
            "byte-compiling build/bdist.linux-x86_64/egg/onegan/extension/tensorcollect.py to tensorcollect.cpython-310.pyc\n",
            "byte-compiling build/bdist.linux-x86_64/egg/onegan/extension/imagesaver.py to imagesaver.cpython-310.pyc\n",
            "byte-compiling build/bdist.linux-x86_64/egg/onegan/models.py to models.cpython-310.pyc\n",
            "byte-compiling build/bdist.linux-x86_64/egg/onegan/io/__init__.py to __init__.cpython-310.pyc\n",
            "byte-compiling build/bdist.linux-x86_64/egg/onegan/io/functional.py to functional.cpython-310.pyc\n",
            "byte-compiling build/bdist.linux-x86_64/egg/onegan/io/utils.py to utils.cpython-310.pyc\n",
            "byte-compiling build/bdist.linux-x86_64/egg/onegan/io/transform.py to transform.cpython-310.pyc\n",
            "byte-compiling build/bdist.linux-x86_64/egg/onegan/io/loader.py to loader.cpython-310.pyc\n",
            "byte-compiling build/bdist.linux-x86_64/egg/onegan/visualizer/__init__.py to __init__.cpython-310.pyc\n",
            "byte-compiling build/bdist.linux-x86_64/egg/onegan/visualizer/image.py to image.cpython-310.pyc\n",
            "byte-compiling build/bdist.linux-x86_64/egg/onegan/external/pspnet.py to pspnet.cpython-310.pyc\n",
            "byte-compiling build/bdist.linux-x86_64/egg/onegan/external/__init__.py to __init__.cpython-310.pyc\n",
            "byte-compiling build/bdist.linux-x86_64/egg/onegan/external/pix2pix.py to pix2pix.cpython-310.pyc\n",
            "byte-compiling build/bdist.linux-x86_64/egg/onegan/external/dcgan.py to dcgan.cpython-310.pyc\n",
            "byte-compiling build/bdist.linux-x86_64/egg/onegan/external/fcn.py to fcn.cpython-310.pyc\n",
            "byte-compiling build/bdist.linux-x86_64/egg/onegan/ops.py to ops.cpython-310.pyc\n",
            "byte-compiling build/bdist.linux-x86_64/egg/onegan/estimator.py to estimator.cpython-310.pyc\n",
            "byte-compiling build/bdist.linux-x86_64/egg/test/test_model.py to test_model.cpython-310.pyc\n",
            "byte-compiling build/bdist.linux-x86_64/egg/test/__init__.py to __init__.cpython-310.pyc\n",
            "byte-compiling build/bdist.linux-x86_64/egg/test/test_io.py to test_io.cpython-310.pyc\n",
            "byte-compiling build/bdist.linux-x86_64/egg/test/test_loss.py to test_loss.cpython-310.pyc\n",
            "byte-compiling build/bdist.linux-x86_64/egg/test/test_external.py to test_external.cpython-310.pyc\n",
            "byte-compiling build/bdist.linux-x86_64/egg/test/test_metrics.py to test_metrics.cpython-310.pyc\n",
            "byte-compiling build/bdist.linux-x86_64/egg/test/test_utils.py to test_utils.cpython-310.pyc\n",
            "byte-compiling build/bdist.linux-x86_64/egg/test/test_option.py to test_option.cpython-310.pyc\n",
            "creating build/bdist.linux-x86_64/egg/EGG-INFO\n",
            "copying onegan.egg-info/PKG-INFO -> build/bdist.linux-x86_64/egg/EGG-INFO\n",
            "copying onegan.egg-info/SOURCES.txt -> build/bdist.linux-x86_64/egg/EGG-INFO\n",
            "copying onegan.egg-info/dependency_links.txt -> build/bdist.linux-x86_64/egg/EGG-INFO\n",
            "copying onegan.egg-info/not-zip-safe -> build/bdist.linux-x86_64/egg/EGG-INFO\n",
            "copying onegan.egg-info/requires.txt -> build/bdist.linux-x86_64/egg/EGG-INFO\n",
            "copying onegan.egg-info/top_level.txt -> build/bdist.linux-x86_64/egg/EGG-INFO\n",
            "creating dist\n",
            "creating 'dist/onegan-0.5.1-py3.10.egg' and adding 'build/bdist.linux-x86_64/egg' to it\n",
            "removing 'build/bdist.linux-x86_64/egg' (and everything under it)\n",
            "Processing onegan-0.5.1-py3.10.egg\n",
            "creating /usr/local/lib/python3.10/dist-packages/onegan-0.5.1-py3.10.egg\n",
            "Extracting onegan-0.5.1-py3.10.egg to /usr/local/lib/python3.10/dist-packages\n",
            "Adding onegan 0.5.1 to easy-install.pth file\n",
            "\n",
            "Installed /usr/local/lib/python3.10/dist-packages/onegan-0.5.1-py3.10.egg\n",
            "Processing dependencies for onegan==0.5.1\n",
            "Searching for torch==2.0.1+cu118\n",
            "Best match: torch 2.0.1+cu118\n",
            "Adding torch 2.0.1+cu118 to easy-install.pth file\n",
            "Installing convert-caffe2-to-onnx script to /usr/local/bin\n",
            "Installing convert-onnx-to-caffe2 script to /usr/local/bin\n",
            "Installing torchrun script to /usr/local/bin\n",
            "\n",
            "Using /usr/local/lib/python3.10/dist-packages\n",
            "Searching for Pillow==8.4.0\n",
            "Best match: Pillow 8.4.0\n",
            "Adding Pillow 8.4.0 to easy-install.pth file\n",
            "\n",
            "Using /usr/local/lib/python3.10/dist-packages\n",
            "Searching for scipy==1.10.1\n",
            "Best match: scipy 1.10.1\n",
            "Adding scipy 1.10.1 to easy-install.pth file\n",
            "\n",
            "Using /usr/local/lib/python3.10/dist-packages\n",
            "Searching for numpy==1.22.4\n",
            "Best match: numpy 1.22.4\n",
            "Adding numpy 1.22.4 to easy-install.pth file\n",
            "Installing f2py script to /usr/local/bin\n",
            "Installing f2py3 script to /usr/local/bin\n",
            "Installing f2py3.10 script to /usr/local/bin\n",
            "\n",
            "Using /usr/local/lib/python3.10/dist-packages\n",
            "Searching for PyYAML==6.0\n",
            "Best match: PyYAML 6.0\n",
            "Adding PyYAML 6.0 to easy-install.pth file\n",
            "\n",
            "Using /usr/local/lib/python3.10/dist-packages\n",
            "Searching for tqdm==4.65.0\n",
            "Best match: tqdm 4.65.0\n",
            "Adding tqdm 4.65.0 to easy-install.pth file\n",
            "Installing tqdm script to /usr/local/bin\n",
            "\n",
            "Using /usr/local/lib/python3.10/dist-packages\n",
            "Searching for tensorboardX==2.1\n",
            "Best match: tensorboardX 2.1\n",
            "Adding tensorboardX 2.1 to easy-install.pth file\n",
            "\n",
            "Using /usr/local/lib/python3.10/dist-packages\n",
            "Searching for torchvision==0.15.2+cu118\n",
            "Best match: torchvision 0.15.2+cu118\n",
            "Adding torchvision 0.15.2+cu118 to easy-install.pth file\n",
            "\n",
            "Using /usr/local/lib/python3.10/dist-packages\n",
            "Searching for triton==2.0.0\n",
            "Best match: triton 2.0.0\n",
            "Adding triton 2.0.0 to easy-install.pth file\n",
            "\n",
            "Using /usr/local/lib/python3.10/dist-packages\n",
            "Searching for Jinja2==3.1.2\n",
            "Best match: Jinja2 3.1.2\n",
            "Adding Jinja2 3.1.2 to easy-install.pth file\n",
            "\n",
            "Using /usr/local/lib/python3.10/dist-packages\n",
            "Searching for networkx==3.1\n",
            "Best match: networkx 3.1\n",
            "Adding networkx 3.1 to easy-install.pth file\n",
            "\n",
            "Using /usr/local/lib/python3.10/dist-packages\n",
            "Searching for sympy==1.11.1\n",
            "Best match: sympy 1.11.1\n",
            "Adding sympy 1.11.1 to easy-install.pth file\n",
            "Installing isympy script to /usr/local/bin\n",
            "\n",
            "Using /usr/local/lib/python3.10/dist-packages\n",
            "Searching for typing-extensions==4.6.3\n",
            "Best match: typing-extensions 4.6.3\n",
            "Adding typing-extensions 4.6.3 to easy-install.pth file\n",
            "\n",
            "Using /usr/local/lib/python3.10/dist-packages\n",
            "Searching for filelock==3.12.2\n",
            "Best match: filelock 3.12.2\n",
            "Adding filelock 3.12.2 to easy-install.pth file\n",
            "\n",
            "Using /usr/local/lib/python3.10/dist-packages\n",
            "Searching for six==1.16.0\n",
            "Best match: six 1.16.0\n",
            "Adding six 1.16.0 to easy-install.pth file\n",
            "\n",
            "Using /usr/local/lib/python3.10/dist-packages\n",
            "Searching for protobuf==3.20.3\n",
            "Best match: protobuf 3.20.3\n",
            "Adding protobuf 3.20.3 to easy-install.pth file\n",
            "\n",
            "Using /usr/local/lib/python3.10/dist-packages\n",
            "Searching for requests==2.27.1\n",
            "Best match: requests 2.27.1\n",
            "Adding requests 2.27.1 to easy-install.pth file\n",
            "\n",
            "Using /usr/local/lib/python3.10/dist-packages\n",
            "Searching for lit==16.0.6\n",
            "Best match: lit 16.0.6\n",
            "Adding lit 16.0.6 to easy-install.pth file\n",
            "Installing lit script to /usr/local/bin\n",
            "\n",
            "Using /usr/local/lib/python3.10/dist-packages\n",
            "Searching for cmake==3.25.2\n",
            "Best match: cmake 3.25.2\n",
            "Adding cmake 3.25.2 to easy-install.pth file\n",
            "Installing cmake script to /usr/local/bin\n",
            "Installing cpack script to /usr/local/bin\n",
            "Installing ctest script to /usr/local/bin\n",
            "\n",
            "Using /usr/local/lib/python3.10/dist-packages\n",
            "Searching for MarkupSafe==2.1.3\n",
            "Best match: MarkupSafe 2.1.3\n",
            "Adding MarkupSafe 2.1.3 to easy-install.pth file\n",
            "\n",
            "Using /usr/local/lib/python3.10/dist-packages\n",
            "Searching for mpmath==1.3.0\n",
            "Best match: mpmath 1.3.0\n",
            "Adding mpmath 1.3.0 to easy-install.pth file\n",
            "\n",
            "Using /usr/local/lib/python3.10/dist-packages\n",
            "Searching for idna==3.4\n",
            "Best match: idna 3.4\n",
            "Adding idna 3.4 to easy-install.pth file\n",
            "\n",
            "Using /usr/local/lib/python3.10/dist-packages\n",
            "Searching for charset-normalizer==2.0.12\n",
            "Best match: charset-normalizer 2.0.12\n",
            "Adding charset-normalizer 2.0.12 to easy-install.pth file\n",
            "Installing normalizer script to /usr/local/bin\n",
            "\n",
            "Using /usr/local/lib/python3.10/dist-packages\n",
            "Searching for certifi==2023.5.7\n",
            "Best match: certifi 2023.5.7\n",
            "Adding certifi 2023.5.7 to easy-install.pth file\n",
            "\n",
            "Using /usr/local/lib/python3.10/dist-packages\n",
            "Searching for urllib3==1.26.16\n",
            "Best match: urllib3 1.26.16\n",
            "Adding urllib3 1.26.16 to easy-install.pth file\n",
            "\n",
            "Using /usr/local/lib/python3.10/dist-packages\n",
            "Finished processing dependencies for onegan==0.5.1\n"
          ]
        }
      ],
      "source": [
        "%cd {LSUN_PATH}\n",
        "!git clone https://github.com/leVirve/OneGAN.git\n",
        "%cd OneGAN/\n",
        "!python setup.py install\n",
        "\n",
        "# %cd {LSUN_PATH}"
      ]
    },
    {
      "cell_type": "code",
      "execution_count": null,
      "metadata": {
        "colab": {
          "base_uri": "https://localhost:8080/",
          "height": 52
        },
        "id": "PNh_MoI8KcZZ",
        "outputId": "bbbb27a0-24a2-489d-fffa-f8abe51f4512"
      },
      "outputs": [
        {
          "name": "stdout",
          "output_type": "stream",
          "text": [
            "/content/lsun-room\n"
          ]
        },
        {
          "data": {
            "application/vnd.google.colaboratory.intrinsic+json": {
              "type": "string"
            },
            "text/plain": [
              "'/content/lsun-room'"
            ]
          },
          "execution_count": 7,
          "metadata": {},
          "output_type": "execute_result"
        }
      ],
      "source": [
        "import onegan\n",
        "%cd ../\n",
        "%pwd"
      ]
    },
    {
      "cell_type": "markdown",
      "metadata": {
        "id": "rxPZgchoLtLX"
      },
      "source": [
        "## Loading sample data"
      ]
    },
    {
      "cell_type": "code",
      "execution_count": null,
      "metadata": {
        "colab": {
          "base_uri": "https://localhost:8080/"
        },
        "id": "qdEugUinLsCf",
        "outputId": "e56038e9-817f-4d2f-a12e-418d22573519"
      },
      "outputs": [
        {
          "name": "stdout",
          "output_type": "stream",
          "text": [
            "/content\n",
            "/content/data\n",
            "Cloning into 'mfs'...\n",
            "remote: Enumerating objects: 344, done.\u001b[K\n",
            "remote: Counting objects: 100% (127/127), done.\u001b[K\n",
            "remote: Compressing objects: 100% (96/96), done.\u001b[K\n",
            "remote: Total 344 (delta 43), reused 110 (delta 27), pack-reused 217\u001b[K\n",
            "Receiving objects: 100% (344/344), 183.26 MiB | 16.37 MiB/s, done.\n",
            "Resolving deltas: 100% (75/75), done.\n",
            "/content/lsun-room\n"
          ]
        }
      ],
      "source": [
        "f\"{HOME}/data\"\n",
        "\n",
        "%cd {HOME}\n",
        "!mkdir {HOME}/data\n",
        "%cd {HOME}/data\n",
        "\n",
        "!git clone https://github.com/devasenan134/mfs.git\n",
        "%cp mfs/inputs/images ./inputs -R\n",
        "%rm -rf mfs\n",
        "%cd {LSUN_PATH}"
      ]
    },
    {
      "cell_type": "code",
      "execution_count": null,
      "metadata": {
        "colab": {
          "base_uri": "https://localhost:8080/",
          "height": 35
        },
        "id": "cRmm2GIgHxvL",
        "outputId": "0197ef83-4ae6-43a9-a211-f804af8d522f"
      },
      "outputs": [
        {
          "data": {
            "application/vnd.google.colaboratory.intrinsic+json": {
              "type": "string"
            },
            "text/plain": [
              "'/content/data/inputs/'"
            ]
          },
          "execution_count": 9,
          "metadata": {},
          "output_type": "execute_result"
        }
      ],
      "source": [
        "image_filepath = f'{HOME}/data/inputs/'\n",
        "image_filepath"
      ]
    },
    {
      "cell_type": "markdown",
      "metadata": {
        "id": "H9vCK1GIM0g7"
      },
      "source": [
        "## Process the input images from folder"
      ]
    },
    {
      "cell_type": "code",
      "execution_count": null,
      "metadata": {
        "colab": {
          "base_uri": "https://localhost:8080/",
          "height": 182
        },
        "id": "jh-xhlTvizeN",
        "outputId": "4dcc97ee-c4bd-4660-cce2-2376043170e3"
      },
      "outputs": [
        {
          "ename": "NameError",
          "evalue": "ignored",
          "output_type": "error",
          "traceback": [
            "\u001b[0;31m---------------------------------------------------------------------------\u001b[0m",
            "\u001b[0;31mNameError\u001b[0m                                 Traceback (most recent call last)",
            "\u001b[0;32m<ipython-input-10-28ade12e7705>\u001b[0m in \u001b[0;36m<cell line: 1>\u001b[0;34m()\u001b[0m\n\u001b[0;32m----> 1\u001b[0;31m \u001b[0mrandom\u001b[0m\u001b[0;34m(\u001b[0m\u001b[0;34m)\u001b[0m\u001b[0;34m\u001b[0m\u001b[0;34m\u001b[0m\u001b[0m\n\u001b[0m\u001b[1;32m      2\u001b[0m \u001b[0;31m## have to change the code in demo, then run the code snippet below\u001b[0m\u001b[0;34m\u001b[0m\u001b[0;34m\u001b[0m\u001b[0m\n",
            "\u001b[0;31mNameError\u001b[0m: name 'random' is not defined"
          ]
        }
      ],
      "source": [
        "random()\n",
        "## have to change the code in demo, then run the code snippet below\n",
        "# Have to add variables to the return statement in the feed method of Predictor class in the demo.py file"
      ]
    },
    {
      "cell_type": "code",
      "execution_count": null,
      "metadata": {
        "colab": {
          "base_uri": "https://localhost:8080/"
        },
        "id": "lrOraJCDOsJo",
        "outputId": "14fc754b-d09d-4114-9b5e-6b817c610d4e"
      },
      "outputs": [
        {
          "name": "stderr",
          "output_type": "stream",
          "text": [
            "INFO:pytorch_lightning.utilities.migration.utils:Lightning automatically upgraded your loaded checkpoint from v1.1.7 to v2.0.4. To apply the upgrade to your files permanently, run `python -m pytorch_lightning.utilities.upgrade_checkpoint --file ../drive/MyDrive/Colab Notebooks/ML/projects/MFS/spatial layout mapping/model_retrained.ckpt`\n",
            "\u001b[32m2023-07-03 11:46:25.095\u001b[0m | \u001b[1mINFO    \u001b[0m | \u001b[36m__main__\u001b[0m:\u001b[36m<cell line: 25>\u001b[0m:\u001b[36m43\u001b[0m - \u001b[1mWrite to /content/data/outputs/img9.jpeg, Exec time0.042s\u001b[0m\n",
            "\u001b[32m2023-07-03 11:46:25.310\u001b[0m | \u001b[1mINFO    \u001b[0m | \u001b[36m__main__\u001b[0m:\u001b[36m<cell line: 25>\u001b[0m:\u001b[36m43\u001b[0m - \u001b[1mWrite to /content/data/outputs/img1.jpeg, Exec time0.041s\u001b[0m\n",
            "\u001b[32m2023-07-03 11:46:25.523\u001b[0m | \u001b[1mINFO    \u001b[0m | \u001b[36m__main__\u001b[0m:\u001b[36m<cell line: 25>\u001b[0m:\u001b[36m43\u001b[0m - \u001b[1mWrite to /content/data/outputs/img2.jpeg, Exec time0.043s\u001b[0m\n",
            "\u001b[32m2023-07-03 11:46:25.730\u001b[0m | \u001b[1mINFO    \u001b[0m | \u001b[36m__main__\u001b[0m:\u001b[36m<cell line: 25>\u001b[0m:\u001b[36m43\u001b[0m - \u001b[1mWrite to /content/data/outputs/img6.jpeg, Exec time0.042s\u001b[0m\n",
            "\u001b[32m2023-07-03 11:46:25.898\u001b[0m | \u001b[1mINFO    \u001b[0m | \u001b[36m__main__\u001b[0m:\u001b[36m<cell line: 25>\u001b[0m:\u001b[36m43\u001b[0m - \u001b[1mWrite to /content/data/outputs/3.jpg, Exec time0.040s\u001b[0m\n",
            "\u001b[32m2023-07-03 11:46:26.103\u001b[0m | \u001b[1mINFO    \u001b[0m | \u001b[36m__main__\u001b[0m:\u001b[36m<cell line: 25>\u001b[0m:\u001b[36m43\u001b[0m - \u001b[1mWrite to /content/data/outputs/img8.jpeg, Exec time0.042s\u001b[0m\n",
            "\u001b[32m2023-07-03 11:46:26.300\u001b[0m | \u001b[1mINFO    \u001b[0m | \u001b[36m__main__\u001b[0m:\u001b[36m<cell line: 25>\u001b[0m:\u001b[36m43\u001b[0m - \u001b[1mWrite to /content/data/outputs/test1.jpg, Exec time0.042s\u001b[0m\n",
            "\u001b[32m2023-07-03 11:46:27.231\u001b[0m | \u001b[1mINFO    \u001b[0m | \u001b[36m__main__\u001b[0m:\u001b[36m<cell line: 25>\u001b[0m:\u001b[36m43\u001b[0m - \u001b[1mWrite to /content/data/outputs/test3.jpg, Exec time0.071s\u001b[0m\n",
            "\u001b[32m2023-07-03 11:46:28.245\u001b[0m | \u001b[1mINFO    \u001b[0m | \u001b[36m__main__\u001b[0m:\u001b[36m<cell line: 25>\u001b[0m:\u001b[36m43\u001b[0m - \u001b[1mWrite to /content/data/outputs/test4.jpg, Exec time0.072s\u001b[0m\n",
            "\u001b[32m2023-07-03 11:46:28.454\u001b[0m | \u001b[1mINFO    \u001b[0m | \u001b[36m__main__\u001b[0m:\u001b[36m<cell line: 25>\u001b[0m:\u001b[36m43\u001b[0m - \u001b[1mWrite to /content/data/outputs/img3.jpeg, Exec time0.042s\u001b[0m\n",
            "\u001b[32m2023-07-03 11:46:29.314\u001b[0m | \u001b[1mINFO    \u001b[0m | \u001b[36m__main__\u001b[0m:\u001b[36m<cell line: 25>\u001b[0m:\u001b[36m43\u001b[0m - \u001b[1mWrite to /content/data/outputs/test.jpg, Exec time0.067s\u001b[0m\n",
            "\u001b[32m2023-07-03 11:46:29.516\u001b[0m | \u001b[1mINFO    \u001b[0m | \u001b[36m__main__\u001b[0m:\u001b[36m<cell line: 25>\u001b[0m:\u001b[36m43\u001b[0m - \u001b[1mWrite to /content/data/outputs/kitchen.jpg, Exec time0.042s\u001b[0m\n"
          ]
        }
      ],
      "source": [
        "import numpy as np\n",
        "import pathlib\n",
        "from loguru import logger\n",
        "import cv2\n",
        "import matplotlib.pyplot as plt\n",
        "import time\n",
        "\n",
        "from demo import Predictor\n",
        "from datasets import sequence\n",
        "\n",
        "output_folder = f'{HOME}/data/outputs/'\n",
        "weight='/content/drive/MyDrive/Colab Notebooks/ML/projects/MFS/spatial layout mapping/model_retrained.ckpt'\n",
        "# weight = '/content/drive/MyDrive/model_retrained.ckpt'\n",
        "image_size = 320\n",
        "path = image_filepath\n",
        "cat_visual = False\n",
        "\n",
        "output_folder = pathlib.Path(output_folder)\n",
        "output_folder.mkdir(exist_ok=True, parents=True)\n",
        "\n",
        "predictor = Predictor(weight_path=weight)\n",
        "images = sequence.ImageFolder(image_size, path)\n",
        "all_results = []\n",
        "\n",
        "for image, shape, path in images:\n",
        "    st = time.time()\n",
        "    results = predictor.feed(image, alpha=1.)\n",
        "    label = cv2.resize(results[0], shape)\n",
        "    et = time.time()\n",
        "    all_results.append(results)\n",
        "\n",
        "    image = cv2.resize((image / 2 + .5).permute(1, 2, 0).numpy(), shape)\n",
        "    if cat_visual:\n",
        "        output = np.concatenate([image, label], axis=1)\n",
        "    else:\n",
        "        output = label\n",
        "    output_path = output_folder / path.name\n",
        "    cv2.imwrite(str(output_path), (output[..., ::-1] * 255).astype(np.uint8))\n",
        "\n",
        "    output_matrix_path = str(output_folder)+'/'+path.name.split('.')[0]+'.txt'\n",
        "    np.savetxt(output_matrix_path, results[2][0].cpu().data.numpy())\n",
        "\n",
        "    logger.info('Write to {}, Exec time{:.3f}s'.format(output_path, et-st))"
      ]
    },
    {
      "cell_type": "code",
      "execution_count": null,
      "metadata": {
        "id": "56SqDTBijo7P"
      },
      "outputs": [],
      "source": [
        "b, _, out, lab = all_results[-1]"
      ]
    },
    {
      "cell_type": "code",
      "execution_count": null,
      "metadata": {
        "colab": {
          "base_uri": "https://localhost:8080/"
        },
        "id": "WTlleCIX6YXC",
        "outputId": "f7d31beb-355a-49ce-b78d-6d91394b67d2"
      },
      "outputs": [
        {
          "data": {
            "text/plain": [
              "array([[1, 1, 1, ..., 2, 2, 2],\n",
              "       [1, 1, 1, ..., 2, 2, 2],\n",
              "       [1, 1, 1, ..., 2, 2, 2],\n",
              "       ...,\n",
              "       [3, 3, 3, ..., 3, 3, 3],\n",
              "       [3, 3, 3, ..., 3, 3, 3],\n",
              "       [3, 3, 3, ..., 3, 3, 3]])"
            ]
          },
          "execution_count": 24,
          "metadata": {},
          "output_type": "execute_result"
        }
      ],
      "source": [
        "out[0].cpu().data.numpy()"
      ]
    },
    {
      "cell_type": "code",
      "execution_count": null,
      "metadata": {
        "id": "r-nS4Hao52F2"
      },
      "outputs": [],
      "source": [
        "np.savetxt('out-k.txt', out[0].cpu().data.numpy())"
      ]
    }
  ],
  "metadata": {
    "accelerator": "GPU",
    "colab": {
      "gpuType": "T4",
      "provenance": []
    },
    "kernelspec": {
      "display_name": "Python 3",
      "name": "python3"
    },
    "language_info": {
      "name": "python",
      "version": "3.10.11"
    }
  },
  "nbformat": 4,
  "nbformat_minor": 0
}
