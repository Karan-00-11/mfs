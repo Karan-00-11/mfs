{
 "cells": [
  {
   "cell_type": "code",
   "execution_count": 1,
   "metadata": {},
   "outputs": [
    {
     "name": "stdout",
     "output_type": "stream",
     "text": [
      "reduced pp from masks: 8\n",
      "reduced pp from masks: 46\n",
      "reduced pp from masks: 27\n",
      "[630 814] 1600\n",
      "[323 971] 814\n",
      "[ 330 1079] 814\n",
      "[ 139 1189] 814\n",
      "[ 173 1197] 814\n",
      "[1456 1195] 814\n",
      "[1472 1016] 814\n",
      "[631 814] 814\n",
      "[1316  205] 1600\n",
      "[915 249] 205\n",
      "[915 634] 205\n",
      "[1270  684] 205\n",
      "[1314  674] 205\n",
      "[1347  207] 205\n",
      "[955  81] 205\n",
      "[606 143] 81\n",
      "[612 416] 81\n",
      "[673 418] 81\n",
      "[717 365] 81\n",
      "[834 366] 81\n",
      "[715 445] 81\n",
      "[612 458] 81\n",
      "[627 782] 81\n",
      "[1484  979] 81\n",
      "[1498  873] 81\n",
      "[1406  834] 81\n",
      "[1506  830] 81\n",
      "[1584  168] 81\n",
      "[847 217] 81\n",
      "[1585  169] 81\n",
      "[1506  830] 81\n",
      "[1406  834] 81\n",
      "[1499  875] 81\n",
      "[1479  979] 81\n",
      "[629 784] 81\n",
      "[612 459] 81\n",
      "[716 445] 81\n",
      "[834 365] 81\n",
      "[717 365] 81\n",
      "[672 418] 81\n",
      "[614 417] 81\n",
      "[603 146] 81\n",
      "[965  81] 81\n",
      "[992 195] 81\n",
      "[956  81] 81\n",
      "[1571    0] 81\n",
      "[1336   20] 0\n",
      "[1332  154] 0\n",
      "[1582  152] 0\n",
      "[1599   66] 0\n",
      "[1582  152] 0\n",
      "[1332  153] 0\n",
      "[1336   20] 0\n",
      "[1571    1] 0\n",
      "[583 450] 1600\n",
      "[581 617] 450\n",
      "[264 708] 450\n",
      "[316 935] 450\n",
      "[626 775] 450\n",
      "[612 459] 450\n",
      "[329 221] 450\n",
      "[565 263] 221\n",
      "[596 417] 221\n",
      "[609 258] 221\n",
      "[208 219] 221\n",
      "[326 221] 219\n",
      "[205 196] 219\n",
      "[63  0] 196\n",
      "[601 145] 0\n",
      "[603 229] 0\n",
      "[529 225] 0\n",
      "[219 178] 0\n",
      "[228  91] 0\n",
      "[195 131] 0\n",
      "[ 0 71] 0\n",
      "[195 131] 0\n",
      "[231  92] 0\n",
      "[218 178] 0\n",
      "[600 232] 0\n",
      "[600 143] 0\n",
      "[64  1] 0\n",
      "2222\n"
     ]
    }
   ],
   "source": [
    "from extract_pp_from_masks import extract_pp_from_masks\n",
    "\n",
    "cords = extract_pp_from_masks(\"../inputs/masks/img3\")"
   ]
  },
  {
   "cell_type": "code",
   "execution_count": 2,
   "metadata": {},
   "outputs": [
    {
     "data": {
      "text/plain": [
       "[[[630, 814], [3906, 1600], [3276, 2386], [-906, 1600]],\n",
       " [array([606., 143.], dtype=float32),\n",
       "  [1599, -4],\n",
       "  [1599, 1005],\n",
       "  array([629., 784.], dtype=float32)],\n",
       " [[0, -16],\n",
       "  array([600., 143.], dtype=float32),\n",
       "  array([626., 775.], dtype=float32),\n",
       "  [0, 1098]]]"
      ]
     },
     "execution_count": 2,
     "metadata": {},
     "output_type": "execute_result"
    }
   ],
   "source": [
    "cords"
   ]
  }
 ],
 "metadata": {
  "kernelspec": {
   "display_name": "base",
   "language": "python",
   "name": "python3"
  },
  "language_info": {
   "codemirror_mode": {
    "name": "ipython",
    "version": 3
   },
   "file_extension": ".py",
   "mimetype": "text/x-python",
   "name": "python",
   "nbconvert_exporter": "python",
   "pygments_lexer": "ipython3",
   "version": "3.10.9"
  },
  "orig_nbformat": 4
 },
 "nbformat": 4,
 "nbformat_minor": 2
}
