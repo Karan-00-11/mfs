{
 "cells": [
  {
   "cell_type": "code",
   "execution_count": 1,
   "metadata": {},
   "outputs": [
    {
     "name": "stdout",
     "output_type": "stream",
     "text": [
      "Intel MKL WARNING: Support of Intel(R) Streaming SIMD Extensions 4.2 (Intel(R) SSE4.2) enabled only processors has been deprecated. Intel oneAPI Math Kernel Library 2025.0 will require Intel(R) Advanced Vector Extensions (Intel(R) AVX) instructions.\n",
      "Intel MKL WARNING: Support of Intel(R) Streaming SIMD Extensions 4.2 (Intel(R) SSE4.2) enabled only processors has been deprecated. Intel oneAPI Math Kernel Library 2025.0 will require Intel(R) Advanced Vector Extensions (Intel(R) AVX) instructions.\n"
     ]
    }
   ],
   "source": [
    "import os\n",
    "import cv2\n",
    "import numpy as np\n",
    "import matplotlib.pyplot as plt\n",
    "import time"
   ]
  },
  {
   "cell_type": "code",
   "execution_count": 2,
   "metadata": {},
   "outputs": [],
   "source": [
    "def get_mask_imgs(img_path):\n",
    "    mask_imgs = []\n",
    "    for img in os.listdir(img_path):\n",
    "        if img.split('.')[-1] == 'png':\n",
    "            mask_imgs.append(img_path+\"/\"+img)\n",
    "    return mask_imgs\n",
    "\n",
    "def read_imgs(mask_path):\n",
    "    mask_imgs = get_mask_imgs(mask_path) \n",
    "    # print(mask_imgs)\n",
    "    masks = []\n",
    "    for img in mask_imgs:\n",
    "        mask = cv2.imread(img, 0)\n",
    "        mask = cv2.cvtColor(mask, cv2.COLOR_BGR2RGB)\n",
    "        ret, bw_img = cv2.threshold(mask, 10, 255, cv2.THRESH_BINARY)\n",
    "        # print(bw_img.shape)\n",
    "        # plt.imshow(mask)    \n",
    "        masks.append(bw_img)    \n",
    "    return masks\n",
    "\n",
    "def find_rectangle_manually(given_masks):\n",
    "    rectangles = []\n",
    "    for mask in given_masks:\n",
    "        mask = np.array(mask)\n",
    "        gray_mask = cv2.cvtColor(mask, cv2.COLOR_RGB2GRAY)\n",
    "        # print(*gray_mask[400])\n",
    "        row_ind = []\n",
    "        for i in range(gray_mask.shape[0]):\n",
    "            inds = np.where(gray_mask[i] == 255)[0]\n",
    "            if inds.size != 0:\n",
    "                row_ind.append(i)\n",
    "        top, bottom = row_ind[0], row_ind[-1]\n",
    "        \n",
    "        col_ind = []\n",
    "        for i in range(gray_mask.shape[1]):\n",
    "            inds = np.where(gray_mask[:, i] == 255)[0]\n",
    "            if inds.size != 0:\n",
    "                col_ind.append(i)\n",
    "        left, right = col_ind[0], col_ind[-1]\n",
    "\n",
    "        rectangles.append([\n",
    "            [left, top],\n",
    "            [right, top],\n",
    "            [right, bottom],\n",
    "            [left, bottom]\n",
    "        ])\n",
    "    return rectangles"
   ]
  },
  {
   "cell_type": "code",
   "execution_count": 3,
   "metadata": {},
   "outputs": [
    {
     "name": "stdout",
     "output_type": "stream",
     "text": [
      "4\n"
     ]
    }
   ],
   "source": [
    "USER_IMG = 'img6'\n",
    "\n",
    "all_mask_paths = \"../inputs/masks/{}\".format(USER_IMG)\n",
    "all_masks = read_imgs(all_mask_paths)\n",
    "print(len(all_masks))"
   ]
  },
  {
   "cell_type": "code",
   "execution_count": 155,
   "metadata": {},
   "outputs": [
    {
     "data": {
      "text/plain": [
       "<matplotlib.image.AxesImage at 0x1398b4350>"
      ]
     },
     "execution_count": 155,
     "metadata": {},
     "output_type": "execute_result"
    },
    {
     "data": {
      "image/png": "[encoded data removed]",
      "text/plain": [
       "<Figure size 640x480 with 1 Axes>"
      ]
     },
     "metadata": {},
     "output_type": "display_data"
    }
   ],
   "source": [
    "# erode = cv2.erode(mask, (5, 5), iterations = 10)\n",
    "# plt.imshow(erode)\n",
    "\n",
    "# morph = cv2.morphologyEx(mask, cv2.MORPH_OPEN, (5, 5), iterations=10)\n",
    "# plt.imshow(morph)\n",
    "\n",
    "# dil = cv2.dilate(erode, (5,5), iterations = 10)\n",
    "# plt.imshow(dil)"
   ]
  },
  {
   "cell_type": "code",
   "execution_count": 4,
   "metadata": {},
   "outputs": [
    {
     "name": "stdout",
     "output_type": "stream",
     "text": [
      "Requirement already satisfied: rdp in /Users/devasenan/opt/anaconda3/envs/torch/lib/python3.11/site-packages (0.8)\n",
      "Requirement already satisfied: numpy in /Users/devasenan/opt/anaconda3/envs/torch/lib/python3.11/site-packages (from rdp) (1.24.3)\n",
      "Note: you may need to restart the kernel to use updated packages.\n"
     ]
    }
   ],
   "source": [
    "%pip install rdp"
   ]
  },
  {
   "cell_type": "code",
   "execution_count": 105,
   "metadata": {},
   "outputs": [],
   "source": [
    "from rdp import rdp\n",
    "def find_peak_points(mask):\n",
    "    msk = mask.copy()\n",
    "    edge=cv2.Canny(msk, 30, 20)\n",
    "    contours, hierarchy = cv2.findContours(edge, cv2.RETR_EXTERNAL, cv2.CHAIN_APPROX_NONE)\n",
    "    # res = cv2.drawContours(msk, contours, -1, (0, 255, 0), 3)\n",
    "    # plt.imshow(res)\n",
    "    \n",
    "    ## separating the mask outline from all other unwanted contours\n",
    "    outline = contours[0]\n",
    "    for i in contours[1:]:\n",
    "        if outline.shape[0] < i.shape[0]:\n",
    "            outline = i\n",
    "    print(outline.shape)\n",
    "    \n",
    "    ## finding the peak points using the Douglas-Peucker algorithm\n",
    "    pp=rdp(outline, epsilon=75)\n",
    "    tmp = mask.copy()\n",
    "    for i in pp:\n",
    "        tmp = cv2.circle(tmp, i[0], 3, (0, 255, 0), 3)\n",
    "    plt.imshow(tmp)\n",
    "    \n",
    "    return pp\n",
    "\n",
    "from scipy.spatial import distance as dist\n",
    "def order_points(pts):\n",
    "    # sort the points based on their x-coordinates\n",
    "    xSorted = pts[np.argsort(pts[:, 0]), :]\n",
    "    # grab the left-most and right-most points from the sorted\n",
    "    # x-roodinate points\n",
    "    leftMost = xSorted[:2, :]\n",
    "    rightMost = xSorted[2:, :]\n",
    "    # now, sort the left-most coordinates according to their\n",
    "    # y-coordinates so we can grab the top-left and bottom-left\n",
    "    # points, respectively\n",
    "    leftMost = leftMost[np.argsort(leftMost[:, 1]), :]\n",
    "    (tl, bl) = leftMost\n",
    "    # now that we have the top-left coordinate, use it as an\n",
    "    # anchor to calculate the Euclidean distance between the\n",
    "    # top-left and right-most points; by the Pythagorean\n",
    "    # theorem, the point with the largest distance will be\n",
    "    # our bottom-right point\n",
    "    D = dist.cdist(tl[np.newaxis], rightMost, \"euclidean\")[0]\n",
    "    (br, tr) = rightMost[np.argsort(D)[::-1], :]\n",
    "    # return the coordinates in top-left, top-right,\n",
    "    # bottom-right, and bottom-left order\n",
    "    return np.array([tl, tr, br, bl], dtype=\"int\")\n",
    "\n",
    "def remove_dup_pts(pp):\n",
    "    ind = list(np.lexsort((pp[:, 0], pp[:, 1])))\n",
    "    res = []\n",
    "    for i in ind[:-1]:\n",
    "        new_pp = []\n",
    "        new_pp.append(list(pp[i]))\n",
    "        for j in ind[1:]:\n",
    "            if abs(pp[i,0]-pp[j,0]) > 5 or abs(pp[i,1]-pp[j,1]) > 5:\n",
    "                new_pp.append(list(pp[j]))\n",
    "        # print([list(pp[i]) for i in ind])\n",
    "        res.append(new_pp)\n",
    "    return res"
   ]
  },
  {
   "cell_type": "code",
   "execution_count": 12,
   "metadata": {},
   "outputs": [
    {
     "name": "stdout",
     "output_type": "stream",
     "text": [
      "(4999, 1, 2)\n",
      "15\n"
     ]
    },
    {
     "data": {
      "image/png": "[encoded data removed]",
      "text/plain": [
       "<Figure size 640x480 with 1 Axes>"
      ]
     },
     "metadata": {},
     "output_type": "display_data"
    }
   ],
   "source": [
    "peak_pts = find_peak_points(all_masks[3]).reshape([-1, 2])\n",
    "print(len(peak_pts))"
   ]
  },
  {
   "cell_type": "code",
   "execution_count": 106,
   "metadata": {},
   "outputs": [
    {
     "name": "stdout",
     "output_type": "stream",
     "text": [
      "[1503    3]\n",
      "[1504    3]\n",
      "[1535    4]\n",
      "[1309   85]\n",
      "[1309   85]\n",
      "[1448  362]\n",
      "[1448  362]\n",
      "[1599  368]\n",
      "[1376  919]\n",
      "[1374  920]\n",
      "[1599  960]\n",
      "[1224 1189]\n",
      "[1346 1189]\n",
      "[1346 1190]\n",
      "[1230 1194]\n"
     ]
    }
   ],
   "source": [
    "ind = list(np.lexsort((peak_pts[:, 0], peak_pts[:, 1])))\n",
    "for i in ind:\n",
    "    print(peak_pts[i])"
   ]
  },
  {
   "cell_type": "code",
   "execution_count": 103,
   "metadata": {},
   "outputs": [],
   "source": [
    "new_pp = remove_dup_pts(peak_pts)"
   ]
  },
  {
   "cell_type": "code",
   "execution_count": 104,
   "metadata": {},
   "outputs": [
    {
     "data": {
      "text/plain": [
       "[[[1503, 3],\n",
       "  [1535, 4],\n",
       "  [1309, 85],\n",
       "  [1309, 85],\n",
       "  [1448, 362],\n",
       "  [1448, 362],\n",
       "  [1599, 368],\n",
       "  [1376, 919],\n",
       "  [1374, 920],\n",
       "  [1599, 960],\n",
       "  [1224, 1189],\n",
       "  [1346, 1189],\n",
       "  [1346, 1190],\n",
       "  [1230, 1194]],\n",
       " [[1504, 3],\n",
       "  [1535, 4],\n",
       "  [1309, 85],\n",
       "  [1309, 85],\n",
       "  [1448, 362],\n",
       "  [1448, 362],\n",
       "  [1599, 368],\n",
       "  [1376, 919],\n",
       "  [1374, 920],\n",
       "  [1599, 960],\n",
       "  [1224, 1189],\n",
       "  [1346, 1189],\n",
       "  [1346, 1190],\n",
       "  [1230, 1194]],\n",
       " [[1535, 4],\n",
       "  [1504, 3],\n",
       "  [1309, 85],\n",
       "  [1309, 85],\n",
       "  [1448, 362],\n",
       "  [1448, 362],\n",
       "  [1599, 368],\n",
       "  [1376, 919],\n",
       "  [1374, 920],\n",
       "  [1599, 960],\n",
       "  [1224, 1189],\n",
       "  [1346, 1189],\n",
       "  [1346, 1190],\n",
       "  [1230, 1194]],\n",
       " [[1309, 85],\n",
       "  [1504, 3],\n",
       "  [1535, 4],\n",
       "  [1448, 362],\n",
       "  [1448, 362],\n",
       "  [1599, 368],\n",
       "  [1376, 919],\n",
       "  [1374, 920],\n",
       "  [1599, 960],\n",
       "  [1224, 1189],\n",
       "  [1346, 1189],\n",
       "  [1346, 1190],\n",
       "  [1230, 1194]],\n",
       " [[1309, 85],\n",
       "  [1504, 3],\n",
       "  [1535, 4],\n",
       "  [1448, 362],\n",
       "  [1448, 362],\n",
       "  [1599, 368],\n",
       "  [1376, 919],\n",
       "  [1374, 920],\n",
       "  [1599, 960],\n",
       "  [1224, 1189],\n",
       "  [1346, 1189],\n",
       "  [1346, 1190],\n",
       "  [1230, 1194]],\n",
       " [[1448, 362],\n",
       "  [1504, 3],\n",
       "  [1535, 4],\n",
       "  [1309, 85],\n",
       "  [1309, 85],\n",
       "  [1599, 368],\n",
       "  [1376, 919],\n",
       "  [1374, 920],\n",
       "  [1599, 960],\n",
       "  [1224, 1189],\n",
       "  [1346, 1189],\n",
       "  [1346, 1190],\n",
       "  [1230, 1194]],\n",
       " [[1448, 362],\n",
       "  [1504, 3],\n",
       "  [1535, 4],\n",
       "  [1309, 85],\n",
       "  [1309, 85],\n",
       "  [1599, 368],\n",
       "  [1376, 919],\n",
       "  [1374, 920],\n",
       "  [1599, 960],\n",
       "  [1224, 1189],\n",
       "  [1346, 1189],\n",
       "  [1346, 1190],\n",
       "  [1230, 1194]],\n",
       " [[1599, 368],\n",
       "  [1504, 3],\n",
       "  [1535, 4],\n",
       "  [1309, 85],\n",
       "  [1309, 85],\n",
       "  [1448, 362],\n",
       "  [1448, 362],\n",
       "  [1376, 919],\n",
       "  [1374, 920],\n",
       "  [1599, 960],\n",
       "  [1224, 1189],\n",
       "  [1346, 1189],\n",
       "  [1346, 1190],\n",
       "  [1230, 1194]],\n",
       " [[1376, 919],\n",
       "  [1504, 3],\n",
       "  [1535, 4],\n",
       "  [1309, 85],\n",
       "  [1309, 85],\n",
       "  [1448, 362],\n",
       "  [1448, 362],\n",
       "  [1599, 368],\n",
       "  [1599, 960],\n",
       "  [1224, 1189],\n",
       "  [1346, 1189],\n",
       "  [1346, 1190],\n",
       "  [1230, 1194]],\n",
       " [[1374, 920],\n",
       "  [1504, 3],\n",
       "  [1535, 4],\n",
       "  [1309, 85],\n",
       "  [1309, 85],\n",
       "  [1448, 362],\n",
       "  [1448, 362],\n",
       "  [1599, 368],\n",
       "  [1599, 960],\n",
       "  [1224, 1189],\n",
       "  [1346, 1189],\n",
       "  [1346, 1190],\n",
       "  [1230, 1194]],\n",
       " [[1599, 960],\n",
       "  [1504, 3],\n",
       "  [1535, 4],\n",
       "  [1309, 85],\n",
       "  [1309, 85],\n",
       "  [1448, 362],\n",
       "  [1448, 362],\n",
       "  [1599, 368],\n",
       "  [1376, 919],\n",
       "  [1374, 920],\n",
       "  [1224, 1189],\n",
       "  [1346, 1189],\n",
       "  [1346, 1190],\n",
       "  [1230, 1194]],\n",
       " [[1224, 1189],\n",
       "  [1504, 3],\n",
       "  [1535, 4],\n",
       "  [1309, 85],\n",
       "  [1309, 85],\n",
       "  [1448, 362],\n",
       "  [1448, 362],\n",
       "  [1599, 368],\n",
       "  [1376, 919],\n",
       "  [1374, 920],\n",
       "  [1599, 960],\n",
       "  [1346, 1189],\n",
       "  [1346, 1190],\n",
       "  [1230, 1194]],\n",
       " [[1346, 1189],\n",
       "  [1504, 3],\n",
       "  [1535, 4],\n",
       "  [1309, 85],\n",
       "  [1309, 85],\n",
       "  [1448, 362],\n",
       "  [1448, 362],\n",
       "  [1599, 368],\n",
       "  [1376, 919],\n",
       "  [1374, 920],\n",
       "  [1599, 960],\n",
       "  [1224, 1189],\n",
       "  [1230, 1194]],\n",
       " [[1346, 1190],\n",
       "  [1504, 3],\n",
       "  [1535, 4],\n",
       "  [1309, 85],\n",
       "  [1309, 85],\n",
       "  [1448, 362],\n",
       "  [1448, 362],\n",
       "  [1599, 368],\n",
       "  [1376, 919],\n",
       "  [1374, 920],\n",
       "  [1599, 960],\n",
       "  [1224, 1189],\n",
       "  [1230, 1194]]]"
      ]
     },
     "execution_count": 104,
     "metadata": {},
     "output_type": "execute_result"
    }
   ],
   "source": [
    "new_pp"
   ]
  },
  {
   "cell_type": "code",
   "execution_count": 100,
   "metadata": {},
   "outputs": [
    {
     "data": {
      "text/plain": [
       "array([[1224, 1189],\n",
       "       [1230, 1194],\n",
       "       [1309,   85],\n",
       "       [1346, 1189],\n",
       "       [1346, 1190],\n",
       "       [1374,  920],\n",
       "       [1376,  919],\n",
       "       [1448,  362],\n",
       "       [1503,    3],\n",
       "       [1504,    3],\n",
       "       [1535,    4],\n",
       "       [1599,  368],\n",
       "       [1599,  960]], dtype=int32)"
      ]
     },
     "execution_count": 100,
     "metadata": {},
     "output_type": "execute_result"
    }
   ],
   "source": [
    "new_pp = np.array(new_pp)\n",
    "np.unique(new_pp, axis = 0)"
   ]
  },
  {
   "cell_type": "code",
   "execution_count": 6,
   "metadata": {},
   "outputs": [],
   "source": [
    "x = np.array([[1503,    3],\n",
    "            [1230, 1194],\n",
    "       [1346, 1190],\n",
    "       [1376,  919],\n",
    "      ])"
   ]
  },
  {
   "cell_type": "code",
   "execution_count": 7,
   "metadata": {},
   "outputs": [
    {
     "data": {
      "text/plain": [
       "array([[1346, 1190],\n",
       "       [1376,  919],\n",
       "       [1503,    3],\n",
       "       [1230, 1194]])"
      ]
     },
     "execution_count": 7,
     "metadata": {},
     "output_type": "execute_result"
    }
   ],
   "source": [
    "order_points(x)"
   ]
  }
 ],
 "metadata": {
  "kernelspec": {
   "display_name": "base",
   "language": "python",
   "name": "python3"
  },
  "language_info": {
   "codemirror_mode": {
    "name": "ipython",
    "version": 3
   },
   "file_extension": ".py",
   "mimetype": "text/x-python",
   "name": "python",
   "nbconvert_exporter": "python",
   "pygments_lexer": "ipython3",
   "version": "3.11.3"
  },
  "orig_nbformat": 4
 },
 "nbformat": 4,
 "nbformat_minor": 2
}
