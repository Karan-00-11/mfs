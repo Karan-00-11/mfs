{
 "cells": [
  {
   "cell_type": "code",
   "execution_count": 3,
   "metadata": {},
   "outputs": [],
   "source": [
    "import os\n",
    "import cv2\n",
    "import numpy as np\n",
    "import matplotlib.pyplot as plt\n",
    "import time"
   ]
  },
  {
   "cell_type": "code",
   "execution_count": 4,
   "metadata": {},
   "outputs": [],
   "source": [
    "def get_mask_imgs(img_path):\n",
    "    mask_imgs = []\n",
    "    for img in os.listdir(img_path):\n",
    "        if img.split('.')[-1] == 'png':\n",
    "            mask_imgs.append(img_path+\"/\"+img)\n",
    "    return mask_imgs\n",
    "\n",
    "def read_imgs(mask_path):\n",
    "    mask_imgs = get_mask_imgs(mask_path) \n",
    "    # print(mask_imgs)\n",
    "    masks = []\n",
    "    for img in mask_imgs:\n",
    "        mask = cv2.imread(img, 0)\n",
    "        mask = cv2.cvtColor(mask, cv2.COLOR_BGR2RGB)\n",
    "        ret, bw_img = cv2.threshold(mask, 10, 255, cv2.THRESH_BINARY)\n",
    "        # print(bw_img.shape)\n",
    "        # plt.imshow(mask)    \n",
    "        masks.append(bw_img)    \n",
    "    return masks\n",
    "\n",
    "def find_rectangle_manually(given_masks):\n",
    "    rectangles = []\n",
    "    for mask in given_masks:\n",
    "        mask = np.array(mask)\n",
    "        gray_mask = cv2.cvtColor(mask, cv2.COLOR_RGB2GRAY)\n",
    "        # print(*gray_mask[400])\n",
    "        row_ind = []\n",
    "        for i in range(gray_mask.shape[0]):\n",
    "            inds = np.where(gray_mask[i] == 255)[0]\n",
    "            if inds.size != 0:\n",
    "                row_ind.append(i)\n",
    "        top, bottom = row_ind[0], row_ind[-1]\n",
    "        \n",
    "        col_ind = []\n",
    "        for i in range(gray_mask.shape[1]):\n",
    "            inds = np.where(gray_mask[:, i] == 255)[0]\n",
    "            if inds.size != 0:\n",
    "                col_ind.append(i)\n",
    "        left, right = col_ind[0], col_ind[-1]\n",
    "\n",
    "        rectangles.append([\n",
    "            [left, top],\n",
    "            [right, top],\n",
    "            [right, bottom],\n",
    "            [left, bottom]\n",
    "        ])\n",
    "    return rectangles"
   ]
  },
  {
   "cell_type": "code",
   "execution_count": 5,
   "metadata": {},
   "outputs": [],
   "source": [
    "from rdp import rdp\n",
    "def find_peak_points(mask):\n",
    "    msk = mask.copy()\n",
    "    edge=cv2.Canny(msk, 30, 20)\n",
    "    contours, hierarchy = cv2.findContours(edge, cv2.RETR_EXTERNAL, cv2.CHAIN_APPROX_NONE)\n",
    "    ## separating the mask outline from all other unwanted contours\n",
    "    outline = []\n",
    "    for i in contours:\n",
    "        # print(len(i))\n",
    "        if i.shape[0] > 100:\n",
    "            outline.extend(i)\n",
    "    # print(outline.shape)\n",
    "    \n",
    "    msk = cv2.drawContours(msk, outline, -1, (0, 255, 0), 3)\n",
    "    ## finding the peak points using the Douglas-Peucker algorithm\n",
    "    pp=rdp(outline, epsilon=75)\n",
    "    for i in pp:\n",
    "        msk = cv2.circle(msk, i[0], 5, (0, 0, 255), -1)\n",
    "    plt.imshow(msk)\n",
    "    return np.array(pp)\n",
    "    \n",
    "def pick_peak_pts(mask, pp):\n",
    "    rect = find_rectangle_manually([mask])[0]\n",
    "    new_rect = []\n",
    "    for p1 in rect:\n",
    "        pt_dist = []\n",
    "        for p2 in pp:\n",
    "            dist = ((p2[0] - p1[0]) ** 2 + (p2[1] - p1[1]) ** 2) ** 0.5\n",
    "            pt_dist = np.append(pt_dist, dist)\n",
    "        # print(pt_dist)\n",
    "        new_rect.append(pp[np.argmin(pt_dist)])\n",
    "    \n",
    "    tmp = mask.copy()\n",
    "    for i in pp:\n",
    "        tmp = cv2.circle(tmp, i, 10, (0, 0, 255), -1)\n",
    "    for i in range(4):\n",
    "        tmp = cv2.circle(tmp, rect[i], 8, (255, 0, 0), -1)\n",
    "        tmp = cv2.circle(tmp, new_rect[i], 8, (0, 255, 0), -1)\n",
    "    plt.imshow(tmp)\n",
    "    \n",
    "    return rect, np.array(new_rect)"
   ]
  },
  {
   "cell_type": "code",
   "execution_count": 6,
   "metadata": {},
   "outputs": [
    {
     "ename": "NotADirectoryError",
     "evalue": "[WinError 267] The directory name is invalid: '../inputs/layout_outputs/img3.jpeg'",
     "output_type": "error",
     "traceback": [
      "\u001b[1;31m---------------------------------------------------------------------------\u001b[0m",
      "\u001b[1;31mNotADirectoryError\u001b[0m                        Traceback (most recent call last)",
      "Cell \u001b[1;32mIn[6], line 4\u001b[0m\n\u001b[0;32m      1\u001b[0m USER_IMG \u001b[39m=\u001b[39m \u001b[39m'\u001b[39m\u001b[39mimg3\u001b[39m\u001b[39m'\u001b[39m\n\u001b[0;32m      3\u001b[0m layout_path \u001b[39m=\u001b[39m \u001b[39m\"\u001b[39m\u001b[39m../inputs/layout_outputs/\u001b[39m\u001b[39m{}\u001b[39;00m\u001b[39m.jpeg\u001b[39m\u001b[39m\"\u001b[39m\u001b[39m.\u001b[39mformat(USER_IMG)\n\u001b[1;32m----> 4\u001b[0m layout \u001b[39m=\u001b[39m read_imgs(layout_path)\n",
      "Cell \u001b[1;32mIn[4], line 9\u001b[0m, in \u001b[0;36mread_imgs\u001b[1;34m(mask_path)\u001b[0m\n\u001b[0;32m      8\u001b[0m \u001b[39mdef\u001b[39;00m \u001b[39mread_imgs\u001b[39m(mask_path):\n\u001b[1;32m----> 9\u001b[0m     mask_imgs \u001b[39m=\u001b[39m get_mask_imgs(mask_path) \n\u001b[0;32m     10\u001b[0m     \u001b[39m# print(mask_imgs)\u001b[39;00m\n\u001b[0;32m     11\u001b[0m     masks \u001b[39m=\u001b[39m []\n",
      "Cell \u001b[1;32mIn[4], line 3\u001b[0m, in \u001b[0;36mget_mask_imgs\u001b[1;34m(img_path)\u001b[0m\n\u001b[0;32m      1\u001b[0m \u001b[39mdef\u001b[39;00m \u001b[39mget_mask_imgs\u001b[39m(img_path):\n\u001b[0;32m      2\u001b[0m     mask_imgs \u001b[39m=\u001b[39m []\n\u001b[1;32m----> 3\u001b[0m     \u001b[39mfor\u001b[39;00m img \u001b[39min\u001b[39;00m os\u001b[39m.\u001b[39;49mlistdir(img_path):\n\u001b[0;32m      4\u001b[0m         \u001b[39mif\u001b[39;00m img\u001b[39m.\u001b[39msplit(\u001b[39m'\u001b[39m\u001b[39m.\u001b[39m\u001b[39m'\u001b[39m)[\u001b[39m-\u001b[39m\u001b[39m1\u001b[39m] \u001b[39m==\u001b[39m \u001b[39m'\u001b[39m\u001b[39mpng\u001b[39m\u001b[39m'\u001b[39m:\n\u001b[0;32m      5\u001b[0m             mask_imgs\u001b[39m.\u001b[39mappend(img_path\u001b[39m+\u001b[39m\u001b[39m\"\u001b[39m\u001b[39m/\u001b[39m\u001b[39m\"\u001b[39m\u001b[39m+\u001b[39mimg)\n",
      "\u001b[1;31mNotADirectoryError\u001b[0m: [WinError 267] The directory name is invalid: '../inputs/layout_outputs/img3.jpeg'"
     ]
    }
   ],
   "source": [
    "USER_IMG = 'img3'\n",
    "\n",
    "layout_path = \"../inputs/layout_outputs/{}.jpeg\".format(USER_IMG)\n",
    "layout = read_imgs(layout_path)"
   ]
  }
 ],
 "metadata": {
  "kernelspec": {
   "display_name": "base",
   "language": "python",
   "name": "python3"
  },
  "language_info": {
   "codemirror_mode": {
    "name": "ipython",
    "version": 3
   },
   "file_extension": ".py",
   "mimetype": "text/x-python",
   "name": "python",
   "nbconvert_exporter": "python",
   "pygments_lexer": "ipython3",
   "version": "3.10.9"
  },
  "orig_nbformat": 4
 },
 "nbformat": 4,
 "nbformat_minor": 2
}
