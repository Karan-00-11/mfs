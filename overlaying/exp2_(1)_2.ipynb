{
  "cells": [
    {
      "cell_type": "code",
      "execution_count": null,
      "metadata": {
        "colab": {
          "base_uri": "https://localhost:8080/"
        },
        "id": "jwP9H9RfLOqU",
        "outputId": "b422c856-8c07-4c3c-9b2c-61d2dad587ba"
      },
      "outputs": [
        {
          "name": "stdout",
          "output_type": "stream",
          "text": [
            "Cloning into 'mfs'...\n",
            "remote: Enumerating objects: 795, done.\u001b[K\n",
            "remote: Counting objects: 100% (25/25), done.\u001b[K\n",
            "remote: Compressing objects: 100% (20/20), done.\u001b[K\n",
            "remote: Total 795 (delta 8), reused 18 (delta 4), pack-reused 770\u001b[K\n",
            "Receiving objects: 100% (795/795), 234.40 MiB | 26.55 MiB/s, done.\n",
            "Resolving deltas: 100% (247/247), done.\n",
            "Updating files: 100% (355/355), done.\n"
          ]
        }
      ],
      "source": [
        "!git clone \"https://github.com/devasenan134/mfs.git\""
      ]
    },
    {
      "cell_type": "code",
      "execution_count": null,
      "metadata": {
        "id": "JlNbrE2QLV00"
      },
      "outputs": [],
      "source": [
        "import os\n",
        "os.chdir(\"/content/mfs/overlaying\")"
      ]
    },
    {
      "cell_type": "code",
      "execution_count": 1,
      "metadata": {
        "id": "Q5gL3JAlLN62"
      },
      "outputs": [],
      "source": [
        "import os\n",
        "import cv2\n",
        "import numpy as np\n",
        "import matplotlib.pyplot as plt\n",
        "import time"
      ]
    },
    {
      "cell_type": "code",
      "execution_count": 2,
      "metadata": {
        "id": "uIaGcSvSLN64"
      },
      "outputs": [],
      "source": [
        "def get_mask_imgs(img_path):\n",
        "    mask_imgs = []\n",
        "    for img in os.listdir(img_path):\n",
        "        if img.split('.')[-1] == 'png':\n",
        "            mask_imgs.append(img_path+\"/\"+img)\n",
        "    return mask_imgs\n",
        "\n",
        "def read_imgs(mask_path):\n",
        "    mask_imgs = get_mask_imgs(mask_path)\n",
        "    # print(mask_imgs)\n",
        "    masks = []\n",
        "    for img in mask_imgs:\n",
        "        mask = cv2.imread(img, 0)\n",
        "        mask = cv2.cvtColor(mask, cv2.COLOR_BGR2RGB)\n",
        "        ret, bw_img = cv2.threshold(mask, 10, 255, cv2.THRESH_BINARY)\n",
        "        # print(bw_img.shape)\n",
        "        # plt.imshow(mask)\n",
        "        masks.append(bw_img)\n",
        "    return masks\n",
        "\n",
        "def find_rectangle_manually(given_masks):\n",
        "    rectangles = []\n",
        "    for mask in given_masks:\n",
        "        mask = np.array(mask)\n",
        "        gray_mask = cv2.cvtColor(mask, cv2.COLOR_RGB2GRAY)\n",
        "        # print(*gray_mask[400])\n",
        "        row_ind = []\n",
        "        for i in range(gray_mask.shape[0]):\n",
        "            inds = np.where(gray_mask[i] == 255)[0]\n",
        "            if inds.size != 0:\n",
        "                row_ind.append(i)\n",
        "        top, bottom = row_ind[0], row_ind[-1]\n",
        "\n",
        "        col_ind = []\n",
        "        for i in range(gray_mask.shape[1]):\n",
        "            inds = np.where(gray_mask[:, i] == 255)[0]\n",
        "            if inds.size != 0:\n",
        "                col_ind.append(i)\n",
        "        left, right = col_ind[0], col_ind[-1]\n",
        "\n",
        "        rectangles.append([\n",
        "            [left, top],\n",
        "            [right, top],\n",
        "            [right, bottom],\n",
        "            [left, bottom]\n",
        "        ])\n",
        "    return rectangles"
      ]
    },
    {
      "cell_type": "code",
      "execution_count": 3,
      "metadata": {
        "colab": {
          "base_uri": "https://localhost:8080/"
        },
        "id": "IWmi-Ox1LlrN",
        "outputId": "67249437-8e09-470c-9f4f-cd6d3fca98d4"
      },
      "outputs": [
        {
          "name": "stdout",
          "output_type": "stream",
          "text": [
            "Requirement already satisfied: rdp in c:\\users\\daai.desktop-128vds1\\anaconda3\\lib\\site-packages (0.8)\n",
            "Requirement already satisfied: numpy in c:\\users\\daai.desktop-128vds1\\anaconda3\\lib\\site-packages (from rdp) (1.23.5)\n",
            "Note: you may need to restart the kernel to use updated packages.\n"
          ]
        }
      ],
      "source": [
        "pip install rdp"
      ]
    },
    {
      "cell_type": "code",
      "execution_count": null,
      "metadata": {
        "id": "aJNJu1M9LN65"
      },
      "outputs": [],
      "source": [
        "# erode = cv2.erode(mask, (5, 5), iterations = 10)\n",
        "# plt.imshow(erode)\n",
        "\n",
        "# morph = cv2.morphologyEx(mask, cv2.MORPH_OPEN, (5, 5), iterations=10)\n",
        "# plt.imshow(morph)\n",
        "\n",
        "# dil = cv2.dilate(erode, (5,5), iterations = 10)\n",
        "# plt.imshow(dil)"
      ]
    },
    {
      "cell_type": "code",
      "execution_count": 48,
      "metadata": {
        "id": "yE35z9ECLN65"
      },
      "outputs": [],
      "source": [
        "from rdp import rdp\n",
        "def find_peak_points(mask):\n",
        "    msk = mask.copy()\n",
        "    edge=cv2.Canny(msk, 30, 20)\n",
        "    contours, hierarchy = cv2.findContours(edge, cv2.RETR_EXTERNAL, cv2.CHAIN_APPROX_NONE)\n",
        "    ## separating the mask outline from all other unwanted contours\n",
        "    outline = []\n",
        "    for i in contours:\n",
        "        # print(len(i))\n",
        "        if i.shape[0] > 100:\n",
        "            outline.extend(i)\n",
        "    # print(outline.shape)\n",
        "\n",
        "    msk = cv2.drawContours(msk, outline, -1, (0, 255, 0), 3)\n",
        "    ## finding the peak points using the Douglas-Peucker algorithm\n",
        "    pp=rdp(outline, epsilon=25)\n",
        "    for i in pp:\n",
        "        msk = cv2.circle(msk, i[0], 5, (0, 0, 255), -1)\n",
        "    plt.imshow(msk)\n",
        "    return np.array(pp)\n",
        "\n",
        "def pick_peak_pts(mask, pp):\n",
        "    rect = find_rectangle_manually([mask])[0]\n",
        "    new_rect = []\n",
        "    for p1 in rect:\n",
        "        pt_dist = []\n",
        "        for p2 in pp:\n",
        "            dist = ((p2[0] - p1[0]) ** 2 + (p2[1] - p1[1]) ** 2) ** 0.5\n",
        "            pt_dist = np.append(pt_dist, dist)\n",
        "        # print(pt_dist)\n",
        "        new_rect.append(pp[np.argmin(pt_dist)])\n",
        "\n",
        "    tmp = mask.copy()\n",
        "    for i in pp:\n",
        "        tmp = cv2.circle(tmp, i, 10, (0, 0, 255), -1)\n",
        "    for i in range(4):\n",
        "        tmp = cv2.circle(tmp, rect[i], 8, (255, 0, 0), -1)\n",
        "        tmp = cv2.circle(tmp, new_rect[i], 8, (0, 255, 0), -1)\n",
        "    plt.imshow(tmp)\n",
        "\n",
        "    return rect, np.array(new_rect)"
      ]
    },
    {
      "cell_type": "code",
      "execution_count": 49,
      "metadata": {
        "colab": {
          "base_uri": "https://localhost:8080/"
        },
        "id": "SzQ5F457LN66",
        "outputId": "207adb8b-53bd-4f62-f5c6-d0d4be81dd73"
      },
      "outputs": [
        {
          "name": "stdout",
          "output_type": "stream",
          "text": [
            "3\n"
          ]
        }
      ],
      "source": [
        "USER_IMG = 'img3'\n",
        "\n",
        "all_mask_paths = \"../inputs/masks/{}\".format(USER_IMG)\n",
        "all_masks = read_imgs(all_mask_paths)\n",
        "print(len(all_masks))"
      ]
    },
    {
      "cell_type": "code",
      "execution_count": 51,
      "metadata": {
        "id": "wDVTXCE2OXix"
      },
      "outputs": [],
      "source": [
        "peak_pts, new_rectangles, rectangles, peak_points_for_masks = [], [], [], []"
      ]
    },
    {
      "cell_type": "code",
      "execution_count": 54,
      "metadata": {
        "colab": {
          "base_uri": "https://localhost:8080/",
          "height": 799
        },
        "id": "zQtXoe12LN67",
        "outputId": "7616573c-c5f5-4016-da73-4395b8613b72"
      },
      "outputs": [
        {
          "name": "stdout",
          "output_type": "stream",
          "text": [
            "8\n"
          ]
        },
        {
          "data": {
            "image/png": "[encoded data removed]",
            "text/plain": [
              "<Figure size 640x480 with 1 Axes>"
            ]
          },
          "metadata": {},
          "output_type": "display_data"
        }
      ],
      "source": [
        "mask = all_masks[0]\n",
        "peak_pts = find_peak_points(mask).reshape([-1, 2])\n",
        "peak_points_for_masks.append(peak_pts)\n",
        "print(len((peak_pts)))"
      ]
    },
    {
      "cell_type": "code",
      "execution_count": 56,
      "metadata": {
        "colab": {
          "base_uri": "https://localhost:8080/",
          "height": 504
        },
        "id": "g6K8dSutLN68",
        "outputId": "652d8f67-a8da-48f6-dc91-e7aa369f677e"
      },
      "outputs": [
        {
          "data": {
            "text/plain": [
              "array([[ 323,  971],\n",
              "       [1472, 1016],\n",
              "       [1456, 1195],\n",
              "       [ 139, 1189]])"
            ]
          },
          "execution_count": 56,
          "metadata": {},
          "output_type": "execute_result"
        },
        {
          "data": {
            "image/png": "[encoded data removed]",
            "text/plain": [
              "<Figure size 640x480 with 1 Axes>"
            ]
          },
          "metadata": {},
          "output_type": "display_data"
        }
      ],
      "source": [
        "rect, new_rect = pick_peak_pts(mask, peak_pts)\n",
        "rectangles.append(rect)\n",
        "new_rectangles.append(new_rect)\n",
        "new_rect"
      ]
    },
    {
      "cell_type": "code",
      "execution_count": 59,
      "metadata": {
        "colab": {
          "base_uri": "https://localhost:8080/",
          "height": 1000
        },
        "id": "UcK3nHjnMgwj",
        "outputId": "947251a4-51e2-4655-a454-ca53a4766885"
      },
      "outputs": [
        {
          "name": "stdout",
          "output_type": "stream",
          "text": [
            "46\n"
          ]
        },
        {
          "data": {
            "image/png": "[encoded data removed]",
            "text/plain": [
              "<Figure size 640x480 with 1 Axes>"
            ]
          },
          "metadata": {},
          "output_type": "display_data"
        }
      ],
      "source": [
        "mask = all_masks[1]\n",
        "peak_pts = find_peak_points(mask).reshape([-1, 2])\n",
        "peak_points_for_masks.append(peak_pts)\n",
        "print(len(peak_pts))"
      ]
    },
    {
      "cell_type": "code",
      "execution_count": 60,
      "metadata": {
        "colab": {
          "base_uri": "https://localhost:8080/",
          "height": 504
        },
        "id": "QKWAIgCJMl_C",
        "outputId": "51c0c4dd-c201-49d8-d127-9d0ebc8cd283"
      },
      "outputs": [
        {
          "data": {
            "text/plain": [
              "array([[ 606,  143],\n",
              "       [1571,    0],\n",
              "       [1484,  979],\n",
              "       [ 629,  784]])"
            ]
          },
          "execution_count": 60,
          "metadata": {},
          "output_type": "execute_result"
        },
        {
          "data": {
            "image/png": "[encoded data removed]",
            "text/plain": [
              "<Figure size 640x480 with 1 Axes>"
            ]
          },
          "metadata": {},
          "output_type": "display_data"
        }
      ],
      "source": [
        "rect, new_rect = pick_peak_pts(mask, peak_pts)\n",
        "rectangles.append(rect)\n",
        "new_rectangles.append(new_rect)\n",
        "new_rect"
      ]
    },
    {
      "cell_type": "code",
      "execution_count": 62,
      "metadata": {
        "colab": {
          "base_uri": "https://localhost:8080/",
          "height": 539
        },
        "id": "WXjCBHXIMpYp",
        "outputId": "d2bca01a-63ca-4176-e016-659ca0c2788f"
      },
      "outputs": [
        {
          "name": "stdout",
          "output_type": "stream",
          "text": [
            "27\n"
          ]
        },
        {
          "data": {
            "image/png": "[encoded data removed]",
            "text/plain": [
              "<Figure size 640x480 with 1 Axes>"
            ]
          },
          "metadata": {},
          "output_type": "display_data"
        }
      ],
      "source": [
        "mask = all_masks[2]\n",
        "peak_pts = find_peak_points(mask).reshape([-1, 2])\n",
        "peak_points_for_masks.append(peak_pts)\n",
        "print(len(peak_pts))"
      ]
    },
    {
      "cell_type": "code",
      "execution_count": 63,
      "metadata": {
        "colab": {
          "base_uri": "https://localhost:8080/",
          "height": 504
        },
        "id": "5b3ZIuTqMt6z",
        "outputId": "2e3e8df0-792d-422c-8180-6922c4ebe95b"
      },
      "outputs": [
        {
          "data": {
            "text/plain": [
              "array([[ 63,   0],\n",
              "       [600, 143],\n",
              "       [626, 775],\n",
              "       [316, 935]])"
            ]
          },
          "execution_count": 63,
          "metadata": {},
          "output_type": "execute_result"
        },
        {
          "data": {
            "image/png": "[encoded data removed]",
            "text/plain": [
              "<Figure size 640x480 with 1 Axes>"
            ]
          },
          "metadata": {},
          "output_type": "display_data"
        }
      ],
      "source": [
        "rect, new_rect = pick_peak_pts(mask, peak_pts)\n",
        "rectangles.append(rect)\n",
        "new_rectangles.append(new_rect)\n",
        "new_rect"
      ]
    },
    {
      "cell_type": "code",
      "execution_count": 64,
      "metadata": {
        "colab": {
          "base_uri": "https://localhost:8080/",
          "height": 217
        },
        "id": "Mw9hYVPBVVNj",
        "outputId": "38c087fc-308c-47f8-891a-fe98dfa715eb"
      },
      "outputs": [],
      "source": [
        "# mask = all_masks[3]\n",
        "# peak_pts = find_peak_points(mask).reshape([-1, 2])\n",
        "# peak_points_for_masks.append(peak_pts)\n",
        "# print((peak_pts))"
      ]
    },
    {
      "cell_type": "code",
      "execution_count": 65,
      "metadata": {
        "colab": {
          "base_uri": "https://localhost:8080/",
          "height": 488
        },
        "id": "je7SGuAYVcw0",
        "outputId": "7e0fedcd-6f79-4133-aba6-b3a1c507adcc"
      },
      "outputs": [],
      "source": [
        "# rect, new_rect = pick_peak_pts(mask, peak_pts)\n",
        "# rectangles.append(rect)\n",
        "# new_rectangles.append(new_rect)\n",
        "# new_rect"
      ]
    },
    {
      "cell_type": "code",
      "execution_count": 66,
      "metadata": {
        "id": "j4atz1NyUdGo"
      },
      "outputs": [],
      "source": [
        "def isClose(pt, seed):\n",
        "    # if abs(pt[0]-seed[0]) >= 275 and abs(pt[1]-seed[1]) >= 275:\n",
        "    #     return False\n",
        "    distance = ((pt[0] - seed[0]) ** 2 + (pt[1] - seed[1]) ** 2) ** 0.5\n",
        "    if distance > 75:\n",
        "      # print(distance)\n",
        "      # if abs(pt[0] - 630) < 15:\n",
        "      #   print(distance, pt, seed)\n",
        "      return False\n",
        "    # print(distance, pt, seed)\n",
        "    return True"
      ]
    },
    {
      "cell_type": "markdown",
      "metadata": {
        "id": "EVTVfvg-ZTWm"
      },
      "source": [
        "Method 3"
      ]
    },
    {
      "cell_type": "code",
      "execution_count": 67,
      "metadata": {
        "id": "N5VcYoCIZVH7"
      },
      "outputs": [],
      "source": [
        "def findLeft(pts, shape):\n",
        "  mi, mipt = shape[0], None\n",
        "  for pt in pts:\n",
        "    if pt[0] < mi:\n",
        "      mi = pt[0]\n",
        "      mipt = pt\n",
        "  return mipt\n",
        "\n",
        "def findRight(pts, shape):\n",
        "  ma, mapt = 0, None\n",
        "  for pt in pts:\n",
        "    if pt[0] > ma:\n",
        "      ma = pt[0]\n",
        "      mapt = pt\n",
        "  return mapt\n",
        "\n",
        "def findTop(pts, shape):\n",
        "  mi, mipt = shape[1], None\n",
        "  for pt in pts:\n",
        "    print(pt, mi)\n",
        "    if pt[1] < mi:\n",
        "      mi = pt[1]\n",
        "      mipt = pt\n",
        "  return mipt\n",
        "\n",
        "def findBottom(pts, shape):\n",
        "  ma, mapt = 0, None\n",
        "  for pt in pts:\n",
        "    if pt[1] > ma:\n",
        "      ma = pt[1]\n",
        "      mapt = pt\n",
        "  return mapt"
      ]
    },
    {
      "cell_type": "code",
      "execution_count": 68,
      "metadata": {
        "id": "IO9O4x0SaecW"
      },
      "outputs": [],
      "source": [
        "def findExtremes(pts, shape):\n",
        "  left, right, top, bottom = findLeft(pts, shape), findRight(pts, shape), findTop(pts, shape), findBottom(pts, shape)\n",
        "  return [left, right, top, bottom]"
      ]
    },
    {
      "cell_type": "code",
      "execution_count": 82,
      "metadata": {
        "id": "2W4f-346bH46"
      },
      "outputs": [],
      "source": [
        "# # A divide and conquer program to find convex\n",
        "# # hull of a given set of points.\n",
        "# from functools import cmp_to_key\n",
        "\n",
        "# # stores the centre of polygon (It is made\n",
        "# # global because it is used in compare function)\n",
        "# mid = [0, 0]\n",
        "\n",
        "# # determines the quadrant of a point\n",
        "# # (used in compare())\n",
        "# def quad(p):\n",
        "# \tif p[0] >= 0 and p[1] >= 0:\n",
        "# \t\treturn 1\n",
        "# \tif p[0] <= 0 and p[1] >= 0:\n",
        "# \t\treturn 2\n",
        "# \tif p[0] <= 0 and p[1] <= 0:\n",
        "# \t\treturn 3\n",
        "# \treturn 4\n",
        "\n",
        "# # Checks whether the line is crossing the polygon\n",
        "# def orientation(a, b, c):\n",
        "# \tres = (b[1]-a[1]) * (c[0]-b[0]) - (c[1]-b[1]) * (b[0]-a[0])\n",
        "# \tif res == 0:\n",
        "# \t\treturn 0\n",
        "# \tif res > 0:\n",
        "# \t\treturn 1\n",
        "# \treturn -1\n",
        "\n",
        "# # compare function for sorting\n",
        "# def compare(p1, q1):\n",
        "# \tp = [p1[0]-mid[0], p1[1]-mid[1]]\n",
        "# \tq = [q1[0]-mid[0], q1[1]-mid[1]]\n",
        "# \tone = quad(p)\n",
        "# \ttwo = quad(q)\n",
        "\n",
        "# \tif one != two:\n",
        "# \t\tif one < two:\n",
        "# \t\t\treturn -1\n",
        "# \t\treturn 1\n",
        "# \tif p[1]*q[0] < q[1]*p[0]:\n",
        "# \t\treturn -1\n",
        "# \treturn 1\n",
        "\n",
        "# # Finds upper tangent of two polygons 'a' and 'b'\n",
        "# # represented as two vectors.\n",
        "# def merger(a, b):\n",
        "# \t# n1 -> number of points in polygon a\n",
        "# \t# n2 -> number of points in polygon b\n",
        "# \tn1, n2 = len(a), len(b)\n",
        "# \tia, ib = 0, 0\n",
        "\n",
        "# \t# ia -> rightmost point of a\n",
        "# \tfor i in range(1, n1):\n",
        "# \t\tif a[i][0] > a[ia][0]:\n",
        "# \t\t\tia = i\n",
        "\n",
        "# \t# ib -> leftmost point of b\n",
        "# \tfor i in range(1, n2):\n",
        "# \t\tif b[i][0] < b[ib][0]:\n",
        "# \t\t\tib = i\n",
        "# \t# finding the upper tangent\n",
        "# \tinda, indb = ia, ib\n",
        "# \tdone = 0\n",
        "# \twhile not done:\n",
        "# \t\tdone = 1\n",
        "# \t\twhile orientation(b[indb], a[inda], a[(inda+1) % n1]) >= 0:\n",
        "# \t\t\tinda = (inda + 1) % n1\n",
        "\n",
        "# \t\twhile orientation(a[inda], b[indb], b[(n2+indb-1) % n2]) <= 0:\n",
        "# \t\t\tindb = (indb - 1) % n2\n",
        "# \t\t\tdone = 0\n",
        "\n",
        "# \tuppera, upperb = inda, indb\n",
        "# \tinda, indb = ia, ib\n",
        "# \tdone = 0\n",
        "# \tg = 0\n",
        "# \twhile not done: # finding the lower tangent\n",
        "# \t\tdone = 1\n",
        "# \t\twhile orientation(a[inda], b[indb], b[(indb+1) % n2]) >= 0:\n",
        "# \t\t\tindb = (indb + 1) % n2\n",
        "\n",
        "# \t\twhile orientation(b[indb], a[inda], a[(n1+inda-1) % n1]) <= 0:\n",
        "# \t\t\tinda = (inda - 1) % n1\n",
        "# \t\t\tdone = 0\n",
        "\n",
        "# \tret = []\n",
        "# \tlowera, lowerb = inda, indb\n",
        "# \t# ret contains the convex hull after merging the two convex hulls\n",
        "# \t# with the points sorted in anti-clockwise order\n",
        "# \tind = uppera\n",
        "# \tret.append(a[uppera])\n",
        "# \twhile ind != lowera:\n",
        "# \t\tind = (ind+1) % n1\n",
        "# \t\tret.append(a[ind])\n",
        "\n",
        "# \tind = lowerb\n",
        "# \tret.append(b[lowerb])\n",
        "# \twhile ind != upperb:\n",
        "# \t\tind = (ind+1) % n2\n",
        "# \t\tret.append(b[ind])\n",
        "# \treturn ret\n",
        "\n",
        "# # Brute force algorithm to find convex hull for a set\n",
        "# # of less than 6 points\n",
        "# def bruteHull(a):\n",
        "# \t# Take any pair of points from the set and check\n",
        "# \t# whether it is the edge of the convex hull or not.\n",
        "# \t# if all the remaining points are on the same side\n",
        "# \t# of the line then the line is the edge of convex\n",
        "# \t# hull otherwise not\n",
        "# \tglobal mid\n",
        "# \ts = set()\n",
        "# \tfor i in range(len(a)):\n",
        "# \t\tfor j in range(i+1, len(a)):\n",
        "# \t\t\tx1, x2 = a[i][0], a[j][0]\n",
        "# \t\t\ty1, y2 = a[i][1], a[j][1]\n",
        "# \t\t\ta1, b1, c1 = y1-y2, x2-x1, x1*y2-y1*x2\n",
        "# \t\t\tpos, neg = 0, 0\n",
        "# \t\t\tfor k in range(len(a)):\n",
        "# \t\t\t\tif (k == i) or (k == j) or (a1*a[k][0]+b1*a[k][1]+c1 <= 0):\n",
        "# \t\t\t\t\tneg += 1\n",
        "# \t\t\t\tif (k == i) or (k == j) or (a1*a[k][0]+b1*a[k][1]+c1 >= 0):\n",
        "# \t\t\t\t\tpos += 1\n",
        "# \t\t\tif pos == len(a) or neg == len(a):\n",
        "# \t\t\t\ts.add(tuple(a[i]))\n",
        "# \t\t\t\ts.add(tuple(a[j]))\n",
        "\n",
        "# \tret = []\n",
        "# \tfor x in s:\n",
        "# \t\tret.append(list(x))\n",
        "\n",
        "# \t# Sorting the points in the anti-clockwise order\n",
        "# \tmid = [0, 0]\n",
        "# \tn = len(ret)\n",
        "# \tfor i in range(n):\n",
        "# \t\tmid[0] += ret[i][0]\n",
        "# \t\tmid[1] += ret[i][1]\n",
        "# \t\tret[i][0] *= n\n",
        "# \t\tret[i][1] *= n\n",
        "# \tret = sorted(ret, key=cmp_to_key(compare))\n",
        "# \tfor i in range(n):\n",
        "# \t\tret[i] = [ret[i][0]/n, ret[i][1]/n]\n",
        "# \treturn ret\n",
        "\n",
        "# # Returns the convex hull for the given set of points\n",
        "# def divide(a):\n",
        "# \t# If the number of points is less than 6 then the\n",
        "# \t# function uses the brute algorithm to find the\n",
        "# \t# convex hull\n",
        "# \tif len(a) <= 5:\n",
        "# \t\treturn bruteHull(a)\n",
        "\n",
        "# \t# left contains the left half points\n",
        "# \t# right contains the right half points\n",
        "# \tleft, right = [], []\n",
        "# \tstart = int(len(a)/2)\n",
        "# \tfor i in range(start):\n",
        "# \t\tleft.append(a[i])\n",
        "# \tfor i in range(start, len(a)):\n",
        "# \t\tright.append(a[i])\n",
        "\n",
        "# \t# convex hull for the left and right sets\n",
        "# \tleft_hull = divide(left)\n",
        "# \tright_hull = divide(right)\n",
        "\n",
        "# \t# merging the convex hulls\n",
        "# \treturn merger(left_hull, right_hull)\n",
        "\n"
      ]
    },
    {
      "cell_type": "code",
      "execution_count": 83,
      "metadata": {
        "colab": {
          "base_uri": "https://localhost:8080/"
        },
        "id": "HzMrt0UwdHs3",
        "outputId": "a9668b6c-ad1f-45fc-cb95-d4b2bf6c26d5"
      },
      "outputs": [],
      "source": [
        "# convexHulls = []\n",
        "# for pts in peak_points_for_masks:\n",
        "#   pts.sort()\n",
        "#   convexHulls.append(divide(pts))\n",
        "# for hulls in convexHulls:\n",
        "#   print(hulls)\n",
        "#   print('-------------------------------------------------------------')"
      ]
    },
    {
      "cell_type": "code",
      "execution_count": 84,
      "metadata": {
        "colab": {
          "base_uri": "https://localhost:8080/"
        },
        "id": "ktzGl4raePwz",
        "outputId": "d7d48472-b20c-4060-cf48-83221bed3bd0"
      },
      "outputs": [
        {
          "name": "stdout",
          "output_type": "stream",
          "text": [
            "[630 814] 1600\n",
            "[323 971] 814\n",
            "[ 330 1079] 814\n",
            "[ 139 1189] 814\n",
            "[ 173 1197] 814\n",
            "[1195 1456] 814\n",
            "[1016 1472] 814\n",
            "[631 814] 814\n",
            "[630 814] 1600\n",
            "[323 971] 814\n",
            "[ 330 1079] 814\n",
            "[ 139 1189] 814\n",
            "[ 173 1197] 814\n",
            "[1195 1456] 814\n",
            "[1016 1472] 814\n",
            "[631 814] 814\n",
            "[630 814] 1600\n",
            "[323 971] 814\n",
            "[ 330 1079] 814\n",
            "[ 139 1189] 814\n",
            "[ 173 1197] 814\n",
            "[1195 1456] 814\n",
            "[1016 1472] 814\n",
            "[631 814] 814\n",
            "[ 205 1316] 1600\n",
            "[249 915] 1316\n",
            "[634 915] 915\n",
            "[ 684 1270] 915\n",
            "[ 674 1314] 915\n",
            "[ 207 1347] 915\n",
            "[ 81 955] 915\n",
            "[143 606] 915\n",
            "[416 612] 606\n",
            "[418 673] 606\n",
            "[365 717] 606\n",
            "[366 834] 606\n",
            "[445 715] 606\n",
            "[458 612] 606\n",
            "[627 782] 606\n",
            "[ 979 1484] 606\n",
            "[ 873 1498] 606\n",
            "[ 834 1406] 606\n",
            "[ 830 1506] 606\n",
            "[ 168 1584] 606\n",
            "[217 847] 606\n",
            "[ 169 1585] 606\n",
            "[ 830 1506] 606\n",
            "[ 834 1406] 606\n",
            "[ 875 1499] 606\n",
            "[ 979 1479] 606\n",
            "[629 784] 606\n",
            "[459 612] 606\n",
            "[445 716] 606\n",
            "[365 834] 606\n",
            "[365 717] 606\n",
            "[418 672] 606\n",
            "[417 614] 606\n",
            "[146 603] 606\n",
            "[ 81 965] 603\n",
            "[195 992] 603\n",
            "[ 81 956] 603\n",
            "[   0 1571] 603\n",
            "[  20 1336] 603\n",
            "[ 154 1332] 603\n",
            "[ 152 1582] 603\n",
            "[  66 1599] 603\n",
            "[ 152 1582] 603\n",
            "[ 153 1332] 603\n",
            "[  20 1336] 603\n",
            "[   1 1571] 603\n",
            "[ 205 1316] 1600\n",
            "[249 915] 1316\n",
            "[634 915] 915\n",
            "[ 684 1270] 915\n",
            "[ 674 1314] 915\n",
            "[ 207 1347] 915\n",
            "[ 81 955] 915\n",
            "[143 606] 915\n",
            "[416 612] 606\n",
            "[418 673] 606\n",
            "[365 717] 606\n",
            "[366 834] 606\n",
            "[445 715] 606\n",
            "[458 612] 606\n",
            "[627 782] 606\n",
            "[ 979 1484] 606\n",
            "[ 873 1498] 606\n",
            "[ 834 1406] 606\n",
            "[ 830 1506] 606\n",
            "[ 168 1584] 606\n",
            "[217 847] 606\n",
            "[ 169 1585] 606\n",
            "[ 830 1506] 606\n",
            "[ 834 1406] 606\n",
            "[ 875 1499] 606\n",
            "[ 979 1479] 606\n",
            "[629 784] 606\n",
            "[459 612] 606\n",
            "[445 716] 606\n",
            "[365 834] 606\n",
            "[365 717] 606\n",
            "[418 672] 606\n",
            "[417 614] 606\n",
            "[146 603] 606\n",
            "[ 81 965] 603\n",
            "[195 992] 603\n",
            "[ 81 956] 603\n",
            "[   0 1571] 603\n",
            "[  20 1336] 603\n",
            "[ 154 1332] 603\n",
            "[ 152 1582] 603\n",
            "[  66 1599] 603\n",
            "[ 152 1582] 603\n",
            "[ 153 1332] 603\n",
            "[  20 1336] 603\n",
            "[   1 1571] 603\n",
            "[450 583] 1600\n",
            "[581 617] 583\n",
            "[264 708] 583\n",
            "[316 935] 583\n",
            "[626 775] 583\n",
            "[459 612] 583\n",
            "[221 329] 583\n",
            "[263 565] 329\n",
            "[417 596] 329\n",
            "[258 609] 329\n",
            "[208 219] 329\n",
            "[221 326] 219\n",
            "[196 205] 219\n",
            "[ 0 63] 205\n",
            "[145 601] 63\n",
            "[229 603] 63\n",
            "[225 529] 63\n",
            "[178 219] 63\n",
            "[ 91 228] 63\n",
            "[131 195] 63\n",
            "[ 0 71] 63\n",
            "[131 195] 63\n",
            "[ 92 231] 63\n",
            "[178 218] 63\n",
            "[232 600] 63\n",
            "[143 600] 63\n",
            "[ 1 64] 63\n",
            "[450 583] 1600\n",
            "[581 617] 583\n",
            "[264 708] 583\n",
            "[316 935] 583\n",
            "[626 775] 583\n",
            "[459 612] 583\n",
            "[221 329] 583\n",
            "[263 565] 329\n",
            "[417 596] 329\n",
            "[258 609] 329\n",
            "[208 219] 329\n",
            "[221 326] 219\n",
            "[196 205] 219\n",
            "[ 0 63] 205\n",
            "[145 601] 63\n",
            "[229 603] 63\n",
            "[225 529] 63\n",
            "[178 219] 63\n",
            "[ 91 228] 63\n",
            "[131 195] 63\n",
            "[ 0 71] 63\n",
            "[131 195] 63\n",
            "[ 92 231] 63\n",
            "[178 218] 63\n",
            "[232 600] 63\n",
            "[143 600] 63\n",
            "[ 1 64] 63\n",
            "[array([ 139, 1189]), array([1195, 1456]), array([630, 814]), array([1016, 1472])]\n",
            "--------------------------------------------------------------\n",
            "[array([ 139, 1189]), array([1195, 1456]), array([630, 814]), array([1016, 1472])]\n",
            "--------------------------------------------------------------\n",
            "[array([ 139, 1189]), array([1195, 1456]), array([630, 814]), array([1016, 1472])]\n",
            "--------------------------------------------------------------\n",
            "[array([   0, 1571]), array([ 979, 1484]), array([146, 603]), array([  66, 1599])]\n",
            "--------------------------------------------------------------\n",
            "[array([   0, 1571]), array([ 979, 1484]), array([146, 603]), array([  66, 1599])]\n",
            "--------------------------------------------------------------\n",
            "[array([ 0, 63]), array([626, 775]), array([ 0, 63]), array([316, 935])]\n",
            "--------------------------------------------------------------\n",
            "[array([ 0, 63]), array([626, 775]), array([ 0, 63]), array([316, 935])]\n",
            "--------------------------------------------------------------\n"
          ]
        }
      ],
      "source": [
        "extremes = []\n",
        "for pts in peak_points_for_masks:\n",
        "  extremes.append(findExtremes(pts, all_masks[0].shape))\n",
        "for _ in extremes:\n",
        "  print(_)\n",
        "  print('--------------------------------------------------------------')"
      ]
    },
    {
      "cell_type": "code",
      "execution_count": 33,
      "metadata": {
        "id": "vXpDJXcELjZZ"
      },
      "outputs": [],
      "source": [
        "def isFloor(pts, shape):\n",
        "  for pt in pts:\n",
        "    if pt[1] < shape[1] * 0.3:\n",
        "      return False\n",
        "  return True"
      ]
    },
    {
      "cell_type": "code",
      "execution_count": 34,
      "metadata": {
        "id": "xn3du8DQMc5H"
      },
      "outputs": [],
      "source": [
        "#---------------To arrange the points clockwise---------------\n",
        "def order_points(pts):\n",
        "    if len(pts) == 4:\n",
        "        pts = np.array(pts)\n",
        "        rect = np.zeros((4, 2), dtype = \"float32\")\n",
        "        s = pts.sum(axis = 1)\n",
        "        rect[0] = pts[np.argmin(s)]\n",
        "        rect[2] = pts[np.argmax(s)]\n",
        "        diff = np.diff(pts, axis = 1)\n",
        "        rect[1] = pts[np.argmin(diff)]\n",
        "        rect[3] = pts[np.argmax(diff)]\n",
        "    else:\n",
        "        pts = np.array(pts)\n",
        "        rect = np.zeros((2, 2), dtype = \"float32\")\n",
        "        s = pts.sum(axis = 1)\n",
        "        rect[0] = pts[np.argmin(s)]\n",
        "        diff = np.diff(pts, axis = 1)\n",
        "        rect[1] = pts[np.argmin(diff)]\n",
        "    return rect"
      ]
    },
    {
      "cell_type": "code",
      "execution_count": 35,
      "metadata": {
        "id": "KHw0lz6dM0Rc"
      },
      "outputs": [],
      "source": [
        "def isCloseToEdge(pt, shape):\n",
        "  if pt[0] > 50 and pt[0] < shape[0] - 50:\n",
        "    return True\n",
        "  return False"
      ]
    },
    {
      "cell_type": "code",
      "execution_count": 36,
      "metadata": {
        "id": "LFzx9YYFOhiG"
      },
      "outputs": [],
      "source": [
        "def isLeft(pts, shape):\n",
        "  for pt in pts:\n",
        "    if pt[0] > 0.7 * shape[0]:\n",
        "      return False\n",
        "  return True"
      ]
    },
    {
      "cell_type": "code",
      "execution_count": 85,
      "metadata": {
        "colab": {
          "base_uri": "https://localhost:8080/"
        },
        "id": "WQ3dMkmhKKWj",
        "outputId": "844f2c60-953e-4c46-b71c-6e8aeb1010c9"
      },
      "outputs": [
        {
          "name": "stdout",
          "output_type": "stream",
          "text": [
            "2222\n",
            "2222\n"
          ]
        },
        {
          "ename": "IndexError",
          "evalue": "list index out of range",
          "output_type": "error",
          "traceback": [
            "\u001b[1;31m---------------------------------------------------------------------------\u001b[0m",
            "\u001b[1;31mIndexError\u001b[0m                                Traceback (most recent call last)",
            "Cell \u001b[1;32mIn[85], line 4\u001b[0m\n\u001b[0;32m      1\u001b[0m finalTransformableCoordinates \u001b[39m=\u001b[39m []\n\u001b[0;32m      3\u001b[0m \u001b[39mfor\u001b[39;00m i \u001b[39min\u001b[39;00m \u001b[39mrange\u001b[39m(\u001b[39mlen\u001b[39m(peak_points_for_masks)):\n\u001b[1;32m----> 4\u001b[0m   \u001b[39mif\u001b[39;00m isFloor(new_rectangles[i], all_masks[\u001b[39m0\u001b[39m]\u001b[39m.\u001b[39mshape):\n\u001b[0;32m      5\u001b[0m     vertices \u001b[39m=\u001b[39m order_points(new_rectangles[i])\n\u001b[0;32m      6\u001b[0m     \u001b[39mif\u001b[39;00m (isCloseToEdge(vertices[\u001b[39m0\u001b[39m], all_masks[\u001b[39m0\u001b[39m]\u001b[39m.\u001b[39mshape) \u001b[39mand\u001b[39;00m isCloseToEdge(vertices[\u001b[39m1\u001b[39m], all_masks[\u001b[39m0\u001b[39m]\u001b[39m.\u001b[39mshape)):\n",
            "\u001b[1;31mIndexError\u001b[0m: list index out of range"
          ]
        }
      ],
      "source": [
        "finalTransformableCoordinates = []\n",
        "\n",
        "for i in range(len(peak_points_for_masks)):\n",
        "  if isFloor(new_rectangles[i], all_masks[0].shape):\n",
        "    vertices = order_points(new_rectangles[i])\n",
        "    if (isCloseToEdge(vertices[0], all_masks[0].shape) and isCloseToEdge(vertices[1], all_masks[0].shape)):\n",
        "      print('1111')\n",
        "      x1, y1 = extremes[i][2]\n",
        "      x2, y2 = vertices[0]\n",
        "      x3, y3 = vertices[1]\n",
        "      y = 2 * all_masks[0].shape[1] - y1\n",
        "      x2d = int(((all_masks[0].shape[1] - y1) / (y2 - y1)) * (x2 - x1) + x1)\n",
        "      x3d = int(((all_masks[0].shape[1] - y1) / (y3 - y1)) * (x3 - x1) + x1)\n",
        "      x = x3d - x2d - x1 + x2d\n",
        "      finalTransformableCoordinates.append([[x1,y1], [x3d,all_masks[0].shape[1]], [x,y], [x2d,all_masks[0].shape[1]]])\n",
        "    elif (isCloseToEdge(vertices[0], all_masks[0].shape)):\n",
        "      print('2222')\n",
        "      x1, y1 = extremes[i][2]\n",
        "      x2, y2 = vertices[0]\n",
        "      x3, y3 = vertices[1]\n",
        "      y = 2 * all_masks[0].shape[1] - y1\n",
        "      x = all_masks[0].shape[0] - x1\n",
        "      x2d = int(((all_masks[0].shape[1] - y1) / (y2 - y1)) * (x2 - x1) + x1)\n",
        "      x3d = int(((all_masks[0].shape[1] - y1) / (y3 - y1)) * (x3 - x1) + x1)\n",
        "      x = x3d - x2d - x1 + x2d\n",
        "      finalTransformableCoordinates.append([[x1,y1], [x3d,all_masks[0].shape[1]], [x,y], [x2d,all_masks[0].shape[1]]])\n",
        "    elif (vertices[0][1] > all_masks[0].shape[1] - 50 and isCloseToEdge(vertices[1], all_masks[0].shape)):\n",
        "      print('3333')\n",
        "      x1, y1 = extremes[i][2]\n",
        "      x2, y2 = vertices[0]\n",
        "      x3, y3 = vertices[1]\n",
        "      y = 2 * all_masks[0].shape[1] - y1\n",
        "      x = all_masks[0].shape[0] - x1\n",
        "      x2d = int(((all_masks[0].shape[1] - y1) / (y2 - y1)) * (x2 - x1) + x1)\n",
        "      x3d = int(((all_masks[0].shape[1] - y1) / (y3 - y1)) * (x3 - x1) + x1)\n",
        "      x = x3d - x2d - x1 + x2d\n",
        "      finalTransformableCoordinates.append([[x1,y1], [x3d,all_masks[0].shape[1]], [x,y], [x2d,all_masks[0].shape[1]]])\n",
        "    else:\n",
        "      x1, y1 = extremes[i][2]\n",
        "      if y1 == vertices[0][1] or y1 == vertices[1][1]:\n",
        "        finalTransformableCoordinates.append(vertices)\n",
        "      else:\n",
        "        print('4444')\n",
        "        print(vertices)\n",
        "        print(extremes[i])\n",
        "        x2, y2 = vertices[0]\n",
        "        x3, y3 = vertices[1]\n",
        "        y = 2 * all_masks[0].shape[1] - y1\n",
        "        x = all_masks[0].shape[0] - x1\n",
        "        x2d = int(((all_masks[0].shape[1] - y1) / (y2 - y1)) * (x2 - x1) + x1)\n",
        "        x3d = int(((all_masks[0].shape[1] - y1) / (y3 - y1)) * (x3 - x1) + x1)\n",
        "        x = x3d - x2d - x1 + x2d\n",
        "        finalTransformableCoordinates.append([[x1,y1], [x3d,all_masks[0].shape[1]], [x,y], [x2d,all_masks[0].shape[1]]])\n",
        "  else:\n",
        "    vertices = order_points(new_rectangles[i])\n",
        "    if isLeft(new_rectangles[i], all_masks[0].shape):\n",
        "      # print(vertices)\n",
        "      # print(extremes)\n",
        "      x1, y1 = extremes[i][2]\n",
        "      x2, y2 = vertices[1]\n",
        "      if y1 == y2:\n",
        "        x1, y1 = vertices[0]\n",
        "      x = extremes[i][0][0]\n",
        "      y = int((((x-x1)/(x2-x1))*(y2-y1)) + y1)\n",
        "      x3, y3 = extremes[i][3]\n",
        "      x4, y4 = vertices[2]\n",
        "      if y3 == y4:\n",
        "        x3, y3 = vertices[3]\n",
        "      xd = extremes[i][0][0]\n",
        "      yd = int((((xd-x3)/(x4-x3))*(y4-y3)) + y3)\n",
        "      finalTransformableCoordinates.append([[x,y], vertices[1], vertices[2], [xd,yd]])\n",
        "    else:\n",
        "      # print(vertices)\n",
        "      # print(extremes[i])\n",
        "      x1, y1 = extremes[i][2]\n",
        "      x2, y2 = vertices[0]\n",
        "      if y1 == y2:\n",
        "        x1, y1 = vertices[1]\n",
        "      x = extremes[i][1][0]\n",
        "      y = int((((x-x1)/(x2-x1))*(y2-y1)) + y1)\n",
        "      x3, y3 = extremes[i][3]\n",
        "      x4, y4 = vertices[3]\n",
        "      if y3 == y4:\n",
        "        x3, y3 = vertices[2]\n",
        "      xd = extremes[i][1][0]\n",
        "      yd = int((((xd-x3)/(x4-x3))*(y4-y3)) + y3)\n",
        "      # print(i, y, yd)\n",
        "      finalTransformableCoordinates.append([vertices[0], [x,y], [xd,yd], vertices[3]])\n",
        "\n",
        "for boxes in finalTransformableCoordinates:\n",
        "  print(boxes)\n",
        "  print('--------------------------------------------------------------------------------------------------------------------')"
      ]
    },
    {
      "cell_type": "markdown",
      "metadata": {
        "id": "LuwP5zQZNEis"
      },
      "source": [
        "Method 2"
      ]
    },
    {
      "cell_type": "code",
      "execution_count": 86,
      "metadata": {
        "colab": {
          "base_uri": "https://localhost:8080/"
        },
        "id": "zv2w1Y__NDhF",
        "outputId": "a6f42ed7-e38f-4554-b0ce-5b565df9934c"
      },
      "outputs": [
        {
          "name": "stdout",
          "output_type": "stream",
          "text": [
            "Point : [ 205 1316] Intersecting masks are : [3, 4]\n",
            "Point : [634 915] Intersecting masks are : [3, 4]\n",
            "Point : [ 684 1270] Intersecting masks are : [3, 4]\n",
            "Point : [ 81 955] Intersecting masks are : [3, 4]\n",
            "Point : [365 717] Intersecting masks are : [3, 4]\n",
            "Point : [366 834] Intersecting masks are : [3, 4]\n",
            "Point : [445 715] Intersecting masks are : [3, 4]\n",
            "Point : [ 873 1498] Intersecting masks are : [3, 4]\n",
            "Point : [ 834 1406] Intersecting masks are : [3, 4]\n",
            "Point : [ 168 1584] Intersecting masks are : [3, 4]\n",
            "Point : [217 847] Intersecting masks are : [3, 4]\n",
            "Point : [195 992] Intersecting masks are : [3, 4]\n",
            "Point : [   0 1571] Intersecting masks are : [3, 4]\n",
            "Point : [  20 1336] Intersecting masks are : [3, 4]\n",
            "Point : [581 617] Intersecting masks are : [5, 6]\n",
            "Point : [264 708] Intersecting masks are : [5, 6]\n",
            "Point : [221 329] Intersecting masks are : [5, 6]\n",
            "Point : [263 565] Intersecting masks are : [5, 6]\n",
            "Point : [208 219] Intersecting masks are : [5, 6]\n",
            "Point : [ 0 63] Intersecting masks are : [5, 6]\n",
            "Point : [ 91 228] Intersecting masks are : [5, 6]\n",
            "----------------------------------\n",
            "The fixed points are:\n",
            "Point : [ 330 1079] Intersecting masks are : [0, 1, 2]\n",
            "Point : [ 139 1189] Intersecting masks are : [0, 1, 2]\n",
            "Point : [1195 1456] Intersecting masks are : [0, 1, 2]\n"
          ]
        }
      ],
      "source": [
        "linkedlist = []\n",
        "for i in range(len(peak_points_for_masks)):\n",
        "  for pt in peak_points_for_masks[i]:\n",
        "    # if i ==0:\n",
        "      # print(str(pt)+\" first mask points\")\n",
        "    # if pt[0] == 626 and pt[1] == 775:\n",
        "      # print(linkedlist)\n",
        "      # print()\n",
        "      # print(\"----------------------------\")\n",
        "      # print()\n",
        "    flag = True\n",
        "    for sublist in linkedlist:\n",
        "      if isClose(pt, sublist[0][0]):\n",
        "        sublist.append([pt, i])\n",
        "        flag = False\n",
        "    if flag:\n",
        "      linkedlist.append([[pt,i]])\n",
        "\n",
        "twoMaskIntersection, threeMaskIntersection = [], []\n",
        "\n",
        "for sublist in linkedlist:\n",
        "  # print(sublist)\n",
        "  c, uniqueIndex, seed = 0, [], sublist[0][0]\n",
        "  for entry in sublist:\n",
        "    if entry[1] not in uniqueIndex:\n",
        "      uniqueIndex.append(entry[1])\n",
        "      c += 1\n",
        "  if c == 2:\n",
        "    twoMaskIntersection.append([seed,uniqueIndex])\n",
        "  if c == 3:\n",
        "    threeMaskIntersection.append([seed,uniqueIndex])\n",
        "# print('####################################')\n",
        "\n",
        "if len(all_masks) >= 3:\n",
        "  for pt in twoMaskIntersection:\n",
        "    print('Point : '+ str(pt[0]) + ' Intersecting masks are : ' + str(pt[1]))\n",
        "  print('----------------------------------')\n",
        "  print(\"The fixed points are:\")\n",
        "  for pt in threeMaskIntersection:\n",
        "    print('Point : '+ str(pt[0]) + ' Intersecting masks are : ' + str(pt[1]))\n",
        "else:\n",
        "  print(\"The fixed points are:\")\n",
        "  for pt in twoMaskIntersection:\n",
        "    print('Point : '+ str(pt[0]) + ' Intersecting masks are : ' + str(pt[1]))\n"
      ]
    },
    {
      "cell_type": "markdown",
      "metadata": {
        "id": "azx-EcvHNHFc"
      },
      "source": [
        "Method 1"
      ]
    },
    {
      "cell_type": "code",
      "execution_count": 40,
      "metadata": {
        "colab": {
          "base_uri": "https://localhost:8080/"
        },
        "id": "rWXy9AGBLylK",
        "outputId": "80a3c28c-5150-4daa-88a1-9424414e4ca1"
      },
      "outputs": [
        {
          "name": "stdout",
          "output_type": "stream",
          "text": [
            "3\n",
            "[1260 1628] (1260, 1628) [3, 4]\n"
          ]
        }
      ],
      "source": [
        "corner_pts, di, li2 = [], {}, []\n",
        "for i in range(len(peak_points_for_masks)):\n",
        "  # if i == 0:\n",
        "  #   for pt in peak_points_for_masks[i]:\n",
        "  #     flag = True\n",
        "  #     for pt1 in di.keys():\n",
        "  #       if i in di[pt1][3]:\n",
        "  #         continue\n",
        "  #       if isClose(pt, di[pt1][2]):\n",
        "  #         flag = False\n",
        "  #         di[pt1][2][0] = di[pt1][1][0] + pt[0] // 2\n",
        "  #         di[pt1][2][1] = di[pt1][1][1] + pt[1] // 2\n",
        "  #         di[pt1][1][0] = di[pt1][2][0]\n",
        "  #         di[pt1][1][1] = di[pt1][2][1]\n",
        "  #     # print(pt)\n",
        "  #     if flag:\n",
        "  #       di[tuple(pt)] = [1, pt, pt, [i]]\n",
        "  # else:\n",
        "  #   for pt in peak_points_for_masks[i]:\n",
        "  #     flag = True\n",
        "  #     for pt1 in di.keys():\n",
        "  #       if i in di[pt1][3]:\n",
        "  #         continue\n",
        "  #       if isClose(pt, di[pt1][2]):\n",
        "  #         flag = False\n",
        "  #         di[pt1][0] += 1\n",
        "  #         di[pt1][1][0] += pt[0]\n",
        "  #         di[pt1][1][1] += pt[1]\n",
        "  #         di[pt1][2][0] = di[pt1][1][0] // di[pt1][0]\n",
        "  #         di[pt1][2][1] = di[pt1][1][1] // di[pt1][0]\n",
        "  #         di[pt1][3].append(i)\n",
        "  #     if flag:\n",
        "  #       di[tuple(pt)] = [1, pt, pt, [i]]\n",
        "  for pt in peak_points_for_masks[i]:\n",
        "    flag, fl = True, True\n",
        "    for pt1 in di.keys():\n",
        "      if i in di[pt1][3]:\n",
        "        fl = False\n",
        "        continue\n",
        "        if i == 2:\n",
        "          print('ttttttt', pt, di[pt1][2],isClose(pt, di[pt1][2]))\n",
        "      if isClose(pt, di[pt1][2]):\n",
        "        flag = False\n",
        "        di[pt1][0] += 1\n",
        "        di[pt1][1][0] += pt[0]\n",
        "        di[pt1][1][1] += pt[1]\n",
        "        di[pt1][2][0] = di[pt1][1][0] // di[pt1][0]\n",
        "        di[pt1][2][1] = di[pt1][1][1] // di[pt1][0]\n",
        "        di[pt1][3].append(i)\n",
        "        break\n",
        "    if flag:\n",
        "      if fl:\n",
        "        di[tuple(pt)] = [1, pt, pt, [i]]\n",
        "      else:\n",
        "        if isClose(pt, di[pt1][2]):\n",
        "          flag = False\n",
        "          di[pt1][1][0] += pt[0]\n",
        "          di[pt1][1][1] += pt[1]\n",
        "          di[pt1][2][0] = di[pt1][1][0] // 2\n",
        "          di[pt1][2][1] = di[pt1][1][1] // 2\n",
        "          di[pt1][1][0] += di[pt1][2][0]\n",
        "          di[pt1][1][1] += di[pt1][2][1]\n",
        "print(len(di.keys()))\n",
        "for key in di.keys():\n",
        "  if di[key][0] > 1:\n",
        "    li2.append(di[key][2])\n",
        "    print(di[key][2], key, di[key][3])\n"
      ]
    },
    {
      "cell_type": "code",
      "execution_count": 41,
      "metadata": {
        "id": "NTXmc1tTghOr"
      },
      "outputs": [],
      "source": [
        "def isSame(pt, pt1):\n",
        "  if pt[0] != pt1[0] or pt[1] != pt1[1]:\n",
        "    return False\n",
        "  return True"
      ]
    },
    {
      "cell_type": "code",
      "execution_count": 42,
      "metadata": {
        "colab": {
          "base_uri": "https://localhost:8080/"
        },
        "id": "52lhw0LvUUlZ",
        "outputId": "64a0dc32-73e4-4457-9a28-600f85cb6d42"
      },
      "outputs": [
        {
          "name": "stdout",
          "output_type": "stream",
          "text": [
            "0 [323 971]  - 1\n",
            "0 [1472 1016]  - 1\n",
            "0 [1456 1195]  - 1\n",
            "0 [ 139 1189]  - 1\n",
            "1 [606 143]  - 1\n",
            "1 [1571    0]  - 1\n",
            "1 [1484  979]  - 1\n",
            "1 [629 784]  - 1\n",
            "2 [63  0]  - 1\n",
            "2 [600 143]  - 1\n",
            "2 [626 775]  - 1\n",
            "2 [316 935]  - 1\n",
            "3 [63  0]  - 1\n",
            "3 [600 143]  - 1\n",
            "3 [626 775]  - 1\n",
            "3 [316 935]  - 1\n",
            "4 [63  0]  - 1\n",
            "4 [600 143]  - 1\n",
            "4 [626 775]  - 1\n",
            "4 [316 935]  - 1\n"
          ]
        }
      ],
      "source": [
        "li1 = []\n",
        "for i in range(len(new_rectangles)):\n",
        "  for pt in new_rectangles[i]:\n",
        "    print(i, str(pt) + '  - 1')\n",
        "    for p in li2:\n",
        "      if isClose(pt, p):\n",
        "        flag = True\n",
        "        for pt1 in li1:\n",
        "          if isSame(pt, pt1):\n",
        "            flag = False\n",
        "            break\n",
        "        if flag:\n",
        "          li1.append(pt)\n",
        "          print(i, pt, p)\n"
      ]
    },
    {
      "cell_type": "code",
      "execution_count": 43,
      "metadata": {
        "colab": {
          "base_uri": "https://localhost:8080/"
        },
        "id": "EySe1Sh0ej20",
        "outputId": "be477861-f8d7-47a7-f24f-fd23fd36e963"
      },
      "outputs": [
        {
          "name": "stdout",
          "output_type": "stream",
          "text": [
            "1 [1260 1628] [1260 1628]\n"
          ]
        }
      ],
      "source": [
        "li1 = []\n",
        "for i in range(len(peak_points_for_masks)):\n",
        "  for pt in peak_points_for_masks[i]:\n",
        "    # print(i, str(pt) + '  - 1')\n",
        "    for p in li2:\n",
        "      if isClose(pt, p):\n",
        "        flag = True\n",
        "        for pt1 in li1:\n",
        "          if isClose(pt, pt1):\n",
        "            flag = False\n",
        "            break\n",
        "        if flag:\n",
        "          # print(li1)\n",
        "          li1.append(p)\n",
        "          print(i, pt, p)"
      ]
    }
  ],
  "metadata": {
    "colab": {
      "provenance": []
    },
    "kernelspec": {
      "display_name": "base",
      "language": "python",
      "name": "python3"
    },
    "language_info": {
      "codemirror_mode": {
        "name": "ipython",
        "version": 3
      },
      "file_extension": ".py",
      "mimetype": "text/x-python",
      "name": "python",
      "nbconvert_exporter": "python",
      "pygments_lexer": "ipython3",
      "version": "3.10.9"
    },
    "orig_nbformat": 4
  },
  "nbformat": 4,
  "nbformat_minor": 0
}
