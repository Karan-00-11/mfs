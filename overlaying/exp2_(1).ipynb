{
  "cells": [
    {
      "cell_type": "code",
      "execution_count": 1,
      "metadata": {
        "id": "Q5gL3JAlLN62"
      },
      "outputs": [],
      "source": [
        "import os\n",
        "import cv2\n",
        "import numpy as np\n",
        "import matplotlib.pyplot as plt\n",
        "import time"
      ]
    },
    {
      "cell_type": "code",
      "execution_count": 2,
      "metadata": {
        "id": "uIaGcSvSLN64"
      },
      "outputs": [],
      "source": [
        "def get_mask_imgs(img_path):\n",
        "    mask_imgs = []\n",
        "    for img in os.listdir(img_path):\n",
        "        if img.split('.')[-1] == 'png':\n",
        "            mask_imgs.append(img_path+\"/\"+img)\n",
        "    return mask_imgs\n",
        "\n",
        "def read_imgs(mask_path):\n",
        "    mask_imgs = get_mask_imgs(mask_path)\n",
        "    # print(mask_imgs)\n",
        "    masks = []\n",
        "    for img in mask_imgs:\n",
        "        mask = cv2.imread(img, 0)\n",
        "        mask = cv2.cvtColor(mask, cv2.COLOR_BGR2RGB)\n",
        "        ret, bw_img = cv2.threshold(mask, 10, 255, cv2.THRESH_BINARY)\n",
        "        # print(bw_img.shape)\n",
        "        # plt.imshow(mask)\n",
        "        masks.append(bw_img)\n",
        "    return masks\n",
        "\n",
        "def find_rectangle_manually(given_masks):\n",
        "    rectangles = []\n",
        "    for mask in given_masks:\n",
        "        mask = np.array(mask)\n",
        "        gray_mask = cv2.cvtColor(mask, cv2.COLOR_RGB2GRAY)\n",
        "        # print(*gray_mask[400])\n",
        "        row_ind = []\n",
        "        for i in range(gray_mask.shape[0]):\n",
        "            inds = np.where(gray_mask[i] == 255)[0]\n",
        "            if inds.size != 0:\n",
        "                row_ind.append(i)\n",
        "        top, bottom = row_ind[0], row_ind[-1]\n",
        "\n",
        "        col_ind = []\n",
        "        for i in range(gray_mask.shape[1]):\n",
        "            inds = np.where(gray_mask[:, i] == 255)[0]\n",
        "            if inds.size != 0:\n",
        "                col_ind.append(i)\n",
        "        left, right = col_ind[0], col_ind[-1]\n",
        "\n",
        "        rectangles.append([\n",
        "            [left, top],\n",
        "            [right, top],\n",
        "            [right, bottom],\n",
        "            [left, bottom]\n",
        "        ])\n",
        "    return rectangles"
      ]
    },
    {
      "cell_type": "code",
      "execution_count": 3,
      "metadata": {
        "colab": {
          "base_uri": "https://localhost:8080/"
        },
        "id": "IWmi-Ox1LlrN",
        "outputId": "ecc94b68-200f-47f8-9636-e6b89f110c69"
      },
      "outputs": [
        {
          "name": "stdout",
          "output_type": "stream",
          "text": [
            "Requirement already satisfied: rdp in c:\\users\\daai.desktop-128vds1\\anaconda3\\lib\\site-packages (0.8)\n",
            "Requirement already satisfied: numpy in c:\\users\\daai.desktop-128vds1\\anaconda3\\lib\\site-packages (from rdp) (1.23.5)\n",
            "Note: you may need to restart the kernel to use updated packages.\n"
          ]
        }
      ],
      "source": [
        "pip install rdp"
      ]
    },
    {
      "cell_type": "code",
      "execution_count": 6,
      "metadata": {
        "id": "aJNJu1M9LN65"
      },
      "outputs": [],
      "source": [
        "# erode = cv2.erode(mask, (5, 5), iterations = 10)\n",
        "# plt.imshow(erode)\n",
        "\n",
        "# morph = cv2.morphologyEx(mask, cv2.MORPH_OPEN, (5, 5), iterations=10)\n",
        "# plt.imshow(morph)\n",
        "\n",
        "# dil = cv2.dilate(erode, (5,5), iterations = 10)\n",
        "# plt.imshow(dil)"
      ]
    },
    {
      "cell_type": "code",
      "execution_count": 4,
      "metadata": {
        "id": "yE35z9ECLN65"
      },
      "outputs": [],
      "source": [
        "from rdp import rdp\n",
        "def find_peak_points(mask):\n",
        "    msk = mask.copy()\n",
        "    edge=cv2.Canny(msk, 30, 20)\n",
        "    contours, hierarchy = cv2.findContours(edge, cv2.RETR_EXTERNAL, cv2.CHAIN_APPROX_NONE)\n",
        "    ## separating the mask outline from all other unwanted contours\n",
        "    outline = []\n",
        "    for i in contours:\n",
        "        # print(len(i))\n",
        "        if i.shape[0] > 100:\n",
        "            outline.extend(i)\n",
        "    # print(outline.shape)\n",
        "\n",
        "    msk = cv2.drawContours(msk, outline, -1, (0, 255, 0), 3)\n",
        "    ## finding the peak points using the Douglas-Peucker algorithm\n",
        "    pp=rdp(outline, epsilon=75)\n",
        "    for i in pp:\n",
        "        msk = cv2.circle(msk, i[0], 5, (0, 0, 255), -1)\n",
        "    plt.imshow(msk)\n",
        "    return np.array(pp)\n",
        "\n",
        "def pick_peak_pts(mask, pp):\n",
        "    rect = find_rectangle_manually([mask])[0]\n",
        "    new_rect = []\n",
        "    for p1 in rect:\n",
        "        pt_dist = []\n",
        "        for p2 in pp:\n",
        "            dist = ((p2[0] - p1[0]) ** 2 + (p2[1] - p1[1]) ** 2) ** 0.5\n",
        "            pt_dist = np.append(pt_dist, dist)\n",
        "        # print(pt_dist)\n",
        "        new_rect.append(pp[np.argmin(pt_dist)])\n",
        "\n",
        "    tmp = mask.copy()\n",
        "    for i in pp:\n",
        "        tmp = cv2.circle(tmp, i, 10, (0, 0, 255), -1)\n",
        "    for i in range(4):\n",
        "        tmp = cv2.circle(tmp, rect[i], 8, (255, 0, 0), -1)\n",
        "        tmp = cv2.circle(tmp, new_rect[i], 8, (0, 255, 0), -1)\n",
        "    plt.imshow(tmp)\n",
        "\n",
        "    return rect, np.array(new_rect)"
      ]
    },
    {
      "cell_type": "code",
      "execution_count": 5,
      "metadata": {
        "colab": {
          "base_uri": "https://localhost:8080/"
        },
        "id": "SzQ5F457LN66",
        "outputId": "786f79ca-f8dd-4c0d-fae0-d262cdab10cf"
      },
      "outputs": [
        {
          "name": "stdout",
          "output_type": "stream",
          "text": [
            "3\n"
          ]
        }
      ],
      "source": [
        "USER_IMG = 'kitchen'\n",
        "\n",
        "all_mask_paths = \"../inputs/masks/{}\".format(USER_IMG)\n",
        "all_masks = read_imgs(all_mask_paths)\n",
        "print(len(all_masks))"
      ]
    },
    {
      "cell_type": "code",
      "execution_count": 33,
      "metadata": {},
      "outputs": [],
      "source": [
        "peak_pts, new_rectangles, rectangles, peak_points_for_masks = [], [], [], []"
      ]
    },
    {
      "cell_type": "code",
      "execution_count": 34,
      "metadata": {
        "colab": {
          "base_uri": "https://localhost:8080/",
          "height": 887
        },
        "id": "zQtXoe12LN67",
        "outputId": "81756916-f94a-4252-80c3-2d0e3e75648c"
      },
      "outputs": [
        {
          "name": "stdout",
          "output_type": "stream",
          "text": [
            "[[ 895 1030]\n",
            " [ 884 1135]\n",
            " [ 938 1011]\n",
            " [1023 1134]\n",
            " [ 939 1011]\n",
            " [1209  859]\n",
            " [ 496  838]\n",
            " [   0  982]\n",
            " [ 496  838]\n",
            " [ 499 1025]\n",
            " [ 653 1135]\n",
            " [   0 1136]\n",
            " [ 654 1135]\n",
            " [ 498 1023]\n",
            " [ 497  839]\n",
            " [1306  772]\n",
            " [1189 1003]\n",
            " [1099  914]\n",
            " [1082 1089]\n",
            " [ 980  989]\n",
            " [1042 1134]\n",
            " [1599 1136]\n",
            " [1041 1132]\n",
            " [ 979  991]\n",
            " [1082 1089]\n",
            " [1098  916]\n",
            " [1190 1003]\n",
            " [1304  773]\n",
            " [1599  821]\n",
            " [1307  772]]\n"
          ]
        },
        {
          "data": {
            "image/png": "[encoded data removed]",
            "text/plain": [
              "<Figure size 640x480 with 1 Axes>"
            ]
          },
          "metadata": {},
          "output_type": "display_data"
        }
      ],
      "source": [
        "mask = all_masks[0]\n",
        "peak_pts = find_peak_points(mask).reshape([-1, 2])\n",
        "peak_points_for_masks.append(peak_pts)\n",
        "print((peak_pts))"
      ]
    },
    {
      "cell_type": "code",
      "execution_count": 35,
      "metadata": {
        "colab": {
          "base_uri": "https://localhost:8080/",
          "height": 488
        },
        "id": "g6K8dSutLN68",
        "outputId": "271ae2ed-70a8-4292-b575-11b2f20405dd"
      },
      "outputs": [
        {
          "data": {
            "text/plain": [
              "array([[   0,  982],\n",
              "       [1599,  821],\n",
              "       [1599, 1136],\n",
              "       [   0, 1136]])"
            ]
          },
          "execution_count": 35,
          "metadata": {},
          "output_type": "execute_result"
        },
        {
          "data": {
            "image/png": "[encoded data removed]",
            "text/plain": [
              "<Figure size 640x480 with 1 Axes>"
            ]
          },
          "metadata": {},
          "output_type": "display_data"
        }
      ],
      "source": [
        "rect, new_rect = pick_peak_pts(mask, peak_pts)\n",
        "rectangles.append(rect)\n",
        "new_rectangles.append(new_rect)\n",
        "new_rect"
      ]
    },
    {
      "cell_type": "code",
      "execution_count": 36,
      "metadata": {
        "id": "j4atz1NyUdGo"
      },
      "outputs": [],
      "source": [
        "def isClose(pt, seed):\n",
        "    # if abs(pt[0]-seed[0]) >= 275 and abs(pt[1]-seed[1]) >= 275:\n",
        "    #     return False\n",
        "    distance = ((pt[0] - seed[0]) ** 2 + (pt[1] - seed[1]) ** 2) ** 0.5\n",
        "    if distance > 75:\n",
        "      # print(distance)\n",
        "      # if abs(pt[0] - 630) < 15:\n",
        "      #   print(distance, pt, seed)\n",
        "      return False\n",
        "    # print(distance, pt, seed)\n",
        "    return True"
      ]
    },
    {
      "cell_type": "markdown",
      "metadata": {
        "id": "LuwP5zQZNEis"
      },
      "source": [
        "Method 2"
      ]
    },
    {
      "cell_type": "code",
      "execution_count": 38,
      "metadata": {
        "colab": {
          "base_uri": "https://localhost:8080/"
        },
        "id": "zv2w1Y__NDhF",
        "outputId": "993bfef3-a7d9-44a3-d20c-a83e1b401b3a"
      },
      "outputs": [
        {
          "name": "stdout",
          "output_type": "stream",
          "text": [
            "----------------------------------\n",
            "The fixed points are:\n"
          ]
        }
      ],
      "source": [
        "linkedlist = []\n",
        "for i in range(len(peak_points_for_masks)):\n",
        "  for pt in peak_points_for_masks[i]:\n",
        "    # if i ==0:\n",
        "      # print(str(pt)+\" first mask points\")\n",
        "    # if pt[0] == 626 and pt[1] == 775:\n",
        "      # print(linkedlist)\n",
        "      # print()\n",
        "      # print(\"----------------------------\")\n",
        "      # print()\n",
        "    flag = True\n",
        "    for sublist in linkedlist:\n",
        "      if isClose(pt, sublist[0][0]):\n",
        "        sublist.append([pt, i])\n",
        "        flag = False\n",
        "    if flag:\n",
        "      linkedlist.append([[pt,i]])\n",
        "\n",
        "twoMaskIntersection, threeMaskIntersection = [], []\n",
        "\n",
        "for sublist in linkedlist:\n",
        "  # print(sublist)\n",
        "  c, uniqueIndex, seed = 0, [], sublist[0][0]\n",
        "  for entry in sublist:\n",
        "    if entry[1] not in uniqueIndex:\n",
        "      uniqueIndex.append(entry[1])\n",
        "      c += 1\n",
        "  if c == 2:\n",
        "    twoMaskIntersection.append([seed,uniqueIndex])\n",
        "  if c == 3:\n",
        "    threeMaskIntersection.append([seed,uniqueIndex])\n",
        "# print('####################################')\n",
        "\n",
        "if len(all_masks) >= 3:\n",
        "  for pt in twoMaskIntersection:\n",
        "    print('Point : '+ str(pt[0]) + ' Intersecting masks are : ' + str(pt[1]))\n",
        "  print('----------------------------------')\n",
        "  print(\"The fixed points are:\")\n",
        "  for pt in threeMaskIntersection:\n",
        "    print('Point : '+ str(pt[0]) + ' Intersecting masks are : ' + str(pt[1]))\n",
        "else:\n",
        "  print(\"The fixed points are:\")\n",
        "  for pt in twoMaskIntersection:\n",
        "    print('Point : '+ str(pt[0]) + ' Intersecting masks are : ' + str(pt[1]))\n"
      ]
    },
    {
      "cell_type": "markdown",
      "metadata": {
        "id": "azx-EcvHNHFc"
      },
      "source": [
        "Method 1"
      ]
    },
    {
      "cell_type": "code",
      "execution_count": 21,
      "metadata": {
        "colab": {
          "base_uri": "https://localhost:8080/"
        },
        "id": "rWXy9AGBLylK",
        "outputId": "80a3c28c-5150-4daa-88a1-9424414e4ca1"
      },
      "outputs": [
        {
          "name": "stdout",
          "output_type": "stream",
          "text": [
            "3\n"
          ]
        }
      ],
      "source": [
        "corner_pts, di, li2 = [], {}, []\n",
        "for i in range(len(peak_points_for_masks)):\n",
        "  # if i == 0:\n",
        "  #   for pt in peak_points_for_masks[i]:\n",
        "  #     flag = True\n",
        "  #     for pt1 in di.keys():\n",
        "  #       if i in di[pt1][3]:\n",
        "  #         continue\n",
        "  #       if isClose(pt, di[pt1][2]):\n",
        "  #         flag = False\n",
        "  #         di[pt1][2][0] = di[pt1][1][0] + pt[0] // 2\n",
        "  #         di[pt1][2][1] = di[pt1][1][1] + pt[1] // 2\n",
        "  #         di[pt1][1][0] = di[pt1][2][0]\n",
        "  #         di[pt1][1][1] = di[pt1][2][1]\n",
        "  #     # print(pt)\n",
        "  #     if flag:\n",
        "  #       di[tuple(pt)] = [1, pt, pt, [i]]\n",
        "  # else:\n",
        "  #   for pt in peak_points_for_masks[i]:\n",
        "  #     flag = True\n",
        "  #     for pt1 in di.keys():\n",
        "  #       if i in di[pt1][3]:\n",
        "  #         continue\n",
        "  #       if isClose(pt, di[pt1][2]):\n",
        "  #         flag = False\n",
        "  #         di[pt1][0] += 1\n",
        "  #         di[pt1][1][0] += pt[0]\n",
        "  #         di[pt1][1][1] += pt[1]\n",
        "  #         di[pt1][2][0] = di[pt1][1][0] // di[pt1][0]\n",
        "  #         di[pt1][2][1] = di[pt1][1][1] // di[pt1][0]\n",
        "  #         di[pt1][3].append(i)\n",
        "  #     if flag:\n",
        "  #       di[tuple(pt)] = [1, pt, pt, [i]]\n",
        "  for pt in peak_points_for_masks[i]:\n",
        "    flag, fl = True, True\n",
        "    for pt1 in di.keys():\n",
        "      if i in di[pt1][3]:\n",
        "        fl = False\n",
        "        continue\n",
        "        if i == 2:\n",
        "          print('ttttttt', pt, di[pt1][2],isClose(pt, di[pt1][2]))\n",
        "      if isClose(pt, di[pt1][2]):\n",
        "        flag = False\n",
        "        di[pt1][0] += 1\n",
        "        di[pt1][1][0] += pt[0]\n",
        "        di[pt1][1][1] += pt[1]\n",
        "        di[pt1][2][0] = di[pt1][1][0] // di[pt1][0]\n",
        "        di[pt1][2][1] = di[pt1][1][1] // di[pt1][0]\n",
        "        di[pt1][3].append(i)\n",
        "        break\n",
        "    if flag:\n",
        "      if fl:\n",
        "        di[tuple(pt)] = [1, pt, pt, [i]]\n",
        "      else:\n",
        "        if isClose(pt, di[pt1][2]):\n",
        "          flag = False\n",
        "          di[pt1][1][0] += pt[0]\n",
        "          di[pt1][1][1] += pt[1]\n",
        "          di[pt1][2][0] = di[pt1][1][0] // 2\n",
        "          di[pt1][2][1] = di[pt1][1][1] // 2\n",
        "          di[pt1][1][0] += di[pt1][2][0]\n",
        "          di[pt1][1][1] += di[pt1][2][1]\n",
        "print(len(di.keys()))\n",
        "for key in di.keys():\n",
        "  if di[key][0] > 1:\n",
        "    li2.append(di[key][2])\n",
        "    print(di[key][2], key, di[key][3])\n"
      ]
    },
    {
      "cell_type": "code",
      "execution_count": 22,
      "metadata": {
        "id": "NTXmc1tTghOr"
      },
      "outputs": [],
      "source": [
        "def isSame(pt, pt1):\n",
        "  if pt[0] != pt1[0] or pt[1] != pt1[1]:\n",
        "    return False\n",
        "  return True"
      ]
    },
    {
      "cell_type": "code",
      "execution_count": 23,
      "metadata": {
        "colab": {
          "base_uri": "https://localhost:8080/"
        },
        "id": "52lhw0LvUUlZ",
        "outputId": "64a0dc32-73e4-4457-9a28-600f85cb6d42"
      },
      "outputs": [
        {
          "name": "stdout",
          "output_type": "stream",
          "text": [
            "0 [  0 375]  - 1\n",
            "0 [683 421]  - 1\n",
            "0 [668 579]  - 1\n",
            "0 [ 39 641]  - 1\n",
            "1 [  0 375]  - 1\n",
            "1 [683 421]  - 1\n",
            "1 [668 579]  - 1\n",
            "1 [ 39 641]  - 1\n",
            "2 [ 0 57]  - 1\n",
            "2 [869 188]  - 1\n",
            "2 [941 377]  - 1\n",
            "2 [ 31 640]  - 1\n"
          ]
        }
      ],
      "source": [
        "li1 = []\n",
        "for i in range(len(new_rectangles)):\n",
        "  for pt in new_rectangles[i]:\n",
        "    print(i, str(pt) + '  - 1')\n",
        "    for p in li2:\n",
        "      if isClose(pt, p):\n",
        "        flag = True\n",
        "        for pt1 in li1:\n",
        "          if isSame(pt, pt1):\n",
        "            flag = False\n",
        "            break\n",
        "        if flag:\n",
        "          li1.append(pt)\n",
        "          print(i, pt, p)\n"
      ]
    },
    {
      "cell_type": "code",
      "execution_count": 24,
      "metadata": {
        "colab": {
          "base_uri": "https://localhost:8080/"
        },
        "id": "EySe1Sh0ej20",
        "outputId": "be477861-f8d7-47a7-f24f-fd23fd36e963"
      },
      "outputs": [],
      "source": [
        "li1 = []\n",
        "for i in range(len(peak_points_for_masks)):\n",
        "  for pt in peak_points_for_masks[i]:\n",
        "    # print(i, str(pt) + '  - 1')\n",
        "    for p in li2:\n",
        "      if isClose(pt, p):\n",
        "        flag = True\n",
        "        for pt1 in li1:\n",
        "          if isClose(pt, pt1):\n",
        "            flag = False\n",
        "            break\n",
        "        if flag:\n",
        "          # print(li1)\n",
        "          li1.append(p)\n",
        "          print(i, pt, p)"
      ]
    }
  ],
  "metadata": {
    "colab": {
      "provenance": []
    },
    "kernelspec": {
      "display_name": "base",
      "language": "python",
      "name": "python3"
    },
    "language_info": {
      "codemirror_mode": {
        "name": "ipython",
        "version": 3
      },
      "file_extension": ".py",
      "mimetype": "text/x-python",
      "name": "python",
      "nbconvert_exporter": "python",
      "pygments_lexer": "ipython3",
      "version": "3.10.9"
    },
    "orig_nbformat": 4
  },
  "nbformat": 4,
  "nbformat_minor": 0
}
