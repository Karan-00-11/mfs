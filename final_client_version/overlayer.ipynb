{
  "cells": [
    {
      "cell_type": "code",
      "execution_count": 1,
      "metadata": {},
      "outputs": [
        {
          "name": "stdout",
          "output_type": "stream",
          "text": [
            "c:\\Users\\DAAI.DESKTOP-128VDS1\\Documents\\deva\\mfs\\final_client_version\n"
          ]
        }
      ],
      "source": [
        "import os\n",
        "\n",
        "HOME = os.getcwd()\n",
        "print(HOME)"
      ]
    },
    {
      "cell_type": "code",
      "execution_count": 2,
      "metadata": {},
      "outputs": [],
      "source": [
        "import cv2\n",
        "import numpy as np\n",
        "import matplotlib.pyplot as plt\n",
        "import time\n",
        "from scipy.spatial import distance as dist"
      ]
    },
    {
      "cell_type": "code",
      "execution_count": 277,
      "metadata": {},
      "outputs": [],
      "source": [
        "from key_point_extractor_utils import get_rectangles\n",
        "\n",
        "class MaskBlender:\n",
        "    def __init__(self, layout_path, mat_path, src_path):\n",
        "        self.layout_path = layout_path\n",
        "        self.layout_img = cv2.imread(layout_path)\n",
        "        self.mat_path = mat_path\n",
        "        \n",
        "        self.src_img = cv2.imread(src_path)\n",
        "        \n",
        "        # processed_img_variables\n",
        "        self.rescaled_subject = None\n",
        "        self.dup_sub = None\n",
        "        self.all_rectangles = None\n",
        "        self.selected_warp = None\n",
        "        self.selected_gray_mask = None\n",
        "        self.mode = None\n",
        "        \n",
        "    def __isIn(self, point, rectangle):\n",
        "        x, y = point\n",
        "        vertices = np.append(rectangle, [rectangle[0]], axis=0)\n",
        "    \n",
        "        crossing_number = 0\n",
        "        for i in range(len(vertices) - 1):\n",
        "            x1, y1 = vertices[i]\n",
        "            x2, y2 = vertices[i + 1]\n",
        "            if ((y1 <= y < y2) or (y2 <= y < y1)) and (x < (x1 - x2) * (y - y2) / (y1 - y2) + x2):\n",
        "                crossing_number += 1\n",
        "        return crossing_number % 2 == 1\n",
        "\n",
        "    def selectRectangle(self, rectangles, cursorPosition):\n",
        "        for rect in rectangles:\n",
        "            if self.__isIn(cursorPosition, rect):\n",
        "                return rect\n",
        "        return -1\n",
        "\n",
        "    def find_rectangle_manually(self, given_mask):\n",
        "        mask = np.array(given_mask)\n",
        "        gray_mask = cv2.cvtColor(mask, cv2.COLOR_RGB2GRAY)\n",
        "        # print(*gray_mask[400])\n",
        "        row_ind = []\n",
        "        for i in range(gray_mask.shape[0]):\n",
        "            inds = np.where(gray_mask[i] == 255)[0]\n",
        "            if inds.size != 0:\n",
        "                row_ind.append(i)\n",
        "        top, bottom = row_ind[0], row_ind[-1]\n",
        "        \n",
        "        col_ind = []\n",
        "        for i in range(gray_mask.shape[1]):\n",
        "            inds = np.where(gray_mask[:, i] == 255)[0]\n",
        "            if inds.size != 0:\n",
        "                col_ind.append(i)\n",
        "        left, right = col_ind[0], col_ind[-1]\n",
        "\n",
        "        return [[left, top],\n",
        "                [right, top],\n",
        "                [right, bottom],\n",
        "                [left, bottom]\n",
        "            ]\n",
        "       \n",
        "    def __read_mask(self, mask_path):\n",
        "        mask = cv2.imread(mask_path, 0)\n",
        "        mask = cv2.cvtColor(mask, cv2.COLOR_BGR2RGB)\n",
        "        ret, bw_img = cv2.threshold(mask, 10, 255, cv2.THRESH_BINARY)\n",
        "        return bw_img\n",
        "\n",
        "    def __rescale_subject_img(self, subject_path, scale_percent):\n",
        "        temp = cv2.imread(subject_path)\n",
        "        subject_img = cv2.cvtColor(temp, cv2.COLOR_BGR2RGB)\n",
        "        \n",
        "        w_rescale, h_rescale = (subject_img.shape[1]*scale_percent)//100, (subject_img.shape[0]*scale_percent)//100\n",
        "        h, w = subject_img.shape[:-1]\n",
        "        self.rescaled_subject = cv2.resize(subject_img, [w_rescale, h_rescale], interpolation=cv2.INTER_AREA)\n",
        "        \n",
        "    def __calculate_w_h(self, polygon):\n",
        "        n_pts = len(polygon)\n",
        "        edge_2 = polygon[1:-1]\n",
        "        edge_3 = polygon[2:]\n",
        "        all_distances = {}\n",
        "        \n",
        "        for edge in [edge_2, edge_3]:\n",
        "            p1 = edge[0]\n",
        "            p2 = edge[1]\n",
        "            # print(p1, p2)\n",
        "            dist = ((p2[0] - p1[0]) ** 2 + (p2[1] - p1[1]) ** 2) ** 0.5\n",
        "            all_distances[dist] = [p1, p2]\n",
        "            # print(all_distances)\n",
        "        return [*all_distances.keys()]\n",
        "    \n",
        "    def __replicate_subject(self, polygon):\n",
        "        if self.mode == 0:\n",
        "            h_subject, w_subject = self.rescaled_subject.shape[:2]\n",
        "\n",
        "            h_base, _ = self.layout_img.shape[:2]\n",
        "            _, w_base = self.__calculate_w_h(polygon)\n",
        "            \n",
        "            num_of_tiles_per_row = round(h_base / h_subject)\n",
        "            num_of_tiles_per_col = round(w_base / w_subject)\n",
        "            # print(num_of_tiles_per_row, num_of_tiles_per_col)\n",
        "\n",
        "            dup_cols = self.rescaled_subject.copy()\n",
        "            ## duplicate the subject image\n",
        "            for i in range(num_of_tiles_per_col):\n",
        "                dup_cols = np.concatenate([dup_cols, self.rescaled_subject], axis = 1)\n",
        "            dup_rows = dup_cols.copy()\n",
        "            for i in range(num_of_tiles_per_row):\n",
        "                dup_rows = np.concatenate([dup_rows, dup_cols], axis=0)\n",
        "            \n",
        "            duplicated_tiles = dup_rows.copy()\n",
        "            # plt.imshow(duplicated_tiles)\n",
        "        else:\n",
        "            h_subject, w_subject = self.rescaled_subject.shape[:2]\n",
        "\n",
        "            h_base, w_base = self.layout_img.shape[:2]\n",
        "            _, _ = self.__calculate_w_h(polygon)\n",
        "            \n",
        "            num_of_tiles_per_row = round(h_base / h_subject)\n",
        "            num_of_tiles_per_col = round(w_base / w_subject)\n",
        "            # print(num_of_tiles_per_row, num_of_tiles_per_col)\n",
        "\n",
        "            dup_cols = self.rescaled_subject.copy()\n",
        "            ## duplicate the subject image\n",
        "            for i in range(num_of_tiles_per_col):\n",
        "                dup_cols = np.concatenate([dup_cols, self.rescaled_subject], axis = 1)\n",
        "            dup_rows = dup_cols.copy()\n",
        "            for i in range(num_of_tiles_per_row):\n",
        "                dup_rows = np.concatenate([dup_rows, dup_cols], axis=0)\n",
        "            \n",
        "            duplicated_tiles = dup_rows.copy()\n",
        "            # plt.imshow(duplicated_tiles)\n",
        "        \n",
        "        self.dup_sub = duplicated_tiles\n",
        "        return duplicated_tiles\n",
        "    \n",
        "    def perspective_warp(self, polygon):\n",
        "        if len(polygon) > 4:\n",
        "            sorted_pts = self.__reduce_points(polygon)\n",
        "        else:\n",
        "            sorted_pts = polygon\n",
        "        \n",
        "        # print(sorted_pts)\n",
        "        duplicated_sub = self.__replicate_subject(sorted_pts)\n",
        "        # plt.imshow(duplicated_sub)\n",
        "        h_base, w_base, c_base = self.layout_img.shape\n",
        "        h_subject, w_subject = duplicated_sub.shape[:2]\n",
        "        pts1 = np.float32([[0, 0], [w_subject, 0], [w_subject, h_subject], [0, h_subject]])\n",
        "        pts2 = np.float32(sorted_pts)\n",
        "        # print(pts1, pts2)\n",
        "\n",
        "        transformation_matrix = cv2.getPerspectiveTransform(pts1, pts2)\n",
        "        # print(transformation_matrix)\n",
        "        warped_img = cv2.warpPerspective(duplicated_sub, transformation_matrix, (w_base, h_base))\n",
        "        # plt.imshow(warped_img)\n",
        "        return warped_img\n",
        "    \n",
        "    def __combine_warps(self):        \n",
        "        combined_warp = np.zeros(self.layout_img.shape, dtype=np.uint8)\n",
        "        for polygon in self.all_rectangles:\n",
        "            warp = self.perspective_warp(polygon)\n",
        "            combined_warp = cv2.bitwise_or(combined_warp, warp)\n",
        "        return combined_warp\n",
        "    \n",
        "    def convert_png_save(self, transformed_warp):\n",
        "        tmp = cv2.cvtColor(transformed_img, cv2.COLOR_BGR2GRAY)\n",
        "        _, alpha = cv2.threshold(tmp, 0, 255, cv2.THRESH_BINARY)\n",
        "        b, g, r = cv2.split(transformed_img)\n",
        "        \n",
        "        rgba = [r, g, b, alpha]\n",
        "        dst = cv2.merge(rgba, 4)\n",
        "        cv2.imwrite(\"out/out.png\", dst)\n",
        "\n",
        "    def implant_overlay(self, subject_path, mask_path, rescale_percent, mode=0):\n",
        "        self.mode = mode\n",
        "\n",
        "        selected_mask = self.__read_mask(mask_path)\n",
        "        self.selected_gray_mask = cv2.cvtColor(selected_mask, cv2.COLOR_RGB2GRAY)\n",
        "        overlay_coordinates = np.where(self.selected_gray_mask > 0)\n",
        "\n",
        "        self.__rescale_subject_img(subject_path, rescale_percent)\n",
        "        \n",
        "        if mode == 0:\n",
        "            self.rectangles = get_rectangles(self.layout_path, self.mat_path)\n",
        "            self.all_rectangles = self.rectangles[0].copy()\n",
        "            self.all_rectangles.extend(self.rectangles[1])    \n",
        "\n",
        "            self.selected_warp = self.__combine_warps()\n",
        "            transformed_warp = cv2.bitwise_and(self.selected_warp, selected_mask)\n",
        "\n",
        "        elif mode == 1:\n",
        "            self.__rescale_subject_img(subject_path, rescale_percent)\n",
        "            selected_rect = self.find_rectangle_manually(selected_mask)\n",
        "\n",
        "            h_subject, w_subject = self.src_img.shape[:2]\n",
        "            pts1 = np.float32([[0, 0], [w_subject, 0], [w_subject, h_subject], [0, h_subject]])\n",
        "            self.selected_warp = self.perspective_warp(pts1)\n",
        "            transformed_warp = cv2.bitwise_and(self.selected_warp, selected_mask)\n",
        "        \n",
        "        self.convert_png_save(transformed_warp)\n",
        "        return transformed_warp"
      ]
    },
    {
      "cell_type": "markdown",
      "metadata": {},
      "source": [
        "### Right after the layout maps are generated, instantiate the MaskBlender class"
      ]
    },
    {
      "cell_type": "code",
      "execution_count": 278,
      "metadata": {},
      "outputs": [
        {
          "data": {
            "text/plain": [
              "'0.016s'"
            ]
          },
          "execution_count": 278,
          "metadata": {},
          "output_type": "execute_result"
        }
      ],
      "source": [
        "layout_path = \"layout_output/3.jpeg\"\n",
        "layout_mat_path = \"layout_output/3.txt\"\n",
        "src_img_path = 'src_img/3.jpeg'\n",
        "\n",
        "st = time.time()\n",
        "blender = MaskBlender(\n",
        "        layout_path,\n",
        "        layout_mat_path,\n",
        "        src_img_path,\n",
        "        )\n",
        "et = time.time()\n",
        "\"{:.3f}s\".format(et-st)"
      ]
    },
    {
      "cell_type": "markdown",
      "metadata": {},
      "source": [
        "### After the user selects a wall or a floor, call the implant_overlay method"
      ]
    },
    {
      "cell_type": "markdown",
      "metadata": {},
      "source": [
        "not_working - 3, img2\n",
        "not_proper - img8, img9, test3, test4"
      ]
    },
    {
      "cell_type": "code",
      "execution_count": 279,
      "metadata": {},
      "outputs": [],
      "source": [
        "subject_rescale_percent = 70\n",
        "mask_path = 'masks/3/wall.png'\n",
        "# product_path = 'product_img/NeroSensation.jpg'\n",
        "product_path1 = 'products/Stone/95_floral wallpaper texture-seamless.jpg'\n",
        "product_path2 = 'products/Wallpapers/95_floral wallpaper texture-seamless.jpg'\n",
        "product_path3 = 'products/Paints/95_floral wallpaper texture-seamless.jpg'\n",
        "\n",
        "transformed_img = blender.implant_overlay(product_path2, \n",
        "                                    mask_path,\n",
        "                                    subject_rescale_percent,\n",
        "                                    mode=1\n",
        "                                    )"
      ]
    },
    {
      "cell_type": "code",
      "execution_count": 280,
      "metadata": {},
      "outputs": [
        {
          "data": {
            "text/plain": [
              "<matplotlib.image.AxesImage at 0x2402750ff10>"
            ]
          },
          "execution_count": 280,
          "metadata": {},
          "output_type": "execute_result"
        },
        {
          "data": {
            "image/png": "[encoded data removed]",
            "text/plain": [
              "<Figure size 640x480 with 1 Axes>"
            ]
          },
          "metadata": {},
          "output_type": "display_data"
        }
      ],
      "source": [
        "plt.imshow(transformed_img)"
      ]
    }
  ],
  "metadata": {
    "colab": {
      "provenance": []
    },
    "kernelspec": {
      "display_name": "Python 3",
      "name": "python3"
    },
    "language_info": {
      "codemirror_mode": {
        "name": "ipython",
        "version": 3
      },
      "file_extension": ".py",
      "mimetype": "text/x-python",
      "name": "python",
      "nbconvert_exporter": "python",
      "pygments_lexer": "ipython3",
      "version": "3.10.9"
    }
  },
  "nbformat": 4,
  "nbformat_minor": 0
}
